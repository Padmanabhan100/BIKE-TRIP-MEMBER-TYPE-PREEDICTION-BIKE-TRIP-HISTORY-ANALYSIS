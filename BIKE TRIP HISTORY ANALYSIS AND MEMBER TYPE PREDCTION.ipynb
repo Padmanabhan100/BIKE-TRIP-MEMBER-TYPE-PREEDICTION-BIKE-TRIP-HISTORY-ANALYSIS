{
 "cells": [
  {
   "cell_type": "markdown",
   "metadata": {},
   "source": [
    "## Trip History Data\n",
    "\n",
    "Each quarter, we publish downloadable files of Capital Bikeshare trip data. The data includes:\n",
    "\n",
    "* Duration – Duration of trip\n",
    "* Start Date – Includes start date and time\n",
    "* End Date – Includes end date and time\n",
    "* Start Station – Includes starting station name and number\n",
    "* End Station – Includes ending station name and number\n",
    "* Bike Number – Includes ID number of bike used for the trip\n",
    "* Member Type – Indicates whether user was a \"registered\" member (Annual Member, 30-Day Member or Day Key Member) or a \"casual\" rider (Single Trip, 24-Hour Pass, 3-Day Pass or 5-Day Pass)\n",
    "\n",
    "This data has been processed to remove trips that are taken by staff as they service and inspect the system, trips that are taken to/from any of our “test” stations at our warehouses and any trips lasting less than 60 seconds (potentially false starts or users trying to re-dock a bike to ensure it's secure)."
   ]
  },
  {
   "cell_type": "markdown",
   "metadata": {},
   "source": [
    "### NOTE ---- \n",
    "\n",
    "   * THIS DATA IS OF YEAR 2010"
   ]
  },
  {
   "cell_type": "code",
   "execution_count": 1,
   "metadata": {},
   "outputs": [],
   "source": [
    "import pandas as pd\n",
    "import numpy as np\n",
    "import seaborn as sns\n",
    "import matplotlib.pyplot as plt\n",
    "from matplotlib.pyplot import suptitle"
   ]
  },
  {
   "cell_type": "code",
   "execution_count": 2,
   "metadata": {},
   "outputs": [],
   "source": [
    "df = pd.read_csv(\"E:/Kaggle Datasets/bike_data/bike_data.csv\")"
   ]
  },
  {
   "cell_type": "markdown",
   "metadata": {},
   "source": [
    "##### EXPLORING DATA"
   ]
  },
  {
   "cell_type": "code",
   "execution_count": 3,
   "metadata": {},
   "outputs": [
    {
     "data": {
      "text/html": [
       "<div>\n",
       "<style scoped>\n",
       "    .dataframe tbody tr th:only-of-type {\n",
       "        vertical-align: middle;\n",
       "    }\n",
       "\n",
       "    .dataframe tbody tr th {\n",
       "        vertical-align: top;\n",
       "    }\n",
       "\n",
       "    .dataframe thead th {\n",
       "        text-align: right;\n",
       "    }\n",
       "</style>\n",
       "<table border=\"1\" class=\"dataframe\">\n",
       "  <thead>\n",
       "    <tr style=\"text-align: right;\">\n",
       "      <th></th>\n",
       "      <th>Duration</th>\n",
       "      <th>Start date</th>\n",
       "      <th>End date</th>\n",
       "      <th>Start station number</th>\n",
       "      <th>Start station</th>\n",
       "      <th>End station number</th>\n",
       "      <th>End station</th>\n",
       "      <th>Bike number</th>\n",
       "      <th>Member type</th>\n",
       "    </tr>\n",
       "  </thead>\n",
       "  <tbody>\n",
       "    <tr>\n",
       "      <th>0</th>\n",
       "      <td>1012</td>\n",
       "      <td>2010-09-20 11:27:04</td>\n",
       "      <td>2010-09-20 11:43:56</td>\n",
       "      <td>31208</td>\n",
       "      <td>M St &amp; New Jersey Ave SE</td>\n",
       "      <td>31108</td>\n",
       "      <td>4th &amp; M St SW</td>\n",
       "      <td>W00742</td>\n",
       "      <td>Member</td>\n",
       "    </tr>\n",
       "    <tr>\n",
       "      <th>1</th>\n",
       "      <td>61</td>\n",
       "      <td>2010-09-20 11:41:22</td>\n",
       "      <td>2010-09-20 11:42:23</td>\n",
       "      <td>31209</td>\n",
       "      <td>1st &amp; N St  SE</td>\n",
       "      <td>31209</td>\n",
       "      <td>1st &amp; N St  SE</td>\n",
       "      <td>W00032</td>\n",
       "      <td>Member</td>\n",
       "    </tr>\n",
       "    <tr>\n",
       "      <th>2</th>\n",
       "      <td>2690</td>\n",
       "      <td>2010-09-20 12:05:37</td>\n",
       "      <td>2010-09-20 12:50:27</td>\n",
       "      <td>31600</td>\n",
       "      <td>5th &amp; K St NW</td>\n",
       "      <td>31100</td>\n",
       "      <td>19th St &amp; Pennsylvania Ave NW</td>\n",
       "      <td>W00993</td>\n",
       "      <td>Member</td>\n",
       "    </tr>\n",
       "    <tr>\n",
       "      <th>3</th>\n",
       "      <td>1406</td>\n",
       "      <td>2010-09-20 12:06:05</td>\n",
       "      <td>2010-09-20 12:29:32</td>\n",
       "      <td>31600</td>\n",
       "      <td>5th &amp; K St NW</td>\n",
       "      <td>31602</td>\n",
       "      <td>Park Rd &amp; Holmead Pl NW</td>\n",
       "      <td>W00344</td>\n",
       "      <td>Member</td>\n",
       "    </tr>\n",
       "    <tr>\n",
       "      <th>4</th>\n",
       "      <td>1413</td>\n",
       "      <td>2010-09-20 12:10:43</td>\n",
       "      <td>2010-09-20 12:34:17</td>\n",
       "      <td>31100</td>\n",
       "      <td>19th St &amp; Pennsylvania Ave NW</td>\n",
       "      <td>31201</td>\n",
       "      <td>15th &amp; P St NW</td>\n",
       "      <td>W00883</td>\n",
       "      <td>Member</td>\n",
       "    </tr>\n",
       "  </tbody>\n",
       "</table>\n",
       "</div>"
      ],
      "text/plain": [
       "   Duration           Start date             End date  Start station number  \\\n",
       "0      1012  2010-09-20 11:27:04  2010-09-20 11:43:56                 31208   \n",
       "1        61  2010-09-20 11:41:22  2010-09-20 11:42:23                 31209   \n",
       "2      2690  2010-09-20 12:05:37  2010-09-20 12:50:27                 31600   \n",
       "3      1406  2010-09-20 12:06:05  2010-09-20 12:29:32                 31600   \n",
       "4      1413  2010-09-20 12:10:43  2010-09-20 12:34:17                 31100   \n",
       "\n",
       "                   Start station  End station number  \\\n",
       "0       M St & New Jersey Ave SE               31108   \n",
       "1                 1st & N St  SE               31209   \n",
       "2                  5th & K St NW               31100   \n",
       "3                  5th & K St NW               31602   \n",
       "4  19th St & Pennsylvania Ave NW               31201   \n",
       "\n",
       "                     End station Bike number Member type  \n",
       "0                  4th & M St SW      W00742      Member  \n",
       "1                 1st & N St  SE      W00032      Member  \n",
       "2  19th St & Pennsylvania Ave NW      W00993      Member  \n",
       "3        Park Rd & Holmead Pl NW      W00344      Member  \n",
       "4                 15th & P St NW      W00883      Member  "
      ]
     },
     "execution_count": 3,
     "metadata": {},
     "output_type": "execute_result"
    }
   ],
   "source": [
    "df.head()"
   ]
  },
  {
   "cell_type": "code",
   "execution_count": 4,
   "metadata": {},
   "outputs": [
    {
     "name": "stdout",
     "output_type": "stream",
     "text": [
      "<class 'pandas.core.frame.DataFrame'>\n",
      "RangeIndex: 115597 entries, 0 to 115596\n",
      "Data columns (total 9 columns):\n",
      "Duration                115597 non-null int64\n",
      "Start date              115597 non-null object\n",
      "End date                115597 non-null object\n",
      "Start station number    115597 non-null int64\n",
      "Start station           115597 non-null object\n",
      "End station number      115597 non-null int64\n",
      "End station             115597 non-null object\n",
      "Bike number             115597 non-null object\n",
      "Member type             115597 non-null object\n",
      "dtypes: int64(3), object(6)\n",
      "memory usage: 7.9+ MB\n"
     ]
    }
   ],
   "source": [
    "df.info()"
   ]
  },
  {
   "cell_type": "code",
   "execution_count": 5,
   "metadata": {},
   "outputs": [
    {
     "data": {
      "text/plain": [
       "(115597, 9)"
      ]
     },
     "execution_count": 5,
     "metadata": {},
     "output_type": "execute_result"
    }
   ],
   "source": [
    "df.shape"
   ]
  },
  {
   "cell_type": "code",
   "execution_count": 6,
   "metadata": {},
   "outputs": [
    {
     "data": {
      "text/plain": [
       "array(['Member', 'Casual', 'Unknown'], dtype=object)"
      ]
     },
     "execution_count": 6,
     "metadata": {},
     "output_type": "execute_result"
    }
   ],
   "source": [
    "df['Member type'].unique()"
   ]
  },
  {
   "cell_type": "code",
   "execution_count": 7,
   "metadata": {},
   "outputs": [
    {
     "data": {
      "text/plain": [
       "Member     91586\n",
       "Casual     24001\n",
       "Unknown       10\n",
       "Name: Member type, dtype: int64"
      ]
     },
     "execution_count": 7,
     "metadata": {},
     "output_type": "execute_result"
    }
   ],
   "source": [
    "df[\"Member type\"].value_counts()"
   ]
  },
  {
   "cell_type": "markdown",
   "metadata": {},
   "source": [
    "###### CHECKING FOR NULL VALUES"
   ]
  },
  {
   "cell_type": "code",
   "execution_count": 8,
   "metadata": {},
   "outputs": [
    {
     "data": {
      "text/plain": [
       "Duration                0.0\n",
       "Start date              0.0\n",
       "End date                0.0\n",
       "Start station number    0.0\n",
       "Start station           0.0\n",
       "End station number      0.0\n",
       "End station             0.0\n",
       "Bike number             0.0\n",
       "Member type             0.0\n",
       "dtype: float64"
      ]
     },
     "execution_count": 8,
     "metadata": {},
     "output_type": "execute_result"
    }
   ],
   "source": [
    "df.isnull().mean()"
   ]
  },
  {
   "cell_type": "markdown",
   "metadata": {},
   "source": [
    "## FEATURE ENGINEERING (FOR ANALYSIS)"
   ]
  },
  {
   "cell_type": "code",
   "execution_count": 9,
   "metadata": {},
   "outputs": [
    {
     "data": {
      "text/plain": [
       "0    2010-09-20 11:27:04\n",
       "1    2010-09-20 11:41:22\n",
       "2    2010-09-20 12:05:37\n",
       "3    2010-09-20 12:06:05\n",
       "4    2010-09-20 12:10:43\n",
       "5    2010-09-20 12:14:27\n",
       "6    2010-09-20 12:15:26\n",
       "7    2010-09-20 12:16:36\n",
       "8    2010-09-20 12:18:38\n",
       "9    2010-09-20 12:19:46\n",
       "Name: Start date, dtype: object"
      ]
     },
     "execution_count": 9,
     "metadata": {},
     "output_type": "execute_result"
    }
   ],
   "source": [
    "df['Start date'].head(10)"
   ]
  },
  {
   "cell_type": "code",
   "execution_count": 10,
   "metadata": {},
   "outputs": [
    {
     "data": {
      "text/plain": [
       "0    2010-09-20 11:43:56\n",
       "1    2010-09-20 11:42:23\n",
       "2    2010-09-20 12:50:27\n",
       "3    2010-09-20 12:29:32\n",
       "4    2010-09-20 12:34:17\n",
       "5    2010-09-20 12:30:50\n",
       "6    2010-09-20 12:30:56\n",
       "7    2010-09-20 12:44:15\n",
       "8    2010-09-20 13:00:15\n",
       "9    2010-09-20 12:44:34\n",
       "Name: End date, dtype: object"
      ]
     },
     "execution_count": 10,
     "metadata": {},
     "output_type": "execute_result"
    }
   ],
   "source": [
    "df['End date'].head(10)"
   ]
  },
  {
   "cell_type": "markdown",
   "metadata": {},
   "source": [
    "#### FILTERING DATE TO DATE AND TIME"
   ]
  },
  {
   "cell_type": "code",
   "execution_count": 9,
   "metadata": {},
   "outputs": [],
   "source": [
    "def filter_date(df,feature):\n",
    "    global date\n",
    "    global time\n",
    "    date = []\n",
    "    time = []\n",
    "    for i in df[feature]:\n",
    "        x = i.split(\" \")\n",
    "        date.append(x[0])\n",
    "        time.append(x[1])"
   ]
  },
  {
   "cell_type": "code",
   "execution_count": 10,
   "metadata": {},
   "outputs": [],
   "source": [
    "filter_date(df,'Start date')"
   ]
  },
  {
   "cell_type": "code",
   "execution_count": 11,
   "metadata": {},
   "outputs": [
    {
     "data": {
      "text/plain": [
       "['2010-09-20', '2010-09-20', '2010-09-20', '2010-09-20', '2010-09-20']"
      ]
     },
     "execution_count": 11,
     "metadata": {},
     "output_type": "execute_result"
    }
   ],
   "source": [
    "date[0:5]"
   ]
  },
  {
   "cell_type": "code",
   "execution_count": 12,
   "metadata": {},
   "outputs": [
    {
     "data": {
      "text/plain": [
       "['11:27:04', '11:41:22', '12:05:37', '12:06:05', '12:10:43']"
      ]
     },
     "execution_count": 12,
     "metadata": {},
     "output_type": "execute_result"
    }
   ],
   "source": [
    "time[0:5]"
   ]
  },
  {
   "cell_type": "code",
   "execution_count": 13,
   "metadata": {},
   "outputs": [],
   "source": [
    "df['Start_Date'] = date"
   ]
  },
  {
   "cell_type": "code",
   "execution_count": 14,
   "metadata": {},
   "outputs": [],
   "source": [
    "df['Start_Time'] = time"
   ]
  },
  {
   "cell_type": "code",
   "execution_count": 15,
   "metadata": {},
   "outputs": [
    {
     "data": {
      "text/html": [
       "<div>\n",
       "<style scoped>\n",
       "    .dataframe tbody tr th:only-of-type {\n",
       "        vertical-align: middle;\n",
       "    }\n",
       "\n",
       "    .dataframe tbody tr th {\n",
       "        vertical-align: top;\n",
       "    }\n",
       "\n",
       "    .dataframe thead th {\n",
       "        text-align: right;\n",
       "    }\n",
       "</style>\n",
       "<table border=\"1\" class=\"dataframe\">\n",
       "  <thead>\n",
       "    <tr style=\"text-align: right;\">\n",
       "      <th></th>\n",
       "      <th>Duration</th>\n",
       "      <th>Start date</th>\n",
       "      <th>End date</th>\n",
       "      <th>Start station number</th>\n",
       "      <th>Start station</th>\n",
       "      <th>End station number</th>\n",
       "      <th>End station</th>\n",
       "      <th>Bike number</th>\n",
       "      <th>Member type</th>\n",
       "      <th>Start_Date</th>\n",
       "      <th>Start_Time</th>\n",
       "    </tr>\n",
       "  </thead>\n",
       "  <tbody>\n",
       "    <tr>\n",
       "      <th>0</th>\n",
       "      <td>1012</td>\n",
       "      <td>2010-09-20 11:27:04</td>\n",
       "      <td>2010-09-20 11:43:56</td>\n",
       "      <td>31208</td>\n",
       "      <td>M St &amp; New Jersey Ave SE</td>\n",
       "      <td>31108</td>\n",
       "      <td>4th &amp; M St SW</td>\n",
       "      <td>W00742</td>\n",
       "      <td>Member</td>\n",
       "      <td>2010-09-20</td>\n",
       "      <td>11:27:04</td>\n",
       "    </tr>\n",
       "    <tr>\n",
       "      <th>1</th>\n",
       "      <td>61</td>\n",
       "      <td>2010-09-20 11:41:22</td>\n",
       "      <td>2010-09-20 11:42:23</td>\n",
       "      <td>31209</td>\n",
       "      <td>1st &amp; N St  SE</td>\n",
       "      <td>31209</td>\n",
       "      <td>1st &amp; N St  SE</td>\n",
       "      <td>W00032</td>\n",
       "      <td>Member</td>\n",
       "      <td>2010-09-20</td>\n",
       "      <td>11:41:22</td>\n",
       "    </tr>\n",
       "    <tr>\n",
       "      <th>2</th>\n",
       "      <td>2690</td>\n",
       "      <td>2010-09-20 12:05:37</td>\n",
       "      <td>2010-09-20 12:50:27</td>\n",
       "      <td>31600</td>\n",
       "      <td>5th &amp; K St NW</td>\n",
       "      <td>31100</td>\n",
       "      <td>19th St &amp; Pennsylvania Ave NW</td>\n",
       "      <td>W00993</td>\n",
       "      <td>Member</td>\n",
       "      <td>2010-09-20</td>\n",
       "      <td>12:05:37</td>\n",
       "    </tr>\n",
       "    <tr>\n",
       "      <th>3</th>\n",
       "      <td>1406</td>\n",
       "      <td>2010-09-20 12:06:05</td>\n",
       "      <td>2010-09-20 12:29:32</td>\n",
       "      <td>31600</td>\n",
       "      <td>5th &amp; K St NW</td>\n",
       "      <td>31602</td>\n",
       "      <td>Park Rd &amp; Holmead Pl NW</td>\n",
       "      <td>W00344</td>\n",
       "      <td>Member</td>\n",
       "      <td>2010-09-20</td>\n",
       "      <td>12:06:05</td>\n",
       "    </tr>\n",
       "    <tr>\n",
       "      <th>4</th>\n",
       "      <td>1413</td>\n",
       "      <td>2010-09-20 12:10:43</td>\n",
       "      <td>2010-09-20 12:34:17</td>\n",
       "      <td>31100</td>\n",
       "      <td>19th St &amp; Pennsylvania Ave NW</td>\n",
       "      <td>31201</td>\n",
       "      <td>15th &amp; P St NW</td>\n",
       "      <td>W00883</td>\n",
       "      <td>Member</td>\n",
       "      <td>2010-09-20</td>\n",
       "      <td>12:10:43</td>\n",
       "    </tr>\n",
       "  </tbody>\n",
       "</table>\n",
       "</div>"
      ],
      "text/plain": [
       "   Duration           Start date             End date  Start station number  \\\n",
       "0      1012  2010-09-20 11:27:04  2010-09-20 11:43:56                 31208   \n",
       "1        61  2010-09-20 11:41:22  2010-09-20 11:42:23                 31209   \n",
       "2      2690  2010-09-20 12:05:37  2010-09-20 12:50:27                 31600   \n",
       "3      1406  2010-09-20 12:06:05  2010-09-20 12:29:32                 31600   \n",
       "4      1413  2010-09-20 12:10:43  2010-09-20 12:34:17                 31100   \n",
       "\n",
       "                   Start station  End station number  \\\n",
       "0       M St & New Jersey Ave SE               31108   \n",
       "1                 1st & N St  SE               31209   \n",
       "2                  5th & K St NW               31100   \n",
       "3                  5th & K St NW               31602   \n",
       "4  19th St & Pennsylvania Ave NW               31201   \n",
       "\n",
       "                     End station Bike number Member type  Start_Date  \\\n",
       "0                  4th & M St SW      W00742      Member  2010-09-20   \n",
       "1                 1st & N St  SE      W00032      Member  2010-09-20   \n",
       "2  19th St & Pennsylvania Ave NW      W00993      Member  2010-09-20   \n",
       "3        Park Rd & Holmead Pl NW      W00344      Member  2010-09-20   \n",
       "4                 15th & P St NW      W00883      Member  2010-09-20   \n",
       "\n",
       "  Start_Time  \n",
       "0   11:27:04  \n",
       "1   11:41:22  \n",
       "2   12:05:37  \n",
       "3   12:06:05  \n",
       "4   12:10:43  "
      ]
     },
     "execution_count": 15,
     "metadata": {},
     "output_type": "execute_result"
    }
   ],
   "source": [
    "df.head()"
   ]
  },
  {
   "cell_type": "code",
   "execution_count": 16,
   "metadata": {},
   "outputs": [],
   "source": [
    "filter_date(df,\"End date\")"
   ]
  },
  {
   "cell_type": "code",
   "execution_count": 17,
   "metadata": {},
   "outputs": [
    {
     "data": {
      "text/plain": [
       "['2010-09-20', '2010-09-20', '2010-09-20', '2010-09-20', '2010-09-20']"
      ]
     },
     "execution_count": 17,
     "metadata": {},
     "output_type": "execute_result"
    }
   ],
   "source": [
    "date[0:5]"
   ]
  },
  {
   "cell_type": "code",
   "execution_count": 18,
   "metadata": {},
   "outputs": [
    {
     "data": {
      "text/plain": [
       "['11:43:56', '11:42:23', '12:50:27', '12:29:32', '12:34:17']"
      ]
     },
     "execution_count": 18,
     "metadata": {},
     "output_type": "execute_result"
    }
   ],
   "source": [
    "time[0:5]"
   ]
  },
  {
   "cell_type": "code",
   "execution_count": 19,
   "metadata": {},
   "outputs": [],
   "source": [
    "df['End_Date'] = date"
   ]
  },
  {
   "cell_type": "code",
   "execution_count": 20,
   "metadata": {},
   "outputs": [],
   "source": [
    "df['End_Time'] = time"
   ]
  },
  {
   "cell_type": "code",
   "execution_count": 21,
   "metadata": {},
   "outputs": [
    {
     "data": {
      "text/html": [
       "<div>\n",
       "<style scoped>\n",
       "    .dataframe tbody tr th:only-of-type {\n",
       "        vertical-align: middle;\n",
       "    }\n",
       "\n",
       "    .dataframe tbody tr th {\n",
       "        vertical-align: top;\n",
       "    }\n",
       "\n",
       "    .dataframe thead th {\n",
       "        text-align: right;\n",
       "    }\n",
       "</style>\n",
       "<table border=\"1\" class=\"dataframe\">\n",
       "  <thead>\n",
       "    <tr style=\"text-align: right;\">\n",
       "      <th></th>\n",
       "      <th>Duration</th>\n",
       "      <th>Start date</th>\n",
       "      <th>End date</th>\n",
       "      <th>Start station number</th>\n",
       "      <th>Start station</th>\n",
       "      <th>End station number</th>\n",
       "      <th>End station</th>\n",
       "      <th>Bike number</th>\n",
       "      <th>Member type</th>\n",
       "      <th>Start_Date</th>\n",
       "      <th>Start_Time</th>\n",
       "      <th>End_Date</th>\n",
       "      <th>End_Time</th>\n",
       "    </tr>\n",
       "  </thead>\n",
       "  <tbody>\n",
       "    <tr>\n",
       "      <th>0</th>\n",
       "      <td>1012</td>\n",
       "      <td>2010-09-20 11:27:04</td>\n",
       "      <td>2010-09-20 11:43:56</td>\n",
       "      <td>31208</td>\n",
       "      <td>M St &amp; New Jersey Ave SE</td>\n",
       "      <td>31108</td>\n",
       "      <td>4th &amp; M St SW</td>\n",
       "      <td>W00742</td>\n",
       "      <td>Member</td>\n",
       "      <td>2010-09-20</td>\n",
       "      <td>11:27:04</td>\n",
       "      <td>2010-09-20</td>\n",
       "      <td>11:43:56</td>\n",
       "    </tr>\n",
       "    <tr>\n",
       "      <th>1</th>\n",
       "      <td>61</td>\n",
       "      <td>2010-09-20 11:41:22</td>\n",
       "      <td>2010-09-20 11:42:23</td>\n",
       "      <td>31209</td>\n",
       "      <td>1st &amp; N St  SE</td>\n",
       "      <td>31209</td>\n",
       "      <td>1st &amp; N St  SE</td>\n",
       "      <td>W00032</td>\n",
       "      <td>Member</td>\n",
       "      <td>2010-09-20</td>\n",
       "      <td>11:41:22</td>\n",
       "      <td>2010-09-20</td>\n",
       "      <td>11:42:23</td>\n",
       "    </tr>\n",
       "    <tr>\n",
       "      <th>2</th>\n",
       "      <td>2690</td>\n",
       "      <td>2010-09-20 12:05:37</td>\n",
       "      <td>2010-09-20 12:50:27</td>\n",
       "      <td>31600</td>\n",
       "      <td>5th &amp; K St NW</td>\n",
       "      <td>31100</td>\n",
       "      <td>19th St &amp; Pennsylvania Ave NW</td>\n",
       "      <td>W00993</td>\n",
       "      <td>Member</td>\n",
       "      <td>2010-09-20</td>\n",
       "      <td>12:05:37</td>\n",
       "      <td>2010-09-20</td>\n",
       "      <td>12:50:27</td>\n",
       "    </tr>\n",
       "    <tr>\n",
       "      <th>3</th>\n",
       "      <td>1406</td>\n",
       "      <td>2010-09-20 12:06:05</td>\n",
       "      <td>2010-09-20 12:29:32</td>\n",
       "      <td>31600</td>\n",
       "      <td>5th &amp; K St NW</td>\n",
       "      <td>31602</td>\n",
       "      <td>Park Rd &amp; Holmead Pl NW</td>\n",
       "      <td>W00344</td>\n",
       "      <td>Member</td>\n",
       "      <td>2010-09-20</td>\n",
       "      <td>12:06:05</td>\n",
       "      <td>2010-09-20</td>\n",
       "      <td>12:29:32</td>\n",
       "    </tr>\n",
       "    <tr>\n",
       "      <th>4</th>\n",
       "      <td>1413</td>\n",
       "      <td>2010-09-20 12:10:43</td>\n",
       "      <td>2010-09-20 12:34:17</td>\n",
       "      <td>31100</td>\n",
       "      <td>19th St &amp; Pennsylvania Ave NW</td>\n",
       "      <td>31201</td>\n",
       "      <td>15th &amp; P St NW</td>\n",
       "      <td>W00883</td>\n",
       "      <td>Member</td>\n",
       "      <td>2010-09-20</td>\n",
       "      <td>12:10:43</td>\n",
       "      <td>2010-09-20</td>\n",
       "      <td>12:34:17</td>\n",
       "    </tr>\n",
       "  </tbody>\n",
       "</table>\n",
       "</div>"
      ],
      "text/plain": [
       "   Duration           Start date             End date  Start station number  \\\n",
       "0      1012  2010-09-20 11:27:04  2010-09-20 11:43:56                 31208   \n",
       "1        61  2010-09-20 11:41:22  2010-09-20 11:42:23                 31209   \n",
       "2      2690  2010-09-20 12:05:37  2010-09-20 12:50:27                 31600   \n",
       "3      1406  2010-09-20 12:06:05  2010-09-20 12:29:32                 31600   \n",
       "4      1413  2010-09-20 12:10:43  2010-09-20 12:34:17                 31100   \n",
       "\n",
       "                   Start station  End station number  \\\n",
       "0       M St & New Jersey Ave SE               31108   \n",
       "1                 1st & N St  SE               31209   \n",
       "2                  5th & K St NW               31100   \n",
       "3                  5th & K St NW               31602   \n",
       "4  19th St & Pennsylvania Ave NW               31201   \n",
       "\n",
       "                     End station Bike number Member type  Start_Date  \\\n",
       "0                  4th & M St SW      W00742      Member  2010-09-20   \n",
       "1                 1st & N St  SE      W00032      Member  2010-09-20   \n",
       "2  19th St & Pennsylvania Ave NW      W00993      Member  2010-09-20   \n",
       "3        Park Rd & Holmead Pl NW      W00344      Member  2010-09-20   \n",
       "4                 15th & P St NW      W00883      Member  2010-09-20   \n",
       "\n",
       "  Start_Time    End_Date  End_Time  \n",
       "0   11:27:04  2010-09-20  11:43:56  \n",
       "1   11:41:22  2010-09-20  11:42:23  \n",
       "2   12:05:37  2010-09-20  12:50:27  \n",
       "3   12:06:05  2010-09-20  12:29:32  \n",
       "4   12:10:43  2010-09-20  12:34:17  "
      ]
     },
     "execution_count": 21,
     "metadata": {},
     "output_type": "execute_result"
    }
   ],
   "source": [
    "df.head()"
   ]
  },
  {
   "cell_type": "code",
   "execution_count": 22,
   "metadata": {},
   "outputs": [],
   "source": [
    "df.drop(columns=['Start date','End date'],axis=1,inplace=True)"
   ]
  },
  {
   "cell_type": "code",
   "execution_count": 23,
   "metadata": {},
   "outputs": [
    {
     "data": {
      "text/html": [
       "<div>\n",
       "<style scoped>\n",
       "    .dataframe tbody tr th:only-of-type {\n",
       "        vertical-align: middle;\n",
       "    }\n",
       "\n",
       "    .dataframe tbody tr th {\n",
       "        vertical-align: top;\n",
       "    }\n",
       "\n",
       "    .dataframe thead th {\n",
       "        text-align: right;\n",
       "    }\n",
       "</style>\n",
       "<table border=\"1\" class=\"dataframe\">\n",
       "  <thead>\n",
       "    <tr style=\"text-align: right;\">\n",
       "      <th></th>\n",
       "      <th>Duration</th>\n",
       "      <th>Start station number</th>\n",
       "      <th>Start station</th>\n",
       "      <th>End station number</th>\n",
       "      <th>End station</th>\n",
       "      <th>Bike number</th>\n",
       "      <th>Member type</th>\n",
       "      <th>Start_Date</th>\n",
       "      <th>Start_Time</th>\n",
       "      <th>End_Date</th>\n",
       "      <th>End_Time</th>\n",
       "    </tr>\n",
       "  </thead>\n",
       "  <tbody>\n",
       "    <tr>\n",
       "      <th>0</th>\n",
       "      <td>1012</td>\n",
       "      <td>31208</td>\n",
       "      <td>M St &amp; New Jersey Ave SE</td>\n",
       "      <td>31108</td>\n",
       "      <td>4th &amp; M St SW</td>\n",
       "      <td>W00742</td>\n",
       "      <td>Member</td>\n",
       "      <td>2010-09-20</td>\n",
       "      <td>11:27:04</td>\n",
       "      <td>2010-09-20</td>\n",
       "      <td>11:43:56</td>\n",
       "    </tr>\n",
       "    <tr>\n",
       "      <th>1</th>\n",
       "      <td>61</td>\n",
       "      <td>31209</td>\n",
       "      <td>1st &amp; N St  SE</td>\n",
       "      <td>31209</td>\n",
       "      <td>1st &amp; N St  SE</td>\n",
       "      <td>W00032</td>\n",
       "      <td>Member</td>\n",
       "      <td>2010-09-20</td>\n",
       "      <td>11:41:22</td>\n",
       "      <td>2010-09-20</td>\n",
       "      <td>11:42:23</td>\n",
       "    </tr>\n",
       "    <tr>\n",
       "      <th>2</th>\n",
       "      <td>2690</td>\n",
       "      <td>31600</td>\n",
       "      <td>5th &amp; K St NW</td>\n",
       "      <td>31100</td>\n",
       "      <td>19th St &amp; Pennsylvania Ave NW</td>\n",
       "      <td>W00993</td>\n",
       "      <td>Member</td>\n",
       "      <td>2010-09-20</td>\n",
       "      <td>12:05:37</td>\n",
       "      <td>2010-09-20</td>\n",
       "      <td>12:50:27</td>\n",
       "    </tr>\n",
       "    <tr>\n",
       "      <th>3</th>\n",
       "      <td>1406</td>\n",
       "      <td>31600</td>\n",
       "      <td>5th &amp; K St NW</td>\n",
       "      <td>31602</td>\n",
       "      <td>Park Rd &amp; Holmead Pl NW</td>\n",
       "      <td>W00344</td>\n",
       "      <td>Member</td>\n",
       "      <td>2010-09-20</td>\n",
       "      <td>12:06:05</td>\n",
       "      <td>2010-09-20</td>\n",
       "      <td>12:29:32</td>\n",
       "    </tr>\n",
       "    <tr>\n",
       "      <th>4</th>\n",
       "      <td>1413</td>\n",
       "      <td>31100</td>\n",
       "      <td>19th St &amp; Pennsylvania Ave NW</td>\n",
       "      <td>31201</td>\n",
       "      <td>15th &amp; P St NW</td>\n",
       "      <td>W00883</td>\n",
       "      <td>Member</td>\n",
       "      <td>2010-09-20</td>\n",
       "      <td>12:10:43</td>\n",
       "      <td>2010-09-20</td>\n",
       "      <td>12:34:17</td>\n",
       "    </tr>\n",
       "  </tbody>\n",
       "</table>\n",
       "</div>"
      ],
      "text/plain": [
       "   Duration  Start station number                  Start station  \\\n",
       "0      1012                 31208       M St & New Jersey Ave SE   \n",
       "1        61                 31209                 1st & N St  SE   \n",
       "2      2690                 31600                  5th & K St NW   \n",
       "3      1406                 31600                  5th & K St NW   \n",
       "4      1413                 31100  19th St & Pennsylvania Ave NW   \n",
       "\n",
       "   End station number                    End station Bike number Member type  \\\n",
       "0               31108                  4th & M St SW      W00742      Member   \n",
       "1               31209                 1st & N St  SE      W00032      Member   \n",
       "2               31100  19th St & Pennsylvania Ave NW      W00993      Member   \n",
       "3               31602        Park Rd & Holmead Pl NW      W00344      Member   \n",
       "4               31201                 15th & P St NW      W00883      Member   \n",
       "\n",
       "   Start_Date Start_Time    End_Date  End_Time  \n",
       "0  2010-09-20   11:27:04  2010-09-20  11:43:56  \n",
       "1  2010-09-20   11:41:22  2010-09-20  11:42:23  \n",
       "2  2010-09-20   12:05:37  2010-09-20  12:50:27  \n",
       "3  2010-09-20   12:06:05  2010-09-20  12:29:32  \n",
       "4  2010-09-20   12:10:43  2010-09-20  12:34:17  "
      ]
     },
     "execution_count": 23,
     "metadata": {},
     "output_type": "execute_result"
    }
   ],
   "source": [
    "df.head()"
   ]
  },
  {
   "cell_type": "markdown",
   "metadata": {},
   "source": [
    "#### FILTERING DATE FEATURE TO DAY AND MONTH"
   ]
  },
  {
   "cell_type": "code",
   "execution_count": 24,
   "metadata": {},
   "outputs": [],
   "source": [
    "def filter_more_date(df,feature):\n",
    "    global date\n",
    "    global month\n",
    "    month = []\n",
    "    date = []\n",
    "    for i in df[feature]:\n",
    "        x = i.split('-')\n",
    "        month.append(x[1])\n",
    "        date.append(x[-1])"
   ]
  },
  {
   "cell_type": "code",
   "execution_count": 25,
   "metadata": {},
   "outputs": [],
   "source": [
    "filter_more_date(df,\"Start_Date\")"
   ]
  },
  {
   "cell_type": "code",
   "execution_count": 26,
   "metadata": {},
   "outputs": [],
   "source": [
    "df['Start_Month'] = month\n",
    "df['Start_Day'] = date"
   ]
  },
  {
   "cell_type": "code",
   "execution_count": 27,
   "metadata": {},
   "outputs": [],
   "source": [
    "filter_more_date(df,\"End_Date\")"
   ]
  },
  {
   "cell_type": "code",
   "execution_count": 28,
   "metadata": {},
   "outputs": [],
   "source": [
    "df['End_Month'] = month\n",
    "df[\"End_Day\"] = date"
   ]
  },
  {
   "cell_type": "code",
   "execution_count": 29,
   "metadata": {},
   "outputs": [
    {
     "data": {
      "text/html": [
       "<div>\n",
       "<style scoped>\n",
       "    .dataframe tbody tr th:only-of-type {\n",
       "        vertical-align: middle;\n",
       "    }\n",
       "\n",
       "    .dataframe tbody tr th {\n",
       "        vertical-align: top;\n",
       "    }\n",
       "\n",
       "    .dataframe thead th {\n",
       "        text-align: right;\n",
       "    }\n",
       "</style>\n",
       "<table border=\"1\" class=\"dataframe\">\n",
       "  <thead>\n",
       "    <tr style=\"text-align: right;\">\n",
       "      <th></th>\n",
       "      <th>Duration</th>\n",
       "      <th>Start station number</th>\n",
       "      <th>Start station</th>\n",
       "      <th>End station number</th>\n",
       "      <th>End station</th>\n",
       "      <th>Bike number</th>\n",
       "      <th>Member type</th>\n",
       "      <th>Start_Date</th>\n",
       "      <th>Start_Time</th>\n",
       "      <th>End_Date</th>\n",
       "      <th>End_Time</th>\n",
       "      <th>Start_Month</th>\n",
       "      <th>Start_Day</th>\n",
       "      <th>End_Month</th>\n",
       "      <th>End_Day</th>\n",
       "    </tr>\n",
       "  </thead>\n",
       "  <tbody>\n",
       "    <tr>\n",
       "      <th>0</th>\n",
       "      <td>1012</td>\n",
       "      <td>31208</td>\n",
       "      <td>M St &amp; New Jersey Ave SE</td>\n",
       "      <td>31108</td>\n",
       "      <td>4th &amp; M St SW</td>\n",
       "      <td>W00742</td>\n",
       "      <td>Member</td>\n",
       "      <td>2010-09-20</td>\n",
       "      <td>11:27:04</td>\n",
       "      <td>2010-09-20</td>\n",
       "      <td>11:43:56</td>\n",
       "      <td>09</td>\n",
       "      <td>20</td>\n",
       "      <td>09</td>\n",
       "      <td>20</td>\n",
       "    </tr>\n",
       "    <tr>\n",
       "      <th>1</th>\n",
       "      <td>61</td>\n",
       "      <td>31209</td>\n",
       "      <td>1st &amp; N St  SE</td>\n",
       "      <td>31209</td>\n",
       "      <td>1st &amp; N St  SE</td>\n",
       "      <td>W00032</td>\n",
       "      <td>Member</td>\n",
       "      <td>2010-09-20</td>\n",
       "      <td>11:41:22</td>\n",
       "      <td>2010-09-20</td>\n",
       "      <td>11:42:23</td>\n",
       "      <td>09</td>\n",
       "      <td>20</td>\n",
       "      <td>09</td>\n",
       "      <td>20</td>\n",
       "    </tr>\n",
       "    <tr>\n",
       "      <th>2</th>\n",
       "      <td>2690</td>\n",
       "      <td>31600</td>\n",
       "      <td>5th &amp; K St NW</td>\n",
       "      <td>31100</td>\n",
       "      <td>19th St &amp; Pennsylvania Ave NW</td>\n",
       "      <td>W00993</td>\n",
       "      <td>Member</td>\n",
       "      <td>2010-09-20</td>\n",
       "      <td>12:05:37</td>\n",
       "      <td>2010-09-20</td>\n",
       "      <td>12:50:27</td>\n",
       "      <td>09</td>\n",
       "      <td>20</td>\n",
       "      <td>09</td>\n",
       "      <td>20</td>\n",
       "    </tr>\n",
       "    <tr>\n",
       "      <th>3</th>\n",
       "      <td>1406</td>\n",
       "      <td>31600</td>\n",
       "      <td>5th &amp; K St NW</td>\n",
       "      <td>31602</td>\n",
       "      <td>Park Rd &amp; Holmead Pl NW</td>\n",
       "      <td>W00344</td>\n",
       "      <td>Member</td>\n",
       "      <td>2010-09-20</td>\n",
       "      <td>12:06:05</td>\n",
       "      <td>2010-09-20</td>\n",
       "      <td>12:29:32</td>\n",
       "      <td>09</td>\n",
       "      <td>20</td>\n",
       "      <td>09</td>\n",
       "      <td>20</td>\n",
       "    </tr>\n",
       "    <tr>\n",
       "      <th>4</th>\n",
       "      <td>1413</td>\n",
       "      <td>31100</td>\n",
       "      <td>19th St &amp; Pennsylvania Ave NW</td>\n",
       "      <td>31201</td>\n",
       "      <td>15th &amp; P St NW</td>\n",
       "      <td>W00883</td>\n",
       "      <td>Member</td>\n",
       "      <td>2010-09-20</td>\n",
       "      <td>12:10:43</td>\n",
       "      <td>2010-09-20</td>\n",
       "      <td>12:34:17</td>\n",
       "      <td>09</td>\n",
       "      <td>20</td>\n",
       "      <td>09</td>\n",
       "      <td>20</td>\n",
       "    </tr>\n",
       "  </tbody>\n",
       "</table>\n",
       "</div>"
      ],
      "text/plain": [
       "   Duration  Start station number                  Start station  \\\n",
       "0      1012                 31208       M St & New Jersey Ave SE   \n",
       "1        61                 31209                 1st & N St  SE   \n",
       "2      2690                 31600                  5th & K St NW   \n",
       "3      1406                 31600                  5th & K St NW   \n",
       "4      1413                 31100  19th St & Pennsylvania Ave NW   \n",
       "\n",
       "   End station number                    End station Bike number Member type  \\\n",
       "0               31108                  4th & M St SW      W00742      Member   \n",
       "1               31209                 1st & N St  SE      W00032      Member   \n",
       "2               31100  19th St & Pennsylvania Ave NW      W00993      Member   \n",
       "3               31602        Park Rd & Holmead Pl NW      W00344      Member   \n",
       "4               31201                 15th & P St NW      W00883      Member   \n",
       "\n",
       "   Start_Date Start_Time    End_Date  End_Time Start_Month Start_Day  \\\n",
       "0  2010-09-20   11:27:04  2010-09-20  11:43:56          09        20   \n",
       "1  2010-09-20   11:41:22  2010-09-20  11:42:23          09        20   \n",
       "2  2010-09-20   12:05:37  2010-09-20  12:50:27          09        20   \n",
       "3  2010-09-20   12:06:05  2010-09-20  12:29:32          09        20   \n",
       "4  2010-09-20   12:10:43  2010-09-20  12:34:17          09        20   \n",
       "\n",
       "  End_Month End_Day  \n",
       "0        09      20  \n",
       "1        09      20  \n",
       "2        09      20  \n",
       "3        09      20  \n",
       "4        09      20  "
      ]
     },
     "execution_count": 29,
     "metadata": {},
     "output_type": "execute_result"
    }
   ],
   "source": [
    "df.head()"
   ]
  },
  {
   "cell_type": "code",
   "execution_count": 30,
   "metadata": {},
   "outputs": [],
   "source": [
    "df.drop(columns=[\"Start_Date\",\"End_Date\"],axis=1,inplace=True)"
   ]
  },
  {
   "cell_type": "code",
   "execution_count": 31,
   "metadata": {},
   "outputs": [
    {
     "data": {
      "text/html": [
       "<div>\n",
       "<style scoped>\n",
       "    .dataframe tbody tr th:only-of-type {\n",
       "        vertical-align: middle;\n",
       "    }\n",
       "\n",
       "    .dataframe tbody tr th {\n",
       "        vertical-align: top;\n",
       "    }\n",
       "\n",
       "    .dataframe thead th {\n",
       "        text-align: right;\n",
       "    }\n",
       "</style>\n",
       "<table border=\"1\" class=\"dataframe\">\n",
       "  <thead>\n",
       "    <tr style=\"text-align: right;\">\n",
       "      <th></th>\n",
       "      <th>Duration</th>\n",
       "      <th>Start station number</th>\n",
       "      <th>Start station</th>\n",
       "      <th>End station number</th>\n",
       "      <th>End station</th>\n",
       "      <th>Bike number</th>\n",
       "      <th>Member type</th>\n",
       "      <th>Start_Time</th>\n",
       "      <th>End_Time</th>\n",
       "      <th>Start_Month</th>\n",
       "      <th>Start_Day</th>\n",
       "      <th>End_Month</th>\n",
       "      <th>End_Day</th>\n",
       "    </tr>\n",
       "  </thead>\n",
       "  <tbody>\n",
       "    <tr>\n",
       "      <th>0</th>\n",
       "      <td>1012</td>\n",
       "      <td>31208</td>\n",
       "      <td>M St &amp; New Jersey Ave SE</td>\n",
       "      <td>31108</td>\n",
       "      <td>4th &amp; M St SW</td>\n",
       "      <td>W00742</td>\n",
       "      <td>Member</td>\n",
       "      <td>11:27:04</td>\n",
       "      <td>11:43:56</td>\n",
       "      <td>09</td>\n",
       "      <td>20</td>\n",
       "      <td>09</td>\n",
       "      <td>20</td>\n",
       "    </tr>\n",
       "    <tr>\n",
       "      <th>1</th>\n",
       "      <td>61</td>\n",
       "      <td>31209</td>\n",
       "      <td>1st &amp; N St  SE</td>\n",
       "      <td>31209</td>\n",
       "      <td>1st &amp; N St  SE</td>\n",
       "      <td>W00032</td>\n",
       "      <td>Member</td>\n",
       "      <td>11:41:22</td>\n",
       "      <td>11:42:23</td>\n",
       "      <td>09</td>\n",
       "      <td>20</td>\n",
       "      <td>09</td>\n",
       "      <td>20</td>\n",
       "    </tr>\n",
       "    <tr>\n",
       "      <th>2</th>\n",
       "      <td>2690</td>\n",
       "      <td>31600</td>\n",
       "      <td>5th &amp; K St NW</td>\n",
       "      <td>31100</td>\n",
       "      <td>19th St &amp; Pennsylvania Ave NW</td>\n",
       "      <td>W00993</td>\n",
       "      <td>Member</td>\n",
       "      <td>12:05:37</td>\n",
       "      <td>12:50:27</td>\n",
       "      <td>09</td>\n",
       "      <td>20</td>\n",
       "      <td>09</td>\n",
       "      <td>20</td>\n",
       "    </tr>\n",
       "    <tr>\n",
       "      <th>3</th>\n",
       "      <td>1406</td>\n",
       "      <td>31600</td>\n",
       "      <td>5th &amp; K St NW</td>\n",
       "      <td>31602</td>\n",
       "      <td>Park Rd &amp; Holmead Pl NW</td>\n",
       "      <td>W00344</td>\n",
       "      <td>Member</td>\n",
       "      <td>12:06:05</td>\n",
       "      <td>12:29:32</td>\n",
       "      <td>09</td>\n",
       "      <td>20</td>\n",
       "      <td>09</td>\n",
       "      <td>20</td>\n",
       "    </tr>\n",
       "    <tr>\n",
       "      <th>4</th>\n",
       "      <td>1413</td>\n",
       "      <td>31100</td>\n",
       "      <td>19th St &amp; Pennsylvania Ave NW</td>\n",
       "      <td>31201</td>\n",
       "      <td>15th &amp; P St NW</td>\n",
       "      <td>W00883</td>\n",
       "      <td>Member</td>\n",
       "      <td>12:10:43</td>\n",
       "      <td>12:34:17</td>\n",
       "      <td>09</td>\n",
       "      <td>20</td>\n",
       "      <td>09</td>\n",
       "      <td>20</td>\n",
       "    </tr>\n",
       "  </tbody>\n",
       "</table>\n",
       "</div>"
      ],
      "text/plain": [
       "   Duration  Start station number                  Start station  \\\n",
       "0      1012                 31208       M St & New Jersey Ave SE   \n",
       "1        61                 31209                 1st & N St  SE   \n",
       "2      2690                 31600                  5th & K St NW   \n",
       "3      1406                 31600                  5th & K St NW   \n",
       "4      1413                 31100  19th St & Pennsylvania Ave NW   \n",
       "\n",
       "   End station number                    End station Bike number Member type  \\\n",
       "0               31108                  4th & M St SW      W00742      Member   \n",
       "1               31209                 1st & N St  SE      W00032      Member   \n",
       "2               31100  19th St & Pennsylvania Ave NW      W00993      Member   \n",
       "3               31602        Park Rd & Holmead Pl NW      W00344      Member   \n",
       "4               31201                 15th & P St NW      W00883      Member   \n",
       "\n",
       "  Start_Time  End_Time Start_Month Start_Day End_Month End_Day  \n",
       "0   11:27:04  11:43:56          09        20        09      20  \n",
       "1   11:41:22  11:42:23          09        20        09      20  \n",
       "2   12:05:37  12:50:27          09        20        09      20  \n",
       "3   12:06:05  12:29:32          09        20        09      20  \n",
       "4   12:10:43  12:34:17          09        20        09      20  "
      ]
     },
     "execution_count": 31,
     "metadata": {},
     "output_type": "execute_result"
    }
   ],
   "source": [
    "df.head()"
   ]
  },
  {
   "cell_type": "markdown",
   "metadata": {},
   "source": [
    "#### FILTERING TIME COLUMN TO HOURS & MINUTES"
   ]
  },
  {
   "cell_type": "code",
   "execution_count": 32,
   "metadata": {},
   "outputs": [],
   "source": [
    "def filter_time(df,feature):\n",
    "    global hour\n",
    "    global mins\n",
    "    hour = []\n",
    "    mins = []\n",
    "    for i in df[feature]:\n",
    "        x = i.split(\":\")\n",
    "        hour.append(x[0])\n",
    "        mins.append(x[1])"
   ]
  },
  {
   "cell_type": "code",
   "execution_count": 33,
   "metadata": {},
   "outputs": [],
   "source": [
    "filter_time(df,\"Start_Time\")"
   ]
  },
  {
   "cell_type": "code",
   "execution_count": 34,
   "metadata": {},
   "outputs": [
    {
     "data": {
      "text/plain": [
       "['11', '11', '12', '12', '12', '12', '12', '12', '12', '12']"
      ]
     },
     "execution_count": 34,
     "metadata": {},
     "output_type": "execute_result"
    }
   ],
   "source": [
    "hour[0:10]"
   ]
  },
  {
   "cell_type": "code",
   "execution_count": 35,
   "metadata": {},
   "outputs": [
    {
     "data": {
      "text/plain": [
       "['27', '41', '05', '06', '10']"
      ]
     },
     "execution_count": 35,
     "metadata": {},
     "output_type": "execute_result"
    }
   ],
   "source": [
    "mins[0:5]"
   ]
  },
  {
   "cell_type": "code",
   "execution_count": 36,
   "metadata": {},
   "outputs": [],
   "source": [
    "df[\"Start_Hour\"] = hour\n",
    "df['Start_Minute'] = mins "
   ]
  },
  {
   "cell_type": "code",
   "execution_count": 37,
   "metadata": {},
   "outputs": [],
   "source": [
    "filter_time(df,\"End_Time\")"
   ]
  },
  {
   "cell_type": "code",
   "execution_count": 38,
   "metadata": {},
   "outputs": [
    {
     "data": {
      "text/plain": [
       "['11', '11', '12', '12', '12']"
      ]
     },
     "execution_count": 38,
     "metadata": {},
     "output_type": "execute_result"
    }
   ],
   "source": [
    "hour[0:5]"
   ]
  },
  {
   "cell_type": "code",
   "execution_count": 39,
   "metadata": {},
   "outputs": [
    {
     "data": {
      "text/plain": [
       "['43', '42', '50', '29', '34']"
      ]
     },
     "execution_count": 39,
     "metadata": {},
     "output_type": "execute_result"
    }
   ],
   "source": [
    "mins[0:5]"
   ]
  },
  {
   "cell_type": "code",
   "execution_count": 40,
   "metadata": {},
   "outputs": [],
   "source": [
    "df[\"End_Hour\"] = hour\n",
    "df['End_Minute'] = mins "
   ]
  },
  {
   "cell_type": "code",
   "execution_count": 41,
   "metadata": {},
   "outputs": [
    {
     "data": {
      "text/html": [
       "<div>\n",
       "<style scoped>\n",
       "    .dataframe tbody tr th:only-of-type {\n",
       "        vertical-align: middle;\n",
       "    }\n",
       "\n",
       "    .dataframe tbody tr th {\n",
       "        vertical-align: top;\n",
       "    }\n",
       "\n",
       "    .dataframe thead th {\n",
       "        text-align: right;\n",
       "    }\n",
       "</style>\n",
       "<table border=\"1\" class=\"dataframe\">\n",
       "  <thead>\n",
       "    <tr style=\"text-align: right;\">\n",
       "      <th></th>\n",
       "      <th>Duration</th>\n",
       "      <th>Start station number</th>\n",
       "      <th>Start station</th>\n",
       "      <th>End station number</th>\n",
       "      <th>End station</th>\n",
       "      <th>Bike number</th>\n",
       "      <th>Member type</th>\n",
       "      <th>Start_Time</th>\n",
       "      <th>End_Time</th>\n",
       "      <th>Start_Month</th>\n",
       "      <th>Start_Day</th>\n",
       "      <th>End_Month</th>\n",
       "      <th>End_Day</th>\n",
       "      <th>Start_Hour</th>\n",
       "      <th>Start_Minute</th>\n",
       "      <th>End_Hour</th>\n",
       "      <th>End_Minute</th>\n",
       "    </tr>\n",
       "  </thead>\n",
       "  <tbody>\n",
       "    <tr>\n",
       "      <th>0</th>\n",
       "      <td>1012</td>\n",
       "      <td>31208</td>\n",
       "      <td>M St &amp; New Jersey Ave SE</td>\n",
       "      <td>31108</td>\n",
       "      <td>4th &amp; M St SW</td>\n",
       "      <td>W00742</td>\n",
       "      <td>Member</td>\n",
       "      <td>11:27:04</td>\n",
       "      <td>11:43:56</td>\n",
       "      <td>09</td>\n",
       "      <td>20</td>\n",
       "      <td>09</td>\n",
       "      <td>20</td>\n",
       "      <td>11</td>\n",
       "      <td>27</td>\n",
       "      <td>11</td>\n",
       "      <td>43</td>\n",
       "    </tr>\n",
       "    <tr>\n",
       "      <th>1</th>\n",
       "      <td>61</td>\n",
       "      <td>31209</td>\n",
       "      <td>1st &amp; N St  SE</td>\n",
       "      <td>31209</td>\n",
       "      <td>1st &amp; N St  SE</td>\n",
       "      <td>W00032</td>\n",
       "      <td>Member</td>\n",
       "      <td>11:41:22</td>\n",
       "      <td>11:42:23</td>\n",
       "      <td>09</td>\n",
       "      <td>20</td>\n",
       "      <td>09</td>\n",
       "      <td>20</td>\n",
       "      <td>11</td>\n",
       "      <td>41</td>\n",
       "      <td>11</td>\n",
       "      <td>42</td>\n",
       "    </tr>\n",
       "    <tr>\n",
       "      <th>2</th>\n",
       "      <td>2690</td>\n",
       "      <td>31600</td>\n",
       "      <td>5th &amp; K St NW</td>\n",
       "      <td>31100</td>\n",
       "      <td>19th St &amp; Pennsylvania Ave NW</td>\n",
       "      <td>W00993</td>\n",
       "      <td>Member</td>\n",
       "      <td>12:05:37</td>\n",
       "      <td>12:50:27</td>\n",
       "      <td>09</td>\n",
       "      <td>20</td>\n",
       "      <td>09</td>\n",
       "      <td>20</td>\n",
       "      <td>12</td>\n",
       "      <td>05</td>\n",
       "      <td>12</td>\n",
       "      <td>50</td>\n",
       "    </tr>\n",
       "    <tr>\n",
       "      <th>3</th>\n",
       "      <td>1406</td>\n",
       "      <td>31600</td>\n",
       "      <td>5th &amp; K St NW</td>\n",
       "      <td>31602</td>\n",
       "      <td>Park Rd &amp; Holmead Pl NW</td>\n",
       "      <td>W00344</td>\n",
       "      <td>Member</td>\n",
       "      <td>12:06:05</td>\n",
       "      <td>12:29:32</td>\n",
       "      <td>09</td>\n",
       "      <td>20</td>\n",
       "      <td>09</td>\n",
       "      <td>20</td>\n",
       "      <td>12</td>\n",
       "      <td>06</td>\n",
       "      <td>12</td>\n",
       "      <td>29</td>\n",
       "    </tr>\n",
       "    <tr>\n",
       "      <th>4</th>\n",
       "      <td>1413</td>\n",
       "      <td>31100</td>\n",
       "      <td>19th St &amp; Pennsylvania Ave NW</td>\n",
       "      <td>31201</td>\n",
       "      <td>15th &amp; P St NW</td>\n",
       "      <td>W00883</td>\n",
       "      <td>Member</td>\n",
       "      <td>12:10:43</td>\n",
       "      <td>12:34:17</td>\n",
       "      <td>09</td>\n",
       "      <td>20</td>\n",
       "      <td>09</td>\n",
       "      <td>20</td>\n",
       "      <td>12</td>\n",
       "      <td>10</td>\n",
       "      <td>12</td>\n",
       "      <td>34</td>\n",
       "    </tr>\n",
       "  </tbody>\n",
       "</table>\n",
       "</div>"
      ],
      "text/plain": [
       "   Duration  Start station number                  Start station  \\\n",
       "0      1012                 31208       M St & New Jersey Ave SE   \n",
       "1        61                 31209                 1st & N St  SE   \n",
       "2      2690                 31600                  5th & K St NW   \n",
       "3      1406                 31600                  5th & K St NW   \n",
       "4      1413                 31100  19th St & Pennsylvania Ave NW   \n",
       "\n",
       "   End station number                    End station Bike number Member type  \\\n",
       "0               31108                  4th & M St SW      W00742      Member   \n",
       "1               31209                 1st & N St  SE      W00032      Member   \n",
       "2               31100  19th St & Pennsylvania Ave NW      W00993      Member   \n",
       "3               31602        Park Rd & Holmead Pl NW      W00344      Member   \n",
       "4               31201                 15th & P St NW      W00883      Member   \n",
       "\n",
       "  Start_Time  End_Time Start_Month Start_Day End_Month End_Day Start_Hour  \\\n",
       "0   11:27:04  11:43:56          09        20        09      20         11   \n",
       "1   11:41:22  11:42:23          09        20        09      20         11   \n",
       "2   12:05:37  12:50:27          09        20        09      20         12   \n",
       "3   12:06:05  12:29:32          09        20        09      20         12   \n",
       "4   12:10:43  12:34:17          09        20        09      20         12   \n",
       "\n",
       "  Start_Minute End_Hour End_Minute  \n",
       "0           27       11         43  \n",
       "1           41       11         42  \n",
       "2           05       12         50  \n",
       "3           06       12         29  \n",
       "4           10       12         34  "
      ]
     },
     "execution_count": 41,
     "metadata": {},
     "output_type": "execute_result"
    }
   ],
   "source": [
    "df.head()"
   ]
  },
  {
   "cell_type": "code",
   "execution_count": 42,
   "metadata": {},
   "outputs": [],
   "source": [
    "df.drop(columns=['Start_Time',\"End_Time\"],axis=1,inplace=True)"
   ]
  },
  {
   "cell_type": "code",
   "execution_count": 43,
   "metadata": {},
   "outputs": [
    {
     "data": {
      "text/html": [
       "<div>\n",
       "<style scoped>\n",
       "    .dataframe tbody tr th:only-of-type {\n",
       "        vertical-align: middle;\n",
       "    }\n",
       "\n",
       "    .dataframe tbody tr th {\n",
       "        vertical-align: top;\n",
       "    }\n",
       "\n",
       "    .dataframe thead th {\n",
       "        text-align: right;\n",
       "    }\n",
       "</style>\n",
       "<table border=\"1\" class=\"dataframe\">\n",
       "  <thead>\n",
       "    <tr style=\"text-align: right;\">\n",
       "      <th></th>\n",
       "      <th>Duration</th>\n",
       "      <th>Start station number</th>\n",
       "      <th>Start station</th>\n",
       "      <th>End station number</th>\n",
       "      <th>End station</th>\n",
       "      <th>Bike number</th>\n",
       "      <th>Member type</th>\n",
       "      <th>Start_Month</th>\n",
       "      <th>Start_Day</th>\n",
       "      <th>End_Month</th>\n",
       "      <th>End_Day</th>\n",
       "      <th>Start_Hour</th>\n",
       "      <th>Start_Minute</th>\n",
       "      <th>End_Hour</th>\n",
       "      <th>End_Minute</th>\n",
       "    </tr>\n",
       "  </thead>\n",
       "  <tbody>\n",
       "    <tr>\n",
       "      <th>0</th>\n",
       "      <td>1012</td>\n",
       "      <td>31208</td>\n",
       "      <td>M St &amp; New Jersey Ave SE</td>\n",
       "      <td>31108</td>\n",
       "      <td>4th &amp; M St SW</td>\n",
       "      <td>W00742</td>\n",
       "      <td>Member</td>\n",
       "      <td>09</td>\n",
       "      <td>20</td>\n",
       "      <td>09</td>\n",
       "      <td>20</td>\n",
       "      <td>11</td>\n",
       "      <td>27</td>\n",
       "      <td>11</td>\n",
       "      <td>43</td>\n",
       "    </tr>\n",
       "    <tr>\n",
       "      <th>1</th>\n",
       "      <td>61</td>\n",
       "      <td>31209</td>\n",
       "      <td>1st &amp; N St  SE</td>\n",
       "      <td>31209</td>\n",
       "      <td>1st &amp; N St  SE</td>\n",
       "      <td>W00032</td>\n",
       "      <td>Member</td>\n",
       "      <td>09</td>\n",
       "      <td>20</td>\n",
       "      <td>09</td>\n",
       "      <td>20</td>\n",
       "      <td>11</td>\n",
       "      <td>41</td>\n",
       "      <td>11</td>\n",
       "      <td>42</td>\n",
       "    </tr>\n",
       "    <tr>\n",
       "      <th>2</th>\n",
       "      <td>2690</td>\n",
       "      <td>31600</td>\n",
       "      <td>5th &amp; K St NW</td>\n",
       "      <td>31100</td>\n",
       "      <td>19th St &amp; Pennsylvania Ave NW</td>\n",
       "      <td>W00993</td>\n",
       "      <td>Member</td>\n",
       "      <td>09</td>\n",
       "      <td>20</td>\n",
       "      <td>09</td>\n",
       "      <td>20</td>\n",
       "      <td>12</td>\n",
       "      <td>05</td>\n",
       "      <td>12</td>\n",
       "      <td>50</td>\n",
       "    </tr>\n",
       "    <tr>\n",
       "      <th>3</th>\n",
       "      <td>1406</td>\n",
       "      <td>31600</td>\n",
       "      <td>5th &amp; K St NW</td>\n",
       "      <td>31602</td>\n",
       "      <td>Park Rd &amp; Holmead Pl NW</td>\n",
       "      <td>W00344</td>\n",
       "      <td>Member</td>\n",
       "      <td>09</td>\n",
       "      <td>20</td>\n",
       "      <td>09</td>\n",
       "      <td>20</td>\n",
       "      <td>12</td>\n",
       "      <td>06</td>\n",
       "      <td>12</td>\n",
       "      <td>29</td>\n",
       "    </tr>\n",
       "    <tr>\n",
       "      <th>4</th>\n",
       "      <td>1413</td>\n",
       "      <td>31100</td>\n",
       "      <td>19th St &amp; Pennsylvania Ave NW</td>\n",
       "      <td>31201</td>\n",
       "      <td>15th &amp; P St NW</td>\n",
       "      <td>W00883</td>\n",
       "      <td>Member</td>\n",
       "      <td>09</td>\n",
       "      <td>20</td>\n",
       "      <td>09</td>\n",
       "      <td>20</td>\n",
       "      <td>12</td>\n",
       "      <td>10</td>\n",
       "      <td>12</td>\n",
       "      <td>34</td>\n",
       "    </tr>\n",
       "  </tbody>\n",
       "</table>\n",
       "</div>"
      ],
      "text/plain": [
       "   Duration  Start station number                  Start station  \\\n",
       "0      1012                 31208       M St & New Jersey Ave SE   \n",
       "1        61                 31209                 1st & N St  SE   \n",
       "2      2690                 31600                  5th & K St NW   \n",
       "3      1406                 31600                  5th & K St NW   \n",
       "4      1413                 31100  19th St & Pennsylvania Ave NW   \n",
       "\n",
       "   End station number                    End station Bike number Member type  \\\n",
       "0               31108                  4th & M St SW      W00742      Member   \n",
       "1               31209                 1st & N St  SE      W00032      Member   \n",
       "2               31100  19th St & Pennsylvania Ave NW      W00993      Member   \n",
       "3               31602        Park Rd & Holmead Pl NW      W00344      Member   \n",
       "4               31201                 15th & P St NW      W00883      Member   \n",
       "\n",
       "  Start_Month Start_Day End_Month End_Day Start_Hour Start_Minute End_Hour  \\\n",
       "0          09        20        09      20         11           27       11   \n",
       "1          09        20        09      20         11           41       11   \n",
       "2          09        20        09      20         12           05       12   \n",
       "3          09        20        09      20         12           06       12   \n",
       "4          09        20        09      20         12           10       12   \n",
       "\n",
       "  End_Minute  \n",
       "0         43  \n",
       "1         42  \n",
       "2         50  \n",
       "3         29  \n",
       "4         34  "
      ]
     },
     "execution_count": 43,
     "metadata": {},
     "output_type": "execute_result"
    }
   ],
   "source": [
    "df.head()"
   ]
  },
  {
   "cell_type": "markdown",
   "metadata": {},
   "source": [
    "##### FILTERING START STATION "
   ]
  },
  {
   "cell_type": "code",
   "execution_count": 44,
   "metadata": {},
   "outputs": [
    {
     "data": {
      "text/plain": [
       "0          M St & New Jersey Ave SE\n",
       "1                    1st & N St  SE\n",
       "2                     5th & K St NW\n",
       "3                     5th & K St NW\n",
       "4     19th St & Pennsylvania Ave NW\n",
       "5                     7th & T St NW\n",
       "6                     7th & T St NW\n",
       "7                    10th & U St NW\n",
       "8                     5th & K St NW\n",
       "9          Minnesota Ave Metro/DOES\n",
       "10                    4th & W St NE\n",
       "11                    1st & M St NE\n",
       "12          Park Rd & Holmead Pl NW\n",
       "13             14th & Harvard St NW\n",
       "14                   14th & V St NW\n",
       "15             16th & Harvard St NW\n",
       "16             14th & Harvard St NW\n",
       "17               19th & E Street NW\n",
       "18                20th & Crystal Dr\n",
       "19                   21st & I St NW\n",
       "Name: Start station, dtype: object"
      ]
     },
     "execution_count": 44,
     "metadata": {},
     "output_type": "execute_result"
    }
   ],
   "source": [
    "df['Start station'].head(20)"
   ]
  },
  {
   "cell_type": "code",
   "execution_count": 45,
   "metadata": {},
   "outputs": [
    {
     "data": {
      "text/plain": [
       "115577                                 14th & Harvard St NW\n",
       "115578    Eastern Market Metro / Pennsylvania Ave & 7th ...\n",
       "115579    Eastern Market Metro / Pennsylvania Ave & 7th ...\n",
       "115580                                        7th & T St NW\n",
       "115581                              Lamont & Mt Pleasant NW\n",
       "115582                                Florida Ave & R St NW\n",
       "115583                       Georgia Ave and Fairmont St NW\n",
       "115584                                       14th & V St NW\n",
       "115585                                Florida Ave & R St NW\n",
       "115586                                17th & Corcoran St NW\n",
       "115587                             20th St & Florida Ave NW\n",
       "115588                                  11th & Kenyon St NW\n",
       "115589                             20th St & Florida Ave NW\n",
       "115590                              Lamont & Mt Pleasant NW\n",
       "115591                              Lamont & Mt Pleasant NW\n",
       "115592                             20th St & Florida Ave NW\n",
       "115593                             Calvert & Biltmore St NW\n",
       "115594                              Park Rd & Holmead Pl NW\n",
       "115595                                       10th & U St NW\n",
       "115596                                       10th & U St NW\n",
       "Name: Start station, dtype: object"
      ]
     },
     "execution_count": 45,
     "metadata": {},
     "output_type": "execute_result"
    }
   ],
   "source": [
    "df['Start station'].tail(20)"
   ]
  },
  {
   "cell_type": "code",
   "execution_count": 46,
   "metadata": {},
   "outputs": [],
   "source": [
    "def filter_address(df,feature):\n",
    "    global address\n",
    "    address = []\n",
    "    for i in df[feature]:\n",
    "        if \"&\" in i:\n",
    "            x = i.split(\"&\")\n",
    "            address.append(x[1])\n",
    "        else:\n",
    "            x = i.split(\"/\")\n",
    "            address.append(x[0])"
   ]
  },
  {
   "cell_type": "code",
   "execution_count": 47,
   "metadata": {},
   "outputs": [],
   "source": [
    "filter_address(df,'Start station')"
   ]
  },
  {
   "cell_type": "code",
   "execution_count": 48,
   "metadata": {},
   "outputs": [
    {
     "data": {
      "text/plain": [
       "[' New Jersey Ave SE',\n",
       " ' N St  SE',\n",
       " ' K St NW',\n",
       " ' K St NW',\n",
       " ' Pennsylvania Ave NW']"
      ]
     },
     "execution_count": 48,
     "metadata": {},
     "output_type": "execute_result"
    }
   ],
   "source": [
    "address[:5]"
   ]
  },
  {
   "cell_type": "code",
   "execution_count": 49,
   "metadata": {},
   "outputs": [],
   "source": [
    "df['Start station'] = address"
   ]
  },
  {
   "cell_type": "markdown",
   "metadata": {},
   "source": [
    "##### FILTERING END STATION "
   ]
  },
  {
   "cell_type": "code",
   "execution_count": 50,
   "metadata": {},
   "outputs": [],
   "source": [
    "filter_address(df,\"End station\")"
   ]
  },
  {
   "cell_type": "code",
   "execution_count": 51,
   "metadata": {},
   "outputs": [
    {
     "data": {
      "text/plain": [
       "[' M St SW', ' N St  SE', ' Pennsylvania Ave NW', ' Holmead Pl NW', ' P St NW']"
      ]
     },
     "execution_count": 51,
     "metadata": {},
     "output_type": "execute_result"
    }
   ],
   "source": [
    "address[:5]"
   ]
  },
  {
   "cell_type": "code",
   "execution_count": 52,
   "metadata": {},
   "outputs": [],
   "source": [
    "df['End station'] = address"
   ]
  },
  {
   "cell_type": "code",
   "execution_count": 53,
   "metadata": {},
   "outputs": [
    {
     "data": {
      "text/html": [
       "<div>\n",
       "<style scoped>\n",
       "    .dataframe tbody tr th:only-of-type {\n",
       "        vertical-align: middle;\n",
       "    }\n",
       "\n",
       "    .dataframe tbody tr th {\n",
       "        vertical-align: top;\n",
       "    }\n",
       "\n",
       "    .dataframe thead th {\n",
       "        text-align: right;\n",
       "    }\n",
       "</style>\n",
       "<table border=\"1\" class=\"dataframe\">\n",
       "  <thead>\n",
       "    <tr style=\"text-align: right;\">\n",
       "      <th></th>\n",
       "      <th>Duration</th>\n",
       "      <th>Start station number</th>\n",
       "      <th>Start station</th>\n",
       "      <th>End station number</th>\n",
       "      <th>End station</th>\n",
       "      <th>Bike number</th>\n",
       "      <th>Member type</th>\n",
       "      <th>Start_Month</th>\n",
       "      <th>Start_Day</th>\n",
       "      <th>End_Month</th>\n",
       "      <th>End_Day</th>\n",
       "      <th>Start_Hour</th>\n",
       "      <th>Start_Minute</th>\n",
       "      <th>End_Hour</th>\n",
       "      <th>End_Minute</th>\n",
       "    </tr>\n",
       "  </thead>\n",
       "  <tbody>\n",
       "    <tr>\n",
       "      <th>0</th>\n",
       "      <td>1012</td>\n",
       "      <td>31208</td>\n",
       "      <td>New Jersey Ave SE</td>\n",
       "      <td>31108</td>\n",
       "      <td>M St SW</td>\n",
       "      <td>W00742</td>\n",
       "      <td>Member</td>\n",
       "      <td>09</td>\n",
       "      <td>20</td>\n",
       "      <td>09</td>\n",
       "      <td>20</td>\n",
       "      <td>11</td>\n",
       "      <td>27</td>\n",
       "      <td>11</td>\n",
       "      <td>43</td>\n",
       "    </tr>\n",
       "    <tr>\n",
       "      <th>1</th>\n",
       "      <td>61</td>\n",
       "      <td>31209</td>\n",
       "      <td>N St  SE</td>\n",
       "      <td>31209</td>\n",
       "      <td>N St  SE</td>\n",
       "      <td>W00032</td>\n",
       "      <td>Member</td>\n",
       "      <td>09</td>\n",
       "      <td>20</td>\n",
       "      <td>09</td>\n",
       "      <td>20</td>\n",
       "      <td>11</td>\n",
       "      <td>41</td>\n",
       "      <td>11</td>\n",
       "      <td>42</td>\n",
       "    </tr>\n",
       "    <tr>\n",
       "      <th>2</th>\n",
       "      <td>2690</td>\n",
       "      <td>31600</td>\n",
       "      <td>K St NW</td>\n",
       "      <td>31100</td>\n",
       "      <td>Pennsylvania Ave NW</td>\n",
       "      <td>W00993</td>\n",
       "      <td>Member</td>\n",
       "      <td>09</td>\n",
       "      <td>20</td>\n",
       "      <td>09</td>\n",
       "      <td>20</td>\n",
       "      <td>12</td>\n",
       "      <td>05</td>\n",
       "      <td>12</td>\n",
       "      <td>50</td>\n",
       "    </tr>\n",
       "    <tr>\n",
       "      <th>3</th>\n",
       "      <td>1406</td>\n",
       "      <td>31600</td>\n",
       "      <td>K St NW</td>\n",
       "      <td>31602</td>\n",
       "      <td>Holmead Pl NW</td>\n",
       "      <td>W00344</td>\n",
       "      <td>Member</td>\n",
       "      <td>09</td>\n",
       "      <td>20</td>\n",
       "      <td>09</td>\n",
       "      <td>20</td>\n",
       "      <td>12</td>\n",
       "      <td>06</td>\n",
       "      <td>12</td>\n",
       "      <td>29</td>\n",
       "    </tr>\n",
       "    <tr>\n",
       "      <th>4</th>\n",
       "      <td>1413</td>\n",
       "      <td>31100</td>\n",
       "      <td>Pennsylvania Ave NW</td>\n",
       "      <td>31201</td>\n",
       "      <td>P St NW</td>\n",
       "      <td>W00883</td>\n",
       "      <td>Member</td>\n",
       "      <td>09</td>\n",
       "      <td>20</td>\n",
       "      <td>09</td>\n",
       "      <td>20</td>\n",
       "      <td>12</td>\n",
       "      <td>10</td>\n",
       "      <td>12</td>\n",
       "      <td>34</td>\n",
       "    </tr>\n",
       "  </tbody>\n",
       "</table>\n",
       "</div>"
      ],
      "text/plain": [
       "   Duration  Start station number         Start station  End station number  \\\n",
       "0      1012                 31208     New Jersey Ave SE               31108   \n",
       "1        61                 31209              N St  SE               31209   \n",
       "2      2690                 31600               K St NW               31100   \n",
       "3      1406                 31600               K St NW               31602   \n",
       "4      1413                 31100   Pennsylvania Ave NW               31201   \n",
       "\n",
       "            End station Bike number Member type Start_Month Start_Day  \\\n",
       "0               M St SW      W00742      Member          09        20   \n",
       "1              N St  SE      W00032      Member          09        20   \n",
       "2   Pennsylvania Ave NW      W00993      Member          09        20   \n",
       "3         Holmead Pl NW      W00344      Member          09        20   \n",
       "4               P St NW      W00883      Member          09        20   \n",
       "\n",
       "  End_Month End_Day Start_Hour Start_Minute End_Hour End_Minute  \n",
       "0        09      20         11           27       11         43  \n",
       "1        09      20         11           41       11         42  \n",
       "2        09      20         12           05       12         50  \n",
       "3        09      20         12           06       12         29  \n",
       "4        09      20         12           10       12         34  "
      ]
     },
     "execution_count": 53,
     "metadata": {},
     "output_type": "execute_result"
    }
   ],
   "source": [
    "df.head()"
   ]
  },
  {
   "cell_type": "markdown",
   "metadata": {},
   "source": [
    "## EXPLORATORY DATA ANALYSIS"
   ]
  },
  {
   "cell_type": "code",
   "execution_count": 54,
   "metadata": {},
   "outputs": [
    {
     "data": {
      "image/png": "[encoded data removed]",
      "text/plain": [
       "<Figure size 720x360 with 1 Axes>"
      ]
     },
     "metadata": {
      "needs_background": "light"
     },
     "output_type": "display_data"
    }
   ],
   "source": [
    "plt.figure(figsize=(10,5))\n",
    "sns.set_style(\"dark\")\n",
    "ax = sns.countplot(df['Member type'])\n",
    "plt.title(\"NUMBER OF DIFFERENT TYPES OF MEMBERS\")\n",
    "plt.xlabel(\"TYPE OF MEMBERS\")\n",
    "plt.ylabel(\"NUMBER OF MEMBERS\")\n",
    "\n",
    "for p in ax.patches:\n",
    "    ax.annotate(\"{:.1f}\".format(p.get_height()),(p.get_x(),p.get_height()+10))\n",
    "    \n",
    "plt.show()"
   ]
  },
  {
   "cell_type": "markdown",
   "metadata": {},
   "source": [
    "<b>OBSERVATION</b>\n",
    "\n",
    "* THERE ARE MORE MEMBER BOOKINGS THAN CASUAL AND UNKOWN"
   ]
  },
  {
   "cell_type": "code",
   "execution_count": 55,
   "metadata": {},
   "outputs": [
    {
     "data": {
      "text/html": [
       "<div>\n",
       "<style scoped>\n",
       "    .dataframe tbody tr th:only-of-type {\n",
       "        vertical-align: middle;\n",
       "    }\n",
       "\n",
       "    .dataframe tbody tr th {\n",
       "        vertical-align: top;\n",
       "    }\n",
       "\n",
       "    .dataframe thead th {\n",
       "        text-align: right;\n",
       "    }\n",
       "</style>\n",
       "<table border=\"1\" class=\"dataframe\">\n",
       "  <thead>\n",
       "    <tr style=\"text-align: right;\">\n",
       "      <th></th>\n",
       "      <th>Duration</th>\n",
       "      <th>Start station number</th>\n",
       "      <th>End station number</th>\n",
       "    </tr>\n",
       "    <tr>\n",
       "      <th>Member type</th>\n",
       "      <th></th>\n",
       "      <th></th>\n",
       "      <th></th>\n",
       "    </tr>\n",
       "  </thead>\n",
       "  <tbody>\n",
       "    <tr>\n",
       "      <th>Casual</th>\n",
       "      <td>1523.0</td>\n",
       "      <td>31217.0</td>\n",
       "      <td>31217.0</td>\n",
       "    </tr>\n",
       "    <tr>\n",
       "      <th>Member</th>\n",
       "      <td>580.0</td>\n",
       "      <td>31213.0</td>\n",
       "      <td>31213.0</td>\n",
       "    </tr>\n",
       "    <tr>\n",
       "      <th>Unknown</th>\n",
       "      <td>365.5</td>\n",
       "      <td>31219.5</td>\n",
       "      <td>31202.0</td>\n",
       "    </tr>\n",
       "  </tbody>\n",
       "</table>\n",
       "</div>"
      ],
      "text/plain": [
       "             Duration  Start station number  End station number\n",
       "Member type                                                    \n",
       "Casual         1523.0               31217.0             31217.0\n",
       "Member          580.0               31213.0             31213.0\n",
       "Unknown         365.5               31219.5             31202.0"
      ]
     },
     "execution_count": 55,
     "metadata": {},
     "output_type": "execute_result"
    }
   ],
   "source": [
    "m = df.groupby(\"Member type\").median()\n",
    "m"
   ]
  },
  {
   "cell_type": "code",
   "execution_count": 56,
   "metadata": {},
   "outputs": [
    {
     "data": {
      "image/png": "[encoded data removed]",
      "text/plain": [
       "<Figure size 864x432 with 1 Axes>"
      ]
     },
     "metadata": {},
     "output_type": "display_data"
    }
   ],
   "source": [
    "plt.figure(figsize=(12,6))\n",
    "sns.set_style(\"darkgrid\")\n",
    "ax = sns.barplot(m.index,m.Duration)\n",
    "plt.title(\"MEDIAN DURATION TRAVELLED BY DIFFERENT TYPES OF MEMBERS\")\n",
    "plt.xlabel(\"TYPE OF MEMBER\")\n",
    "plt.ylabel(\"MEDIAN DURATION TRAVELLED\")\n",
    "\n",
    "\n",
    "for p in ax.patches:\n",
    "    ax.annotate(\"{:.1f}\".format(p.get_height()),(p.get_x(),p.get_height()+10))\n",
    "    \n",
    "plt.show()\n"
   ]
  },
  {
   "cell_type": "markdown",
   "metadata": {},
   "source": [
    "<b>OBSERVATION --- </b>\n",
    "\n",
    "* CASUAL TRIPS HAVE THE LONGEST DURATION OF TRAVELLING FOLLOWED BY MEMBER GROUP AND UNKNOWN GROUP"
   ]
  },
  {
   "cell_type": "code",
   "execution_count": 57,
   "metadata": {},
   "outputs": [],
   "source": [
    "m = df.groupby(\"Start_Hour\").median()"
   ]
  },
  {
   "cell_type": "code",
   "execution_count": 58,
   "metadata": {},
   "outputs": [
    {
     "data": {
      "image/png": "[encoded data removed]",
      "text/plain": [
       "<Figure size 1080x432 with 1 Axes>"
      ]
     },
     "metadata": {},
     "output_type": "display_data"
    }
   ],
   "source": [
    "plt.figure(figsize=(15,6))\n",
    "ticks = [\"12 AM\",\"1 AM\",\"2 AM\",\"3 AM\",\"4 AM\",\"5 AM\",\"6 AM\",\"7 AM\",\"8 AM\",\"9 AM\",\"10 AM\",\"11 AM\",\"12 PM\",\"1 PM\",\"2 PM\",\"3 PM\",\"4 PM\",\"5 PM\",\"6 PM\",\"7 PM\",\"8 PM\",\"9 PM\",\"10 PM\",\"11 PM\"]\n",
    "sns.set_style(\"dark\")\n",
    "ax = sns.barplot(m.index,m.Duration)\n",
    "ax.set_xticklabels(labels=ticks,rotation=90)\n",
    "plt.title(\"MEDIAN DURATION TRAVELLED AT DIFFERENT HOURS\")\n",
    "plt.ylabel(\"DURATION OF TRAVELLING\")\n",
    "plt.xlabel(\"DIFFERENT TIMES\")\n",
    "for p in ax.patches:\n",
    "    ax.annotate(\"{:.1f}\".format(p.get_height()),(p.get_x(),p.get_height()+10))\n",
    "    \n",
    "plt.show()"
   ]
  },
  {
   "cell_type": "markdown",
   "metadata": {},
   "source": [
    "<B>OBSERVATION --- </B>\n",
    "\n",
    "\n",
    "* HERE WE CAN SEE THAT PEOPLE TEND TO TRAVEL LESS NUMBER OF HOURS MID-NIGHT AND EARLY MORNING (12AM-6AM) & TRAVEL DURATION IS LONGER DURING THE EVENING AND AGAIN THE DURATION OF TRAVELLING FALLS DOWN AFTER 5PM "
   ]
  },
  {
   "cell_type": "code",
   "execution_count": 59,
   "metadata": {},
   "outputs": [
    {
     "data": {
      "text/html": [
       "<div>\n",
       "<style scoped>\n",
       "    .dataframe tbody tr th:only-of-type {\n",
       "        vertical-align: middle;\n",
       "    }\n",
       "\n",
       "    .dataframe tbody tr th {\n",
       "        vertical-align: top;\n",
       "    }\n",
       "\n",
       "    .dataframe thead th {\n",
       "        text-align: right;\n",
       "    }\n",
       "</style>\n",
       "<table border=\"1\" class=\"dataframe\">\n",
       "  <thead>\n",
       "    <tr style=\"text-align: right;\">\n",
       "      <th></th>\n",
       "      <th>Duration</th>\n",
       "      <th>Start station number</th>\n",
       "      <th>Start station</th>\n",
       "      <th>End station number</th>\n",
       "      <th>End station</th>\n",
       "      <th>Bike number</th>\n",
       "      <th>Member type</th>\n",
       "      <th>Start_Month</th>\n",
       "      <th>Start_Day</th>\n",
       "      <th>End_Month</th>\n",
       "      <th>End_Day</th>\n",
       "      <th>Start_Hour</th>\n",
       "      <th>Start_Minute</th>\n",
       "      <th>End_Hour</th>\n",
       "      <th>End_Minute</th>\n",
       "    </tr>\n",
       "  </thead>\n",
       "  <tbody>\n",
       "    <tr>\n",
       "      <th>0</th>\n",
       "      <td>1012</td>\n",
       "      <td>31208</td>\n",
       "      <td>New Jersey Ave SE</td>\n",
       "      <td>31108</td>\n",
       "      <td>M St SW</td>\n",
       "      <td>W00742</td>\n",
       "      <td>Member</td>\n",
       "      <td>09</td>\n",
       "      <td>20</td>\n",
       "      <td>09</td>\n",
       "      <td>20</td>\n",
       "      <td>11</td>\n",
       "      <td>27</td>\n",
       "      <td>11</td>\n",
       "      <td>43</td>\n",
       "    </tr>\n",
       "    <tr>\n",
       "      <th>1</th>\n",
       "      <td>61</td>\n",
       "      <td>31209</td>\n",
       "      <td>N St  SE</td>\n",
       "      <td>31209</td>\n",
       "      <td>N St  SE</td>\n",
       "      <td>W00032</td>\n",
       "      <td>Member</td>\n",
       "      <td>09</td>\n",
       "      <td>20</td>\n",
       "      <td>09</td>\n",
       "      <td>20</td>\n",
       "      <td>11</td>\n",
       "      <td>41</td>\n",
       "      <td>11</td>\n",
       "      <td>42</td>\n",
       "    </tr>\n",
       "    <tr>\n",
       "      <th>2</th>\n",
       "      <td>2690</td>\n",
       "      <td>31600</td>\n",
       "      <td>K St NW</td>\n",
       "      <td>31100</td>\n",
       "      <td>Pennsylvania Ave NW</td>\n",
       "      <td>W00993</td>\n",
       "      <td>Member</td>\n",
       "      <td>09</td>\n",
       "      <td>20</td>\n",
       "      <td>09</td>\n",
       "      <td>20</td>\n",
       "      <td>12</td>\n",
       "      <td>05</td>\n",
       "      <td>12</td>\n",
       "      <td>50</td>\n",
       "    </tr>\n",
       "    <tr>\n",
       "      <th>3</th>\n",
       "      <td>1406</td>\n",
       "      <td>31600</td>\n",
       "      <td>K St NW</td>\n",
       "      <td>31602</td>\n",
       "      <td>Holmead Pl NW</td>\n",
       "      <td>W00344</td>\n",
       "      <td>Member</td>\n",
       "      <td>09</td>\n",
       "      <td>20</td>\n",
       "      <td>09</td>\n",
       "      <td>20</td>\n",
       "      <td>12</td>\n",
       "      <td>06</td>\n",
       "      <td>12</td>\n",
       "      <td>29</td>\n",
       "    </tr>\n",
       "    <tr>\n",
       "      <th>4</th>\n",
       "      <td>1413</td>\n",
       "      <td>31100</td>\n",
       "      <td>Pennsylvania Ave NW</td>\n",
       "      <td>31201</td>\n",
       "      <td>P St NW</td>\n",
       "      <td>W00883</td>\n",
       "      <td>Member</td>\n",
       "      <td>09</td>\n",
       "      <td>20</td>\n",
       "      <td>09</td>\n",
       "      <td>20</td>\n",
       "      <td>12</td>\n",
       "      <td>10</td>\n",
       "      <td>12</td>\n",
       "      <td>34</td>\n",
       "    </tr>\n",
       "  </tbody>\n",
       "</table>\n",
       "</div>"
      ],
      "text/plain": [
       "   Duration  Start station number         Start station  End station number  \\\n",
       "0      1012                 31208     New Jersey Ave SE               31108   \n",
       "1        61                 31209              N St  SE               31209   \n",
       "2      2690                 31600               K St NW               31100   \n",
       "3      1406                 31600               K St NW               31602   \n",
       "4      1413                 31100   Pennsylvania Ave NW               31201   \n",
       "\n",
       "            End station Bike number Member type Start_Month Start_Day  \\\n",
       "0               M St SW      W00742      Member          09        20   \n",
       "1              N St  SE      W00032      Member          09        20   \n",
       "2   Pennsylvania Ave NW      W00993      Member          09        20   \n",
       "3         Holmead Pl NW      W00344      Member          09        20   \n",
       "4               P St NW      W00883      Member          09        20   \n",
       "\n",
       "  End_Month End_Day Start_Hour Start_Minute End_Hour End_Minute  \n",
       "0        09      20         11           27       11         43  \n",
       "1        09      20         11           41       11         42  \n",
       "2        09      20         12           05       12         50  \n",
       "3        09      20         12           06       12         29  \n",
       "4        09      20         12           10       12         34  "
      ]
     },
     "execution_count": 59,
     "metadata": {},
     "output_type": "execute_result"
    }
   ],
   "source": [
    "df.head()"
   ]
  },
  {
   "cell_type": "code",
   "execution_count": 62,
   "metadata": {},
   "outputs": [],
   "source": [
    "df2 = df"
   ]
  },
  {
   "cell_type": "markdown",
   "metadata": {},
   "source": [
    "#### CONVERTING NUMBERIC STRING COLUMNS TO INTGER NUMBERS"
   ]
  },
  {
   "cell_type": "code",
   "execution_count": 61,
   "metadata": {},
   "outputs": [],
   "source": [
    "cols = ['Start_Month', 'Start_Day', 'End_Month', 'End_Day', 'Start_Hour',\n",
    "       'Start_Minute', 'End_Hour', 'End_Minute']"
   ]
  },
  {
   "cell_type": "code",
   "execution_count": 62,
   "metadata": {},
   "outputs": [],
   "source": [
    "for i in cols:\n",
    "    df[i] = df[i].astype(\"int64\")"
   ]
  },
  {
   "cell_type": "code",
   "execution_count": 63,
   "metadata": {},
   "outputs": [
    {
     "name": "stdout",
     "output_type": "stream",
     "text": [
      "<class 'pandas.core.frame.DataFrame'>\n",
      "RangeIndex: 115597 entries, 0 to 115596\n",
      "Data columns (total 15 columns):\n",
      "Duration                115597 non-null int64\n",
      "Start station number    115597 non-null int64\n",
      "Start station           115597 non-null object\n",
      "End station number      115597 non-null int64\n",
      "End station             115597 non-null object\n",
      "Bike number             115597 non-null object\n",
      "Member type             115597 non-null object\n",
      "Start_Month             115597 non-null int64\n",
      "Start_Day               115597 non-null int64\n",
      "End_Month               115597 non-null int64\n",
      "End_Day                 115597 non-null int64\n",
      "Start_Hour              115597 non-null int64\n",
      "Start_Minute            115597 non-null int64\n",
      "End_Hour                115597 non-null int64\n",
      "End_Minute              115597 non-null int64\n",
      "dtypes: int64(11), object(4)\n",
      "memory usage: 13.2+ MB\n"
     ]
    }
   ],
   "source": [
    "df.info()"
   ]
  },
  {
   "cell_type": "code",
   "execution_count": 64,
   "metadata": {},
   "outputs": [
    {
     "data": {
      "text/html": [
       "<div>\n",
       "<style scoped>\n",
       "    .dataframe tbody tr th:only-of-type {\n",
       "        vertical-align: middle;\n",
       "    }\n",
       "\n",
       "    .dataframe tbody tr th {\n",
       "        vertical-align: top;\n",
       "    }\n",
       "\n",
       "    .dataframe thead th {\n",
       "        text-align: right;\n",
       "    }\n",
       "</style>\n",
       "<table border=\"1\" class=\"dataframe\">\n",
       "  <thead>\n",
       "    <tr style=\"text-align: right;\">\n",
       "      <th></th>\n",
       "      <th>Duration</th>\n",
       "      <th>Start station number</th>\n",
       "      <th>Start station</th>\n",
       "      <th>End station number</th>\n",
       "      <th>End station</th>\n",
       "      <th>Bike number</th>\n",
       "      <th>Member type</th>\n",
       "      <th>Start_Month</th>\n",
       "      <th>Start_Day</th>\n",
       "      <th>End_Month</th>\n",
       "      <th>End_Day</th>\n",
       "      <th>Start_Hour</th>\n",
       "      <th>Start_Minute</th>\n",
       "      <th>End_Hour</th>\n",
       "      <th>End_Minute</th>\n",
       "    </tr>\n",
       "  </thead>\n",
       "  <tbody>\n",
       "    <tr>\n",
       "      <th>0</th>\n",
       "      <td>1012</td>\n",
       "      <td>31208</td>\n",
       "      <td>New Jersey Ave SE</td>\n",
       "      <td>31108</td>\n",
       "      <td>M St SW</td>\n",
       "      <td>W00742</td>\n",
       "      <td>Member</td>\n",
       "      <td>9</td>\n",
       "      <td>20</td>\n",
       "      <td>9</td>\n",
       "      <td>20</td>\n",
       "      <td>11</td>\n",
       "      <td>27</td>\n",
       "      <td>11</td>\n",
       "      <td>43</td>\n",
       "    </tr>\n",
       "    <tr>\n",
       "      <th>1</th>\n",
       "      <td>61</td>\n",
       "      <td>31209</td>\n",
       "      <td>N St  SE</td>\n",
       "      <td>31209</td>\n",
       "      <td>N St  SE</td>\n",
       "      <td>W00032</td>\n",
       "      <td>Member</td>\n",
       "      <td>9</td>\n",
       "      <td>20</td>\n",
       "      <td>9</td>\n",
       "      <td>20</td>\n",
       "      <td>11</td>\n",
       "      <td>41</td>\n",
       "      <td>11</td>\n",
       "      <td>42</td>\n",
       "    </tr>\n",
       "    <tr>\n",
       "      <th>2</th>\n",
       "      <td>2690</td>\n",
       "      <td>31600</td>\n",
       "      <td>K St NW</td>\n",
       "      <td>31100</td>\n",
       "      <td>Pennsylvania Ave NW</td>\n",
       "      <td>W00993</td>\n",
       "      <td>Member</td>\n",
       "      <td>9</td>\n",
       "      <td>20</td>\n",
       "      <td>9</td>\n",
       "      <td>20</td>\n",
       "      <td>12</td>\n",
       "      <td>5</td>\n",
       "      <td>12</td>\n",
       "      <td>50</td>\n",
       "    </tr>\n",
       "    <tr>\n",
       "      <th>3</th>\n",
       "      <td>1406</td>\n",
       "      <td>31600</td>\n",
       "      <td>K St NW</td>\n",
       "      <td>31602</td>\n",
       "      <td>Holmead Pl NW</td>\n",
       "      <td>W00344</td>\n",
       "      <td>Member</td>\n",
       "      <td>9</td>\n",
       "      <td>20</td>\n",
       "      <td>9</td>\n",
       "      <td>20</td>\n",
       "      <td>12</td>\n",
       "      <td>6</td>\n",
       "      <td>12</td>\n",
       "      <td>29</td>\n",
       "    </tr>\n",
       "    <tr>\n",
       "      <th>4</th>\n",
       "      <td>1413</td>\n",
       "      <td>31100</td>\n",
       "      <td>Pennsylvania Ave NW</td>\n",
       "      <td>31201</td>\n",
       "      <td>P St NW</td>\n",
       "      <td>W00883</td>\n",
       "      <td>Member</td>\n",
       "      <td>9</td>\n",
       "      <td>20</td>\n",
       "      <td>9</td>\n",
       "      <td>20</td>\n",
       "      <td>12</td>\n",
       "      <td>10</td>\n",
       "      <td>12</td>\n",
       "      <td>34</td>\n",
       "    </tr>\n",
       "  </tbody>\n",
       "</table>\n",
       "</div>"
      ],
      "text/plain": [
       "   Duration  Start station number         Start station  End station number  \\\n",
       "0      1012                 31208     New Jersey Ave SE               31108   \n",
       "1        61                 31209              N St  SE               31209   \n",
       "2      2690                 31600               K St NW               31100   \n",
       "3      1406                 31600               K St NW               31602   \n",
       "4      1413                 31100   Pennsylvania Ave NW               31201   \n",
       "\n",
       "            End station Bike number Member type  Start_Month  Start_Day  \\\n",
       "0               M St SW      W00742      Member            9         20   \n",
       "1              N St  SE      W00032      Member            9         20   \n",
       "2   Pennsylvania Ave NW      W00993      Member            9         20   \n",
       "3         Holmead Pl NW      W00344      Member            9         20   \n",
       "4               P St NW      W00883      Member            9         20   \n",
       "\n",
       "   End_Month  End_Day  Start_Hour  Start_Minute  End_Hour  End_Minute  \n",
       "0          9       20          11            27        11          43  \n",
       "1          9       20          11            41        11          42  \n",
       "2          9       20          12             5        12          50  \n",
       "3          9       20          12             6        12          29  \n",
       "4          9       20          12            10        12          34  "
      ]
     },
     "execution_count": 64,
     "metadata": {},
     "output_type": "execute_result"
    }
   ],
   "source": [
    "df.head()"
   ]
  },
  {
   "cell_type": "code",
   "execution_count": 65,
   "metadata": {},
   "outputs": [],
   "source": [
    "m = df.groupby([\"Start_Month\",\"Member type\"]).median()"
   ]
  },
  {
   "cell_type": "code",
   "execution_count": 66,
   "metadata": {},
   "outputs": [
    {
     "data": {
      "text/html": [
       "<div>\n",
       "<style scoped>\n",
       "    .dataframe tbody tr th:only-of-type {\n",
       "        vertical-align: middle;\n",
       "    }\n",
       "\n",
       "    .dataframe tbody tr th {\n",
       "        vertical-align: top;\n",
       "    }\n",
       "\n",
       "    .dataframe thead th {\n",
       "        text-align: right;\n",
       "    }\n",
       "</style>\n",
       "<table border=\"1\" class=\"dataframe\">\n",
       "  <thead>\n",
       "    <tr style=\"text-align: right;\">\n",
       "      <th></th>\n",
       "      <th></th>\n",
       "      <th>Duration</th>\n",
       "      <th>Start station number</th>\n",
       "      <th>End station number</th>\n",
       "      <th>Start_Day</th>\n",
       "      <th>End_Month</th>\n",
       "      <th>End_Day</th>\n",
       "      <th>Start_Hour</th>\n",
       "      <th>Start_Minute</th>\n",
       "      <th>End_Hour</th>\n",
       "      <th>End_Minute</th>\n",
       "    </tr>\n",
       "    <tr>\n",
       "      <th>Start_Month</th>\n",
       "      <th>Member type</th>\n",
       "      <th></th>\n",
       "      <th></th>\n",
       "      <th></th>\n",
       "      <th></th>\n",
       "      <th></th>\n",
       "      <th></th>\n",
       "      <th></th>\n",
       "      <th></th>\n",
       "      <th></th>\n",
       "      <th></th>\n",
       "    </tr>\n",
       "  </thead>\n",
       "  <tbody>\n",
       "    <tr>\n",
       "      <th rowspan=\"2\" valign=\"top\">9</th>\n",
       "      <th>Casual</th>\n",
       "      <td>1496.0</td>\n",
       "      <td>31200.0</td>\n",
       "      <td>31201.0</td>\n",
       "      <td>25.0</td>\n",
       "      <td>9.0</td>\n",
       "      <td>25.0</td>\n",
       "      <td>15.0</td>\n",
       "      <td>28.0</td>\n",
       "      <td>16.0</td>\n",
       "      <td>28.0</td>\n",
       "    </tr>\n",
       "    <tr>\n",
       "      <th>Member</th>\n",
       "      <td>603.0</td>\n",
       "      <td>31200.0</td>\n",
       "      <td>31201.0</td>\n",
       "      <td>25.0</td>\n",
       "      <td>9.0</td>\n",
       "      <td>25.0</td>\n",
       "      <td>16.0</td>\n",
       "      <td>30.0</td>\n",
       "      <td>16.0</td>\n",
       "      <td>29.0</td>\n",
       "    </tr>\n",
       "    <tr>\n",
       "      <th rowspan=\"3\" valign=\"top\">10</th>\n",
       "      <th>Casual</th>\n",
       "      <td>1742.0</td>\n",
       "      <td>31214.0</td>\n",
       "      <td>31215.0</td>\n",
       "      <td>20.0</td>\n",
       "      <td>10.0</td>\n",
       "      <td>20.0</td>\n",
       "      <td>14.0</td>\n",
       "      <td>30.0</td>\n",
       "      <td>15.0</td>\n",
       "      <td>30.0</td>\n",
       "    </tr>\n",
       "    <tr>\n",
       "      <th>Member</th>\n",
       "      <td>633.0</td>\n",
       "      <td>31205.0</td>\n",
       "      <td>31206.0</td>\n",
       "      <td>20.0</td>\n",
       "      <td>10.0</td>\n",
       "      <td>20.0</td>\n",
       "      <td>15.0</td>\n",
       "      <td>29.0</td>\n",
       "      <td>15.0</td>\n",
       "      <td>30.0</td>\n",
       "    </tr>\n",
       "    <tr>\n",
       "      <th>Unknown</th>\n",
       "      <td>1163.0</td>\n",
       "      <td>31221.0</td>\n",
       "      <td>31104.0</td>\n",
       "      <td>28.0</td>\n",
       "      <td>10.0</td>\n",
       "      <td>28.0</td>\n",
       "      <td>14.0</td>\n",
       "      <td>32.0</td>\n",
       "      <td>14.0</td>\n",
       "      <td>35.0</td>\n",
       "    </tr>\n",
       "    <tr>\n",
       "      <th rowspan=\"3\" valign=\"top\">11</th>\n",
       "      <th>Casual</th>\n",
       "      <td>1443.0</td>\n",
       "      <td>31220.0</td>\n",
       "      <td>31219.0</td>\n",
       "      <td>14.0</td>\n",
       "      <td>11.0</td>\n",
       "      <td>14.0</td>\n",
       "      <td>14.0</td>\n",
       "      <td>29.0</td>\n",
       "      <td>15.0</td>\n",
       "      <td>30.0</td>\n",
       "    </tr>\n",
       "    <tr>\n",
       "      <th>Member</th>\n",
       "      <td>591.0</td>\n",
       "      <td>31214.0</td>\n",
       "      <td>31215.0</td>\n",
       "      <td>15.0</td>\n",
       "      <td>11.0</td>\n",
       "      <td>15.0</td>\n",
       "      <td>15.0</td>\n",
       "      <td>30.0</td>\n",
       "      <td>15.0</td>\n",
       "      <td>30.0</td>\n",
       "    </tr>\n",
       "    <tr>\n",
       "      <th>Unknown</th>\n",
       "      <td>348.0</td>\n",
       "      <td>31218.0</td>\n",
       "      <td>31204.0</td>\n",
       "      <td>15.0</td>\n",
       "      <td>11.0</td>\n",
       "      <td>15.0</td>\n",
       "      <td>8.0</td>\n",
       "      <td>52.0</td>\n",
       "      <td>9.0</td>\n",
       "      <td>48.0</td>\n",
       "    </tr>\n",
       "    <tr>\n",
       "      <th rowspan=\"3\" valign=\"top\">12</th>\n",
       "      <th>Casual</th>\n",
       "      <td>1091.5</td>\n",
       "      <td>31222.0</td>\n",
       "      <td>31221.0</td>\n",
       "      <td>16.0</td>\n",
       "      <td>12.0</td>\n",
       "      <td>16.0</td>\n",
       "      <td>14.0</td>\n",
       "      <td>31.0</td>\n",
       "      <td>15.0</td>\n",
       "      <td>29.5</td>\n",
       "    </tr>\n",
       "    <tr>\n",
       "      <th>Member</th>\n",
       "      <td>520.0</td>\n",
       "      <td>31214.0</td>\n",
       "      <td>31214.0</td>\n",
       "      <td>13.0</td>\n",
       "      <td>12.0</td>\n",
       "      <td>13.0</td>\n",
       "      <td>14.0</td>\n",
       "      <td>30.0</td>\n",
       "      <td>14.0</td>\n",
       "      <td>30.0</td>\n",
       "    </tr>\n",
       "    <tr>\n",
       "      <th>Unknown</th>\n",
       "      <td>407.5</td>\n",
       "      <td>31123.5</td>\n",
       "      <td>31122.0</td>\n",
       "      <td>18.0</td>\n",
       "      <td>12.0</td>\n",
       "      <td>18.0</td>\n",
       "      <td>16.5</td>\n",
       "      <td>18.0</td>\n",
       "      <td>16.5</td>\n",
       "      <td>24.5</td>\n",
       "    </tr>\n",
       "  </tbody>\n",
       "</table>\n",
       "</div>"
      ],
      "text/plain": [
       "                         Duration  Start station number  End station number  \\\n",
       "Start_Month Member type                                                       \n",
       "9           Casual         1496.0               31200.0             31201.0   \n",
       "            Member          603.0               31200.0             31201.0   \n",
       "10          Casual         1742.0               31214.0             31215.0   \n",
       "            Member          633.0               31205.0             31206.0   \n",
       "            Unknown        1163.0               31221.0             31104.0   \n",
       "11          Casual         1443.0               31220.0             31219.0   \n",
       "            Member          591.0               31214.0             31215.0   \n",
       "            Unknown         348.0               31218.0             31204.0   \n",
       "12          Casual         1091.5               31222.0             31221.0   \n",
       "            Member          520.0               31214.0             31214.0   \n",
       "            Unknown         407.5               31123.5             31122.0   \n",
       "\n",
       "                         Start_Day  End_Month  End_Day  Start_Hour  \\\n",
       "Start_Month Member type                                              \n",
       "9           Casual            25.0        9.0     25.0        15.0   \n",
       "            Member            25.0        9.0     25.0        16.0   \n",
       "10          Casual            20.0       10.0     20.0        14.0   \n",
       "            Member            20.0       10.0     20.0        15.0   \n",
       "            Unknown           28.0       10.0     28.0        14.0   \n",
       "11          Casual            14.0       11.0     14.0        14.0   \n",
       "            Member            15.0       11.0     15.0        15.0   \n",
       "            Unknown           15.0       11.0     15.0         8.0   \n",
       "12          Casual            16.0       12.0     16.0        14.0   \n",
       "            Member            13.0       12.0     13.0        14.0   \n",
       "            Unknown           18.0       12.0     18.0        16.5   \n",
       "\n",
       "                         Start_Minute  End_Hour  End_Minute  \n",
       "Start_Month Member type                                      \n",
       "9           Casual               28.0      16.0        28.0  \n",
       "            Member               30.0      16.0        29.0  \n",
       "10          Casual               30.0      15.0        30.0  \n",
       "            Member               29.0      15.0        30.0  \n",
       "            Unknown              32.0      14.0        35.0  \n",
       "11          Casual               29.0      15.0        30.0  \n",
       "            Member               30.0      15.0        30.0  \n",
       "            Unknown              52.0       9.0        48.0  \n",
       "12          Casual               31.0      15.0        29.5  \n",
       "            Member               30.0      14.0        30.0  \n",
       "            Unknown              18.0      16.5        24.5  "
      ]
     },
     "execution_count": 66,
     "metadata": {},
     "output_type": "execute_result"
    }
   ],
   "source": [
    "m"
   ]
  },
  {
   "cell_type": "code",
   "execution_count": 67,
   "metadata": {},
   "outputs": [
    {
     "data": {
      "image/png": "[encoded data removed]",
      "text/plain": [
       "<Figure size 1080x432 with 1 Axes>"
      ]
     },
     "metadata": {},
     "output_type": "display_data"
    }
   ],
   "source": [
    "labels = [\"[SEPT - CASUAL]\",'[SEPT - MEMBER]','[OCT - CASUAL]','[OCT - MEMBER]','[OCT - UNKNOWN]','[NOV - CASUAL]','[NOV - MEMBER]',\"[NOV - UNKNOWN]\",\"[DEC - CASUAL]\",\"[DEC - MEMBER]\",\"[DEC - UNKNOWN]\"]\n",
    "\n",
    "plt.figure(figsize=(15,6))\n",
    "plt.title(\"MEDIAN DURATION OF TRAVELLING OF DIFFERENT MEMBER GROUPS IN DIFFERENT MONTH\",fontdict={\"fontsize\":15,'fontweight':50},pad=8)\n",
    "ax = m['Duration'].plot(kind='bar',color=['red','red','blue','blue','blue','green','green','green','gold','gold','gold'])\n",
    "plt.xlabel(\"TYPE OF MEMBERS & MONTHS\",fontdict = {\"fontsize\":13,'fontweight':20},labelpad=5)\n",
    "plt.ylabel(\"MEDIAN TRAVEL DURATION\",fontdict = {\"fontsize\":13,'fontweight':20},labelpad=5)\n",
    "ax.set_xticklabels(labels=labels)\n",
    "\n",
    "for p in ax.patches:\n",
    "    ax.annotate(\"{:.1f}\".format(p.get_height()),(p.get_x(),p.get_height()+5))\n",
    "\n",
    "plt.show()"
   ]
  },
  {
   "cell_type": "markdown",
   "metadata": {},
   "source": [
    "<b>OBSERVATION --- </b>\n",
    "\n",
    "* OCTOBER MONTH HAD TRAVELLING OF LONGEST DURATION FOR ALL MEMBER TYPE AS COMPARED TO OTHER MONTHS & DECEMBER HAS THE SHORTEST DURATION OF TRAVELLING FOR ALL MEMBER TYPES"
   ]
  },
  {
   "cell_type": "code",
   "execution_count": 70,
   "metadata": {},
   "outputs": [
    {
     "data": {
      "image/png": "[encoded data removed]",
      "text/plain": [
       "<Figure size 1008x576 with 1 Axes>"
      ]
     },
     "metadata": {},
     "output_type": "display_data"
    }
   ],
   "source": [
    "plt.figure(figsize=(14,8))\n",
    "plt.title(\"NUMBER OF BOOKINGS BY DIFFERENT MEMBERS IN DIFFERENT MONTHS\",fontdict = {\"fontsize\":16,'fontweight':20},pad=15)\n",
    "ax = sns.countplot(df['Start_Month'],hue=df['Member type'])\n",
    "plt.xlabel(\"DIFFERENT GROUPS OF MEMBERS IN DIFFERENT MONTHS\",fontdict = {\"fontsize\":13,'fontweight':20},labelpad=5)\n",
    "plt.ylabel(\"NUMBER OF BOOKINGS MADE\",fontdict = {\"fontsize\":13,'fontweight':20},labelpad=5)\n",
    "ax.set_xticklabels(labels=[\"SEPTEMBER\",'OCTOBER','NOVEMBER','DECEMBER'])\n",
    "\n",
    "for p in ax.patches:\n",
    "    ax.annotate(\"{:.1f}\".format(p.get_height()),(p.get_x(),p.get_height()))\n",
    "    \n",
    "plt.show()"
   ]
  },
  {
   "cell_type": "code",
   "execution_count": 71,
   "metadata": {},
   "outputs": [
    {
     "data": {
      "text/html": [
       "<div>\n",
       "<style scoped>\n",
       "    .dataframe tbody tr th:only-of-type {\n",
       "        vertical-align: middle;\n",
       "    }\n",
       "\n",
       "    .dataframe tbody tr th {\n",
       "        vertical-align: top;\n",
       "    }\n",
       "\n",
       "    .dataframe thead th {\n",
       "        text-align: right;\n",
       "    }\n",
       "</style>\n",
       "<table border=\"1\" class=\"dataframe\">\n",
       "  <thead>\n",
       "    <tr style=\"text-align: right;\">\n",
       "      <th></th>\n",
       "      <th>Duration</th>\n",
       "      <th>Start station number</th>\n",
       "      <th>Start station</th>\n",
       "      <th>End station number</th>\n",
       "      <th>End station</th>\n",
       "      <th>Bike number</th>\n",
       "      <th>Member type</th>\n",
       "      <th>Start_Month</th>\n",
       "      <th>Start_Day</th>\n",
       "      <th>End_Month</th>\n",
       "      <th>End_Day</th>\n",
       "      <th>Start_Hour</th>\n",
       "      <th>Start_Minute</th>\n",
       "      <th>End_Hour</th>\n",
       "      <th>End_Minute</th>\n",
       "    </tr>\n",
       "  </thead>\n",
       "  <tbody>\n",
       "    <tr>\n",
       "      <th>0</th>\n",
       "      <td>1012</td>\n",
       "      <td>31208</td>\n",
       "      <td>New Jersey Ave SE</td>\n",
       "      <td>31108</td>\n",
       "      <td>M St SW</td>\n",
       "      <td>W00742</td>\n",
       "      <td>Member</td>\n",
       "      <td>9</td>\n",
       "      <td>20</td>\n",
       "      <td>9</td>\n",
       "      <td>20</td>\n",
       "      <td>11</td>\n",
       "      <td>27</td>\n",
       "      <td>11</td>\n",
       "      <td>43</td>\n",
       "    </tr>\n",
       "    <tr>\n",
       "      <th>1</th>\n",
       "      <td>61</td>\n",
       "      <td>31209</td>\n",
       "      <td>N St  SE</td>\n",
       "      <td>31209</td>\n",
       "      <td>N St  SE</td>\n",
       "      <td>W00032</td>\n",
       "      <td>Member</td>\n",
       "      <td>9</td>\n",
       "      <td>20</td>\n",
       "      <td>9</td>\n",
       "      <td>20</td>\n",
       "      <td>11</td>\n",
       "      <td>41</td>\n",
       "      <td>11</td>\n",
       "      <td>42</td>\n",
       "    </tr>\n",
       "    <tr>\n",
       "      <th>2</th>\n",
       "      <td>2690</td>\n",
       "      <td>31600</td>\n",
       "      <td>K St NW</td>\n",
       "      <td>31100</td>\n",
       "      <td>Pennsylvania Ave NW</td>\n",
       "      <td>W00993</td>\n",
       "      <td>Member</td>\n",
       "      <td>9</td>\n",
       "      <td>20</td>\n",
       "      <td>9</td>\n",
       "      <td>20</td>\n",
       "      <td>12</td>\n",
       "      <td>5</td>\n",
       "      <td>12</td>\n",
       "      <td>50</td>\n",
       "    </tr>\n",
       "    <tr>\n",
       "      <th>3</th>\n",
       "      <td>1406</td>\n",
       "      <td>31600</td>\n",
       "      <td>K St NW</td>\n",
       "      <td>31602</td>\n",
       "      <td>Holmead Pl NW</td>\n",
       "      <td>W00344</td>\n",
       "      <td>Member</td>\n",
       "      <td>9</td>\n",
       "      <td>20</td>\n",
       "      <td>9</td>\n",
       "      <td>20</td>\n",
       "      <td>12</td>\n",
       "      <td>6</td>\n",
       "      <td>12</td>\n",
       "      <td>29</td>\n",
       "    </tr>\n",
       "    <tr>\n",
       "      <th>4</th>\n",
       "      <td>1413</td>\n",
       "      <td>31100</td>\n",
       "      <td>Pennsylvania Ave NW</td>\n",
       "      <td>31201</td>\n",
       "      <td>P St NW</td>\n",
       "      <td>W00883</td>\n",
       "      <td>Member</td>\n",
       "      <td>9</td>\n",
       "      <td>20</td>\n",
       "      <td>9</td>\n",
       "      <td>20</td>\n",
       "      <td>12</td>\n",
       "      <td>10</td>\n",
       "      <td>12</td>\n",
       "      <td>34</td>\n",
       "    </tr>\n",
       "  </tbody>\n",
       "</table>\n",
       "</div>"
      ],
      "text/plain": [
       "   Duration  Start station number         Start station  End station number  \\\n",
       "0      1012                 31208     New Jersey Ave SE               31108   \n",
       "1        61                 31209              N St  SE               31209   \n",
       "2      2690                 31600               K St NW               31100   \n",
       "3      1406                 31600               K St NW               31602   \n",
       "4      1413                 31100   Pennsylvania Ave NW               31201   \n",
       "\n",
       "            End station Bike number Member type  Start_Month  Start_Day  \\\n",
       "0               M St SW      W00742      Member            9         20   \n",
       "1              N St  SE      W00032      Member            9         20   \n",
       "2   Pennsylvania Ave NW      W00993      Member            9         20   \n",
       "3         Holmead Pl NW      W00344      Member            9         20   \n",
       "4               P St NW      W00883      Member            9         20   \n",
       "\n",
       "   End_Month  End_Day  Start_Hour  Start_Minute  End_Hour  End_Minute  \n",
       "0          9       20          11            27        11          43  \n",
       "1          9       20          11            41        11          42  \n",
       "2          9       20          12             5        12          50  \n",
       "3          9       20          12             6        12          29  \n",
       "4          9       20          12            10        12          34  "
      ]
     },
     "execution_count": 71,
     "metadata": {},
     "output_type": "execute_result"
    }
   ],
   "source": [
    "df.head()"
   ]
  },
  {
   "cell_type": "code",
   "execution_count": 74,
   "metadata": {},
   "outputs": [
    {
     "data": {
      "text/plain": [
       " Dupont Circle NW    5093\n",
       " M St NW             4875\n",
       " Harvard St NW       4598\n",
       " Columbia Rd NW      4160\n",
       " K St NW             4075\n",
       " P St NW             3749\n",
       " V St NW             3667\n",
       " H St NW             3454\n",
       " R St NW             3202\n",
       " T St NW             3177\n",
       "Name: Start station, dtype: int64"
      ]
     },
     "execution_count": 74,
     "metadata": {},
     "output_type": "execute_result"
    }
   ],
   "source": [
    "m = df['Start station'].value_counts().head(10)\n",
    "m"
   ]
  },
  {
   "cell_type": "code",
   "execution_count": 79,
   "metadata": {},
   "outputs": [
    {
     "data": {
      "image/png": "[encoded data removed]",
      "text/plain": [
       "<Figure size 936x432 with 1 Axes>"
      ]
     },
     "metadata": {},
     "output_type": "display_data"
    }
   ],
   "source": [
    "plt.figure(figsize=(13,6))\n",
    "sns.set_style(\"darkgrid\")\n",
    "ax = sns.barplot(m.values,m.index)\n",
    "plt.title(\"TOP 10 START STATION WITH MOST NUMBER OF BOOKINGS\",fontdict={\"fontsize\":15,\"fontweight\":20},pad=8)\n",
    "plt.ylabel(\"NAMES OF THE START STATIONS\",fontdict={\"fontsize\":12,'fontweight':20})\n",
    "plt.xlabel(\"NUMBER OF BOOKINGS\",fontdict={\"fontsize\":12,'fontweight':20})\n",
    "\n",
    "for p in ax.patches:\n",
    "    x = int(p.get_x())\n",
    "    y = int(p.get_y())\n",
    "    \n",
    "    label = p.get_width()\n",
    "    ax.text(x,y,label)\n",
    "    \n",
    "plt.show()"
   ]
  },
  {
   "cell_type": "code",
   "execution_count": 74,
   "metadata": {},
   "outputs": [
    {
     "data": {
      "text/plain": [
       " Newton St NE             124\n",
       " Monroe St NE             106\n",
       " MLK Ave SE                65\n",
       " Minnesota Ave SE          47\n",
       "Anacostia Metro            33\n",
       " Naylor Rd SE              21\n",
       "Minnesota Ave Metro        14\n",
       "Anacostia Library          11\n",
       "Benning Branch Library      6\n",
       " Minnesota Ave NE           4\n",
       "Name: Start station, dtype: int64"
      ]
     },
     "execution_count": 74,
     "metadata": {},
     "output_type": "execute_result"
    }
   ],
   "source": [
    "m = df['Start station'].value_counts().tail(10)\n",
    "m"
   ]
  },
  {
   "cell_type": "code",
   "execution_count": 75,
   "metadata": {},
   "outputs": [
    {
     "data": {
      "image/png": "[encoded data removed]",
      "text/plain": [
       "<Figure size 936x432 with 1 Axes>"
      ]
     },
     "metadata": {},
     "output_type": "display_data"
    }
   ],
   "source": [
    "plt.figure(figsize=(13,6))\n",
    "ax = sns.barplot(m.values,m.index)\n",
    "plt.title(\"TOP 10 START STATION WITH LEAST NUMBER OF BOOKINGS\",fontdict={\"fontsize\":15,\"fontweight\":12},pad=8)\n",
    "plt.ylabel(\"NAMES OF THE START STATIONS\",fontdict={\"fontsize\":12,'fontweight':10})\n",
    "plt.xlabel(\"NUMBER OF BOOKINGS\",fontdict={\"fontsize\":12,'fontweight':10})\n",
    "\n",
    "#for p in ax.patches:\n",
    " #   ax.annotate(\"{:.1f}\".format(p.get_x()),(p.get_x(),p.get_height()))\n",
    "    \n",
    "plt.show()"
   ]
  },
  {
   "cell_type": "code",
   "execution_count": 80,
   "metadata": {},
   "outputs": [
    {
     "data": {
      "text/plain": [
       " Dupont Circle NW    5603\n",
       " M St NW             5364\n",
       " K St NW             4476\n",
       " P St NW             4047\n",
       " H St NW             3933\n",
       " V St NW             3576\n",
       " Columbia Rd NW      3535\n",
       " Corcoran St NW      3303\n",
       " I St NW             3261\n",
       " Harvard St NW       3178\n",
       "Name: End station, dtype: int64"
      ]
     },
     "execution_count": 80,
     "metadata": {},
     "output_type": "execute_result"
    }
   ],
   "source": [
    "m = df['End station'].value_counts()[:10]\n",
    "m"
   ]
  },
  {
   "cell_type": "code",
   "execution_count": 81,
   "metadata": {},
   "outputs": [
    {
     "data": {
      "image/png": "[encoded data removed]",
      "text/plain": [
       "<Figure size 936x432 with 1 Axes>"
      ]
     },
     "metadata": {},
     "output_type": "display_data"
    }
   ],
   "source": [
    "plt.figure(figsize=(13,6))\n",
    "ax = sns.barplot(m.values,m.index)\n",
    "plt.title(\"TOP 10 END STATION WITH MOST NUMBER OF BOOKINGS\",fontdict={\"fontsize\":15,\"fontweight\":12},pad=8)\n",
    "plt.ylabel(\"NAMES OF THE END STATION\",fontdict={\"fontsize\":12,'fontweight':10})\n",
    "plt.xlabel(\"NUMBER OF BOOKINGS\",fontdict={\"fontsize\":12,'fontweight':10})\n",
    "\n",
    "#for p in ax.patches:\n",
    " #   ax.annotate(\"{:.1f}\".format(p.get_x()),(p.get_x(),p.get_height()))\n",
    "    \n",
    "plt.show()"
   ]
  },
  {
   "cell_type": "code",
   "execution_count": 82,
   "metadata": {},
   "outputs": [
    {
     "data": {
      "text/plain": [
       " Newton St NE             113\n",
       " Monroe St NE             102\n",
       " Minnesota Ave SE          59\n",
       "Anacostia Metro            53\n",
       " MLK Ave SE                32\n",
       " Naylor Rd SE              19\n",
       "Anacostia Library          14\n",
       "Minnesota Ave Metro         7\n",
       " Minnesota Ave NE           6\n",
       "Benning Branch Library      5\n",
       "Name: End station, dtype: int64"
      ]
     },
     "execution_count": 82,
     "metadata": {},
     "output_type": "execute_result"
    }
   ],
   "source": [
    "m = df['End station'].value_counts().tail(10)\n",
    "m"
   ]
  },
  {
   "cell_type": "code",
   "execution_count": 83,
   "metadata": {},
   "outputs": [
    {
     "data": {
      "image/png": "[encoded data removed]",
      "text/plain": [
       "<Figure size 1080x432 with 1 Axes>"
      ]
     },
     "metadata": {},
     "output_type": "display_data"
    }
   ],
   "source": [
    "plt.figure(figsize=(15,6))\n",
    "ax = sns.barplot(m.values,m.index)\n",
    "plt.title(\"TOP 10 END STATION WITH LEAST NUMBER OF BOOKINGS\",fontdict={\"fontsize\":15,\"fontweight\":12},pad=8)\n",
    "plt.ylabel(\"NAMES OF THE END STATION\",fontdict={\"fontsize\":12,'fontweight':10})\n",
    "plt.xlabel(\"NUMBER OF BOOKINGS\",fontdict={\"fontsize\":12,'fontweight':10})\n",
    "\n",
    "for p in ax.patches:\n",
    "    ax.annotate(\"{:.1f}\".format(p.get_height()),(p.get_x(),p.get_height()))\n",
    "    \n",
    "plt.show()"
   ]
  },
  {
   "cell_type": "code",
   "execution_count": 84,
   "metadata": {},
   "outputs": [
    {
     "data": {
      "text/html": [
       "<div>\n",
       "<style scoped>\n",
       "    .dataframe tbody tr th:only-of-type {\n",
       "        vertical-align: middle;\n",
       "    }\n",
       "\n",
       "    .dataframe tbody tr th {\n",
       "        vertical-align: top;\n",
       "    }\n",
       "\n",
       "    .dataframe thead th {\n",
       "        text-align: right;\n",
       "    }\n",
       "</style>\n",
       "<table border=\"1\" class=\"dataframe\">\n",
       "  <thead>\n",
       "    <tr style=\"text-align: right;\">\n",
       "      <th></th>\n",
       "      <th>Duration</th>\n",
       "      <th>Start station number</th>\n",
       "      <th>Start station</th>\n",
       "      <th>End station number</th>\n",
       "      <th>End station</th>\n",
       "      <th>Bike number</th>\n",
       "      <th>Member type</th>\n",
       "      <th>Start_Month</th>\n",
       "      <th>Start_Day</th>\n",
       "      <th>End_Month</th>\n",
       "      <th>End_Day</th>\n",
       "      <th>Start_Hour</th>\n",
       "      <th>Start_Minute</th>\n",
       "      <th>End_Hour</th>\n",
       "      <th>End_Minute</th>\n",
       "    </tr>\n",
       "  </thead>\n",
       "  <tbody>\n",
       "    <tr>\n",
       "      <th>0</th>\n",
       "      <td>1012</td>\n",
       "      <td>31208</td>\n",
       "      <td>New Jersey Ave SE</td>\n",
       "      <td>31108</td>\n",
       "      <td>M St SW</td>\n",
       "      <td>W00742</td>\n",
       "      <td>Member</td>\n",
       "      <td>9</td>\n",
       "      <td>20</td>\n",
       "      <td>9</td>\n",
       "      <td>20</td>\n",
       "      <td>11</td>\n",
       "      <td>27</td>\n",
       "      <td>11</td>\n",
       "      <td>43</td>\n",
       "    </tr>\n",
       "    <tr>\n",
       "      <th>1</th>\n",
       "      <td>61</td>\n",
       "      <td>31209</td>\n",
       "      <td>N St  SE</td>\n",
       "      <td>31209</td>\n",
       "      <td>N St  SE</td>\n",
       "      <td>W00032</td>\n",
       "      <td>Member</td>\n",
       "      <td>9</td>\n",
       "      <td>20</td>\n",
       "      <td>9</td>\n",
       "      <td>20</td>\n",
       "      <td>11</td>\n",
       "      <td>41</td>\n",
       "      <td>11</td>\n",
       "      <td>42</td>\n",
       "    </tr>\n",
       "    <tr>\n",
       "      <th>2</th>\n",
       "      <td>2690</td>\n",
       "      <td>31600</td>\n",
       "      <td>K St NW</td>\n",
       "      <td>31100</td>\n",
       "      <td>Pennsylvania Ave NW</td>\n",
       "      <td>W00993</td>\n",
       "      <td>Member</td>\n",
       "      <td>9</td>\n",
       "      <td>20</td>\n",
       "      <td>9</td>\n",
       "      <td>20</td>\n",
       "      <td>12</td>\n",
       "      <td>5</td>\n",
       "      <td>12</td>\n",
       "      <td>50</td>\n",
       "    </tr>\n",
       "    <tr>\n",
       "      <th>3</th>\n",
       "      <td>1406</td>\n",
       "      <td>31600</td>\n",
       "      <td>K St NW</td>\n",
       "      <td>31602</td>\n",
       "      <td>Holmead Pl NW</td>\n",
       "      <td>W00344</td>\n",
       "      <td>Member</td>\n",
       "      <td>9</td>\n",
       "      <td>20</td>\n",
       "      <td>9</td>\n",
       "      <td>20</td>\n",
       "      <td>12</td>\n",
       "      <td>6</td>\n",
       "      <td>12</td>\n",
       "      <td>29</td>\n",
       "    </tr>\n",
       "    <tr>\n",
       "      <th>4</th>\n",
       "      <td>1413</td>\n",
       "      <td>31100</td>\n",
       "      <td>Pennsylvania Ave NW</td>\n",
       "      <td>31201</td>\n",
       "      <td>P St NW</td>\n",
       "      <td>W00883</td>\n",
       "      <td>Member</td>\n",
       "      <td>9</td>\n",
       "      <td>20</td>\n",
       "      <td>9</td>\n",
       "      <td>20</td>\n",
       "      <td>12</td>\n",
       "      <td>10</td>\n",
       "      <td>12</td>\n",
       "      <td>34</td>\n",
       "    </tr>\n",
       "  </tbody>\n",
       "</table>\n",
       "</div>"
      ],
      "text/plain": [
       "   Duration  Start station number         Start station  End station number  \\\n",
       "0      1012                 31208     New Jersey Ave SE               31108   \n",
       "1        61                 31209              N St  SE               31209   \n",
       "2      2690                 31600               K St NW               31100   \n",
       "3      1406                 31600               K St NW               31602   \n",
       "4      1413                 31100   Pennsylvania Ave NW               31201   \n",
       "\n",
       "            End station Bike number Member type  Start_Month  Start_Day  \\\n",
       "0               M St SW      W00742      Member            9         20   \n",
       "1              N St  SE      W00032      Member            9         20   \n",
       "2   Pennsylvania Ave NW      W00993      Member            9         20   \n",
       "3         Holmead Pl NW      W00344      Member            9         20   \n",
       "4               P St NW      W00883      Member            9         20   \n",
       "\n",
       "   End_Month  End_Day  Start_Hour  Start_Minute  End_Hour  End_Minute  \n",
       "0          9       20          11            27        11          43  \n",
       "1          9       20          11            41        11          42  \n",
       "2          9       20          12             5        12          50  \n",
       "3          9       20          12             6        12          29  \n",
       "4          9       20          12            10        12          34  "
      ]
     },
     "execution_count": 84,
     "metadata": {},
     "output_type": "execute_result"
    }
   ],
   "source": [
    "df.head()"
   ]
  },
  {
   "cell_type": "code",
   "execution_count": null,
   "metadata": {},
   "outputs": [],
   "source": []
  },
  {
   "cell_type": "code",
   "execution_count": null,
   "metadata": {},
   "outputs": [],
   "source": []
  },
  {
   "cell_type": "code",
   "execution_count": null,
   "metadata": {},
   "outputs": [],
   "source": []
  },
  {
   "cell_type": "markdown",
   "metadata": {},
   "source": [
    "## ENCODING FEATURES"
   ]
  },
  {
   "cell_type": "code",
   "execution_count": 84,
   "metadata": {},
   "outputs": [],
   "source": [
    "mapp = {\"Member\":1,\"Casual\":0,\"Unknown\":2}"
   ]
  },
  {
   "cell_type": "code",
   "execution_count": 85,
   "metadata": {},
   "outputs": [],
   "source": [
    "df['Member type'] = df['Member type'].map(mapp)"
   ]
  },
  {
   "cell_type": "code",
   "execution_count": 86,
   "metadata": {},
   "outputs": [
    {
     "data": {
      "text/html": [
       "<div>\n",
       "<style scoped>\n",
       "    .dataframe tbody tr th:only-of-type {\n",
       "        vertical-align: middle;\n",
       "    }\n",
       "\n",
       "    .dataframe tbody tr th {\n",
       "        vertical-align: top;\n",
       "    }\n",
       "\n",
       "    .dataframe thead th {\n",
       "        text-align: right;\n",
       "    }\n",
       "</style>\n",
       "<table border=\"1\" class=\"dataframe\">\n",
       "  <thead>\n",
       "    <tr style=\"text-align: right;\">\n",
       "      <th></th>\n",
       "      <th>Duration</th>\n",
       "      <th>Start station number</th>\n",
       "      <th>Start station</th>\n",
       "      <th>End station number</th>\n",
       "      <th>End station</th>\n",
       "      <th>Bike number</th>\n",
       "      <th>Member type</th>\n",
       "      <th>Start_Month</th>\n",
       "      <th>Start_Day</th>\n",
       "      <th>End_Month</th>\n",
       "      <th>End_Day</th>\n",
       "      <th>Start_Hour</th>\n",
       "      <th>Start_Minute</th>\n",
       "      <th>End_Hour</th>\n",
       "      <th>End_Minute</th>\n",
       "    </tr>\n",
       "  </thead>\n",
       "  <tbody>\n",
       "    <tr>\n",
       "      <th>0</th>\n",
       "      <td>1012</td>\n",
       "      <td>31208</td>\n",
       "      <td>New Jersey Ave SE</td>\n",
       "      <td>31108</td>\n",
       "      <td>M St SW</td>\n",
       "      <td>W00742</td>\n",
       "      <td>1</td>\n",
       "      <td>9</td>\n",
       "      <td>20</td>\n",
       "      <td>9</td>\n",
       "      <td>20</td>\n",
       "      <td>11</td>\n",
       "      <td>27</td>\n",
       "      <td>11</td>\n",
       "      <td>43</td>\n",
       "    </tr>\n",
       "    <tr>\n",
       "      <th>1</th>\n",
       "      <td>61</td>\n",
       "      <td>31209</td>\n",
       "      <td>N St  SE</td>\n",
       "      <td>31209</td>\n",
       "      <td>N St  SE</td>\n",
       "      <td>W00032</td>\n",
       "      <td>1</td>\n",
       "      <td>9</td>\n",
       "      <td>20</td>\n",
       "      <td>9</td>\n",
       "      <td>20</td>\n",
       "      <td>11</td>\n",
       "      <td>41</td>\n",
       "      <td>11</td>\n",
       "      <td>42</td>\n",
       "    </tr>\n",
       "    <tr>\n",
       "      <th>2</th>\n",
       "      <td>2690</td>\n",
       "      <td>31600</td>\n",
       "      <td>K St NW</td>\n",
       "      <td>31100</td>\n",
       "      <td>Pennsylvania Ave NW</td>\n",
       "      <td>W00993</td>\n",
       "      <td>1</td>\n",
       "      <td>9</td>\n",
       "      <td>20</td>\n",
       "      <td>9</td>\n",
       "      <td>20</td>\n",
       "      <td>12</td>\n",
       "      <td>5</td>\n",
       "      <td>12</td>\n",
       "      <td>50</td>\n",
       "    </tr>\n",
       "    <tr>\n",
       "      <th>3</th>\n",
       "      <td>1406</td>\n",
       "      <td>31600</td>\n",
       "      <td>K St NW</td>\n",
       "      <td>31602</td>\n",
       "      <td>Holmead Pl NW</td>\n",
       "      <td>W00344</td>\n",
       "      <td>1</td>\n",
       "      <td>9</td>\n",
       "      <td>20</td>\n",
       "      <td>9</td>\n",
       "      <td>20</td>\n",
       "      <td>12</td>\n",
       "      <td>6</td>\n",
       "      <td>12</td>\n",
       "      <td>29</td>\n",
       "    </tr>\n",
       "    <tr>\n",
       "      <th>4</th>\n",
       "      <td>1413</td>\n",
       "      <td>31100</td>\n",
       "      <td>Pennsylvania Ave NW</td>\n",
       "      <td>31201</td>\n",
       "      <td>P St NW</td>\n",
       "      <td>W00883</td>\n",
       "      <td>1</td>\n",
       "      <td>9</td>\n",
       "      <td>20</td>\n",
       "      <td>9</td>\n",
       "      <td>20</td>\n",
       "      <td>12</td>\n",
       "      <td>10</td>\n",
       "      <td>12</td>\n",
       "      <td>34</td>\n",
       "    </tr>\n",
       "  </tbody>\n",
       "</table>\n",
       "</div>"
      ],
      "text/plain": [
       "   Duration  Start station number         Start station  End station number  \\\n",
       "0      1012                 31208     New Jersey Ave SE               31108   \n",
       "1        61                 31209              N St  SE               31209   \n",
       "2      2690                 31600               K St NW               31100   \n",
       "3      1406                 31600               K St NW               31602   \n",
       "4      1413                 31100   Pennsylvania Ave NW               31201   \n",
       "\n",
       "            End station Bike number  Member type  Start_Month  Start_Day  \\\n",
       "0               M St SW      W00742            1            9         20   \n",
       "1              N St  SE      W00032            1            9         20   \n",
       "2   Pennsylvania Ave NW      W00993            1            9         20   \n",
       "3         Holmead Pl NW      W00344            1            9         20   \n",
       "4               P St NW      W00883            1            9         20   \n",
       "\n",
       "   End_Month  End_Day  Start_Hour  Start_Minute  End_Hour  End_Minute  \n",
       "0          9       20          11            27        11          43  \n",
       "1          9       20          11            41        11          42  \n",
       "2          9       20          12             5        12          50  \n",
       "3          9       20          12             6        12          29  \n",
       "4          9       20          12            10        12          34  "
      ]
     },
     "execution_count": 86,
     "metadata": {},
     "output_type": "execute_result"
    }
   ],
   "source": [
    "df.head()"
   ]
  },
  {
   "cell_type": "code",
   "execution_count": 87,
   "metadata": {},
   "outputs": [
    {
     "data": {
      "text/html": [
       "<div>\n",
       "<style scoped>\n",
       "    .dataframe tbody tr th:only-of-type {\n",
       "        vertical-align: middle;\n",
       "    }\n",
       "\n",
       "    .dataframe tbody tr th {\n",
       "        vertical-align: top;\n",
       "    }\n",
       "\n",
       "    .dataframe thead th {\n",
       "        text-align: right;\n",
       "    }\n",
       "</style>\n",
       "<table border=\"1\" class=\"dataframe\">\n",
       "  <thead>\n",
       "    <tr style=\"text-align: right;\">\n",
       "      <th></th>\n",
       "      <th>Duration</th>\n",
       "      <th>Start station number</th>\n",
       "      <th>Start station</th>\n",
       "      <th>End station number</th>\n",
       "      <th>End station</th>\n",
       "      <th>Bike number</th>\n",
       "      <th>Member type</th>\n",
       "      <th>Start_Month</th>\n",
       "      <th>Start_Day</th>\n",
       "      <th>End_Month</th>\n",
       "      <th>End_Day</th>\n",
       "      <th>Start_Hour</th>\n",
       "      <th>Start_Minute</th>\n",
       "      <th>End_Hour</th>\n",
       "      <th>End_Minute</th>\n",
       "    </tr>\n",
       "  </thead>\n",
       "  <tbody>\n",
       "    <tr>\n",
       "      <th>15727</th>\n",
       "      <td>2477</td>\n",
       "      <td>31221</td>\n",
       "      <td>M St NW</td>\n",
       "      <td>31302</td>\n",
       "      <td>Newark St NW</td>\n",
       "      <td>W01070</td>\n",
       "      <td>2</td>\n",
       "      <td>10</td>\n",
       "      <td>15</td>\n",
       "      <td>10</td>\n",
       "      <td>15</td>\n",
       "      <td>13</td>\n",
       "      <td>24</td>\n",
       "      <td>14</td>\n",
       "      <td>5</td>\n",
       "    </tr>\n",
       "    <tr>\n",
       "      <th>23363</th>\n",
       "      <td>226</td>\n",
       "      <td>31011</td>\n",
       "      <td>Crystal Dr</td>\n",
       "      <td>31007</td>\n",
       "      <td>Bell St</td>\n",
       "      <td>W00438</td>\n",
       "      <td>2</td>\n",
       "      <td>10</td>\n",
       "      <td>21</td>\n",
       "      <td>10</td>\n",
       "      <td>21</td>\n",
       "      <td>17</td>\n",
       "      <td>41</td>\n",
       "      <td>17</td>\n",
       "      <td>45</td>\n",
       "    </tr>\n",
       "    <tr>\n",
       "      <th>32974</th>\n",
       "      <td>168</td>\n",
       "      <td>31011</td>\n",
       "      <td>Crystal Dr</td>\n",
       "      <td>31003</td>\n",
       "      <td>Crystal Dr</td>\n",
       "      <td>W00878</td>\n",
       "      <td>2</td>\n",
       "      <td>10</td>\n",
       "      <td>28</td>\n",
       "      <td>10</td>\n",
       "      <td>28</td>\n",
       "      <td>12</td>\n",
       "      <td>32</td>\n",
       "      <td>12</td>\n",
       "      <td>35</td>\n",
       "    </tr>\n",
       "    <tr>\n",
       "      <th>36829</th>\n",
       "      <td>1279</td>\n",
       "      <td>31620</td>\n",
       "      <td>F St NW</td>\n",
       "      <td>31229</td>\n",
       "      <td>T St NW</td>\n",
       "      <td>W00077</td>\n",
       "      <td>2</td>\n",
       "      <td>10</td>\n",
       "      <td>30</td>\n",
       "      <td>10</td>\n",
       "      <td>30</td>\n",
       "      <td>14</td>\n",
       "      <td>27</td>\n",
       "      <td>14</td>\n",
       "      <td>48</td>\n",
       "    </tr>\n",
       "    <tr>\n",
       "      <th>37137</th>\n",
       "      <td>1163</td>\n",
       "      <td>31620</td>\n",
       "      <td>F St NW</td>\n",
       "      <td>31104</td>\n",
       "      <td>Columbia Rd NW</td>\n",
       "      <td>W01080</td>\n",
       "      <td>2</td>\n",
       "      <td>10</td>\n",
       "      <td>30</td>\n",
       "      <td>10</td>\n",
       "      <td>30</td>\n",
       "      <td>15</td>\n",
       "      <td>40</td>\n",
       "      <td>16</td>\n",
       "      <td>0</td>\n",
       "    </tr>\n",
       "    <tr>\n",
       "      <th>53909</th>\n",
       "      <td>383</td>\n",
       "      <td>31218</td>\n",
       "      <td>C St SW</td>\n",
       "      <td>31219</td>\n",
       "      <td>Constitution Ave NW</td>\n",
       "      <td>W00648</td>\n",
       "      <td>2</td>\n",
       "      <td>11</td>\n",
       "      <td>10</td>\n",
       "      <td>11</td>\n",
       "      <td>10</td>\n",
       "      <td>8</td>\n",
       "      <td>52</td>\n",
       "      <td>8</td>\n",
       "      <td>58</td>\n",
       "    </tr>\n",
       "    <tr>\n",
       "      <th>64268</th>\n",
       "      <td>331</td>\n",
       "      <td>31235</td>\n",
       "      <td>Constitution Ave NW</td>\n",
       "      <td>31204</td>\n",
       "      <td>E St NW</td>\n",
       "      <td>W00844</td>\n",
       "      <td>2</td>\n",
       "      <td>11</td>\n",
       "      <td>15</td>\n",
       "      <td>11</td>\n",
       "      <td>15</td>\n",
       "      <td>8</td>\n",
       "      <td>56</td>\n",
       "      <td>9</td>\n",
       "      <td>1</td>\n",
       "    </tr>\n",
       "    <tr>\n",
       "      <th>70918</th>\n",
       "      <td>348</td>\n",
       "      <td>31201</td>\n",
       "      <td>P St NW</td>\n",
       "      <td>31200</td>\n",
       "      <td>Dupont Circle NW</td>\n",
       "      <td>W00565</td>\n",
       "      <td>2</td>\n",
       "      <td>11</td>\n",
       "      <td>19</td>\n",
       "      <td>11</td>\n",
       "      <td>19</td>\n",
       "      <td>12</td>\n",
       "      <td>42</td>\n",
       "      <td>12</td>\n",
       "      <td>48</td>\n",
       "    </tr>\n",
       "    <tr>\n",
       "      <th>102581</th>\n",
       "      <td>292</td>\n",
       "      <td>31011</td>\n",
       "      <td>Crystal Dr</td>\n",
       "      <td>31007</td>\n",
       "      <td>Bell St</td>\n",
       "      <td>W00278</td>\n",
       "      <td>2</td>\n",
       "      <td>12</td>\n",
       "      <td>14</td>\n",
       "      <td>12</td>\n",
       "      <td>14</td>\n",
       "      <td>17</td>\n",
       "      <td>1</td>\n",
       "      <td>17</td>\n",
       "      <td>6</td>\n",
       "    </tr>\n",
       "    <tr>\n",
       "      <th>109862</th>\n",
       "      <td>523</td>\n",
       "      <td>31236</td>\n",
       "      <td>O St NW / Georgetown University</td>\n",
       "      <td>31237</td>\n",
       "      <td>Pennsylvania Ave NW</td>\n",
       "      <td>W00805</td>\n",
       "      <td>2</td>\n",
       "      <td>12</td>\n",
       "      <td>22</td>\n",
       "      <td>12</td>\n",
       "      <td>22</td>\n",
       "      <td>16</td>\n",
       "      <td>35</td>\n",
       "      <td>16</td>\n",
       "      <td>43</td>\n",
       "    </tr>\n",
       "  </tbody>\n",
       "</table>\n",
       "</div>"
      ],
      "text/plain": [
       "        Duration  Start station number                     Start station  \\\n",
       "15727       2477                 31221                           M St NW   \n",
       "23363        226                 31011                        Crystal Dr   \n",
       "32974        168                 31011                        Crystal Dr   \n",
       "36829       1279                 31620                           F St NW   \n",
       "37137       1163                 31620                           F St NW   \n",
       "53909        383                 31218                           C St SW   \n",
       "64268        331                 31235               Constitution Ave NW   \n",
       "70918        348                 31201                           P St NW   \n",
       "102581       292                 31011                        Crystal Dr   \n",
       "109862       523                 31236   O St NW / Georgetown University   \n",
       "\n",
       "        End station number           End station Bike number  Member type  \\\n",
       "15727                31302          Newark St NW      W01070            2   \n",
       "23363                31007               Bell St      W00438            2   \n",
       "32974                31003            Crystal Dr      W00878            2   \n",
       "36829                31229               T St NW      W00077            2   \n",
       "37137                31104        Columbia Rd NW      W01080            2   \n",
       "53909                31219   Constitution Ave NW      W00648            2   \n",
       "64268                31204               E St NW      W00844            2   \n",
       "70918                31200      Dupont Circle NW      W00565            2   \n",
       "102581               31007               Bell St      W00278            2   \n",
       "109862               31237   Pennsylvania Ave NW      W00805            2   \n",
       "\n",
       "        Start_Month  Start_Day  End_Month  End_Day  Start_Hour  Start_Minute  \\\n",
       "15727            10         15         10       15          13            24   \n",
       "23363            10         21         10       21          17            41   \n",
       "32974            10         28         10       28          12            32   \n",
       "36829            10         30         10       30          14            27   \n",
       "37137            10         30         10       30          15            40   \n",
       "53909            11         10         11       10           8            52   \n",
       "64268            11         15         11       15           8            56   \n",
       "70918            11         19         11       19          12            42   \n",
       "102581           12         14         12       14          17             1   \n",
       "109862           12         22         12       22          16            35   \n",
       "\n",
       "        End_Hour  End_Minute  \n",
       "15727         14           5  \n",
       "23363         17          45  \n",
       "32974         12          35  \n",
       "36829         14          48  \n",
       "37137         16           0  \n",
       "53909          8          58  \n",
       "64268          9           1  \n",
       "70918         12          48  \n",
       "102581        17           6  \n",
       "109862        16          43  "
      ]
     },
     "execution_count": 87,
     "metadata": {},
     "output_type": "execute_result"
    }
   ],
   "source": [
    "df[df['Member type']==2]"
   ]
  },
  {
   "cell_type": "code",
   "execution_count": 88,
   "metadata": {},
   "outputs": [],
   "source": [
    "df.drop(df[df['Member type']==2].index,inplace=True,axis=0)"
   ]
  },
  {
   "cell_type": "code",
   "execution_count": 89,
   "metadata": {},
   "outputs": [
    {
     "data": {
      "text/plain": [
       "array([1, 0], dtype=int64)"
      ]
     },
     "execution_count": 89,
     "metadata": {},
     "output_type": "execute_result"
    }
   ],
   "source": [
    "df['Member type'].unique()"
   ]
  },
  {
   "cell_type": "markdown",
   "metadata": {},
   "source": [
    "#### ENCODING MOST FREQUENT CATEGORIES"
   ]
  },
  {
   "cell_type": "code",
   "execution_count": 90,
   "metadata": {},
   "outputs": [
    {
     "data": {
      "text/html": [
       "<div>\n",
       "<style scoped>\n",
       "    .dataframe tbody tr th:only-of-type {\n",
       "        vertical-align: middle;\n",
       "    }\n",
       "\n",
       "    .dataframe tbody tr th {\n",
       "        vertical-align: top;\n",
       "    }\n",
       "\n",
       "    .dataframe thead th {\n",
       "        text-align: right;\n",
       "    }\n",
       "</style>\n",
       "<table border=\"1\" class=\"dataframe\">\n",
       "  <thead>\n",
       "    <tr style=\"text-align: right;\">\n",
       "      <th></th>\n",
       "      <th>Duration</th>\n",
       "      <th>Start station number</th>\n",
       "      <th>Start station</th>\n",
       "      <th>End station number</th>\n",
       "      <th>End station</th>\n",
       "      <th>Bike number</th>\n",
       "      <th>Member type</th>\n",
       "      <th>Start_Month</th>\n",
       "      <th>Start_Day</th>\n",
       "      <th>End_Month</th>\n",
       "      <th>End_Day</th>\n",
       "      <th>Start_Hour</th>\n",
       "      <th>Start_Minute</th>\n",
       "      <th>End_Hour</th>\n",
       "      <th>End_Minute</th>\n",
       "    </tr>\n",
       "  </thead>\n",
       "  <tbody>\n",
       "    <tr>\n",
       "      <th>0</th>\n",
       "      <td>1012</td>\n",
       "      <td>31208</td>\n",
       "      <td>New Jersey Ave SE</td>\n",
       "      <td>31108</td>\n",
       "      <td>M St SW</td>\n",
       "      <td>W00742</td>\n",
       "      <td>1</td>\n",
       "      <td>9</td>\n",
       "      <td>20</td>\n",
       "      <td>9</td>\n",
       "      <td>20</td>\n",
       "      <td>11</td>\n",
       "      <td>27</td>\n",
       "      <td>11</td>\n",
       "      <td>43</td>\n",
       "    </tr>\n",
       "    <tr>\n",
       "      <th>1</th>\n",
       "      <td>61</td>\n",
       "      <td>31209</td>\n",
       "      <td>N St  SE</td>\n",
       "      <td>31209</td>\n",
       "      <td>N St  SE</td>\n",
       "      <td>W00032</td>\n",
       "      <td>1</td>\n",
       "      <td>9</td>\n",
       "      <td>20</td>\n",
       "      <td>9</td>\n",
       "      <td>20</td>\n",
       "      <td>11</td>\n",
       "      <td>41</td>\n",
       "      <td>11</td>\n",
       "      <td>42</td>\n",
       "    </tr>\n",
       "    <tr>\n",
       "      <th>2</th>\n",
       "      <td>2690</td>\n",
       "      <td>31600</td>\n",
       "      <td>K St NW</td>\n",
       "      <td>31100</td>\n",
       "      <td>Pennsylvania Ave NW</td>\n",
       "      <td>W00993</td>\n",
       "      <td>1</td>\n",
       "      <td>9</td>\n",
       "      <td>20</td>\n",
       "      <td>9</td>\n",
       "      <td>20</td>\n",
       "      <td>12</td>\n",
       "      <td>5</td>\n",
       "      <td>12</td>\n",
       "      <td>50</td>\n",
       "    </tr>\n",
       "    <tr>\n",
       "      <th>3</th>\n",
       "      <td>1406</td>\n",
       "      <td>31600</td>\n",
       "      <td>K St NW</td>\n",
       "      <td>31602</td>\n",
       "      <td>Holmead Pl NW</td>\n",
       "      <td>W00344</td>\n",
       "      <td>1</td>\n",
       "      <td>9</td>\n",
       "      <td>20</td>\n",
       "      <td>9</td>\n",
       "      <td>20</td>\n",
       "      <td>12</td>\n",
       "      <td>6</td>\n",
       "      <td>12</td>\n",
       "      <td>29</td>\n",
       "    </tr>\n",
       "    <tr>\n",
       "      <th>4</th>\n",
       "      <td>1413</td>\n",
       "      <td>31100</td>\n",
       "      <td>Pennsylvania Ave NW</td>\n",
       "      <td>31201</td>\n",
       "      <td>P St NW</td>\n",
       "      <td>W00883</td>\n",
       "      <td>1</td>\n",
       "      <td>9</td>\n",
       "      <td>20</td>\n",
       "      <td>9</td>\n",
       "      <td>20</td>\n",
       "      <td>12</td>\n",
       "      <td>10</td>\n",
       "      <td>12</td>\n",
       "      <td>34</td>\n",
       "    </tr>\n",
       "  </tbody>\n",
       "</table>\n",
       "</div>"
      ],
      "text/plain": [
       "   Duration  Start station number         Start station  End station number  \\\n",
       "0      1012                 31208     New Jersey Ave SE               31108   \n",
       "1        61                 31209              N St  SE               31209   \n",
       "2      2690                 31600               K St NW               31100   \n",
       "3      1406                 31600               K St NW               31602   \n",
       "4      1413                 31100   Pennsylvania Ave NW               31201   \n",
       "\n",
       "            End station Bike number  Member type  Start_Month  Start_Day  \\\n",
       "0               M St SW      W00742            1            9         20   \n",
       "1              N St  SE      W00032            1            9         20   \n",
       "2   Pennsylvania Ave NW      W00993            1            9         20   \n",
       "3         Holmead Pl NW      W00344            1            9         20   \n",
       "4               P St NW      W00883            1            9         20   \n",
       "\n",
       "   End_Month  End_Day  Start_Hour  Start_Minute  End_Hour  End_Minute  \n",
       "0          9       20          11            27        11          43  \n",
       "1          9       20          11            41        11          42  \n",
       "2          9       20          12             5        12          50  \n",
       "3          9       20          12             6        12          29  \n",
       "4          9       20          12            10        12          34  "
      ]
     },
     "execution_count": 90,
     "metadata": {},
     "output_type": "execute_result"
    }
   ],
   "source": [
    "df.head()"
   ]
  },
  {
   "cell_type": "markdown",
   "metadata": {},
   "source": [
    "##### ENCODING START STATION"
   ]
  },
  {
   "cell_type": "code",
   "execution_count": 91,
   "metadata": {},
   "outputs": [
    {
     "data": {
      "text/plain": [
       " Dupont Circle NW    5093\n",
       " M St NW             4874\n",
       " Harvard St NW       4598\n",
       " Columbia Rd NW      4160\n",
       " K St NW             4075\n",
       "Name: Start station, dtype: int64"
      ]
     },
     "execution_count": 91,
     "metadata": {},
     "output_type": "execute_result"
    }
   ],
   "source": [
    "df['Start station'].value_counts().head()"
   ]
  },
  {
   "cell_type": "code",
   "execution_count": 92,
   "metadata": {},
   "outputs": [],
   "source": [
    "mapp = {\" Dupont Circle NW\":1,\" M St NW\":1,\" Harvard St NW\":1,\" Columbia Rd NW\":1,\" K St NW\":1}"
   ]
  },
  {
   "cell_type": "code",
   "execution_count": 93,
   "metadata": {},
   "outputs": [],
   "source": [
    "df['Start station enc'] = df['Start station'].map(mapp)"
   ]
  },
  {
   "cell_type": "code",
   "execution_count": 94,
   "metadata": {},
   "outputs": [
    {
     "data": {
      "text/plain": [
       "array([nan,  1.])"
      ]
     },
     "execution_count": 94,
     "metadata": {},
     "output_type": "execute_result"
    }
   ],
   "source": [
    "df['Start station enc'].unique()"
   ]
  },
  {
   "cell_type": "code",
   "execution_count": 95,
   "metadata": {},
   "outputs": [],
   "source": [
    "df['Start station enc'].fillna(0,inplace=True)"
   ]
  },
  {
   "cell_type": "code",
   "execution_count": 96,
   "metadata": {},
   "outputs": [],
   "source": [
    "df.drop(columns=['Start station'],axis=1,inplace=True)"
   ]
  },
  {
   "cell_type": "markdown",
   "metadata": {},
   "source": [
    "##### ENCODING END STATION"
   ]
  },
  {
   "cell_type": "code",
   "execution_count": 97,
   "metadata": {},
   "outputs": [
    {
     "data": {
      "text/plain": [
       " Dupont Circle NW    5602\n",
       " M St NW             5364\n",
       " K St NW             4476\n",
       " P St NW             4047\n",
       " H St NW             3933\n",
       "Name: End station, dtype: int64"
      ]
     },
     "execution_count": 97,
     "metadata": {},
     "output_type": "execute_result"
    }
   ],
   "source": [
    "df['End station'].value_counts().head()"
   ]
  },
  {
   "cell_type": "code",
   "execution_count": 98,
   "metadata": {},
   "outputs": [],
   "source": [
    "mapp = {\" Dupont Circle NW\":1,\" M St NW\":1,\" K St NW\":1,\" H St NW\":1,\" P St NW\":1}"
   ]
  },
  {
   "cell_type": "code",
   "execution_count": 99,
   "metadata": {},
   "outputs": [],
   "source": [
    "df['End station enc'] = df['End station'].map(mapp)"
   ]
  },
  {
   "cell_type": "code",
   "execution_count": 100,
   "metadata": {},
   "outputs": [
    {
     "data": {
      "text/plain": [
       "array([nan,  1.])"
      ]
     },
     "execution_count": 100,
     "metadata": {},
     "output_type": "execute_result"
    }
   ],
   "source": [
    "df['End station enc'].unique()"
   ]
  },
  {
   "cell_type": "code",
   "execution_count": 101,
   "metadata": {},
   "outputs": [],
   "source": [
    "df[\"End station enc\"].fillna(0,inplace=True)"
   ]
  },
  {
   "cell_type": "code",
   "execution_count": 102,
   "metadata": {},
   "outputs": [],
   "source": [
    "df.drop(columns=['End station'],axis=1,inplace=True)"
   ]
  },
  {
   "cell_type": "code",
   "execution_count": 103,
   "metadata": {},
   "outputs": [
    {
     "data": {
      "text/html": [
       "<div>\n",
       "<style scoped>\n",
       "    .dataframe tbody tr th:only-of-type {\n",
       "        vertical-align: middle;\n",
       "    }\n",
       "\n",
       "    .dataframe tbody tr th {\n",
       "        vertical-align: top;\n",
       "    }\n",
       "\n",
       "    .dataframe thead th {\n",
       "        text-align: right;\n",
       "    }\n",
       "</style>\n",
       "<table border=\"1\" class=\"dataframe\">\n",
       "  <thead>\n",
       "    <tr style=\"text-align: right;\">\n",
       "      <th></th>\n",
       "      <th>Duration</th>\n",
       "      <th>Start station number</th>\n",
       "      <th>End station number</th>\n",
       "      <th>Bike number</th>\n",
       "      <th>Member type</th>\n",
       "      <th>Start_Month</th>\n",
       "      <th>Start_Day</th>\n",
       "      <th>End_Month</th>\n",
       "      <th>End_Day</th>\n",
       "      <th>Start_Hour</th>\n",
       "      <th>Start_Minute</th>\n",
       "      <th>End_Hour</th>\n",
       "      <th>End_Minute</th>\n",
       "      <th>Start station enc</th>\n",
       "      <th>End station enc</th>\n",
       "    </tr>\n",
       "  </thead>\n",
       "  <tbody>\n",
       "    <tr>\n",
       "      <th>0</th>\n",
       "      <td>1012</td>\n",
       "      <td>31208</td>\n",
       "      <td>31108</td>\n",
       "      <td>W00742</td>\n",
       "      <td>1</td>\n",
       "      <td>9</td>\n",
       "      <td>20</td>\n",
       "      <td>9</td>\n",
       "      <td>20</td>\n",
       "      <td>11</td>\n",
       "      <td>27</td>\n",
       "      <td>11</td>\n",
       "      <td>43</td>\n",
       "      <td>0.0</td>\n",
       "      <td>0.0</td>\n",
       "    </tr>\n",
       "    <tr>\n",
       "      <th>1</th>\n",
       "      <td>61</td>\n",
       "      <td>31209</td>\n",
       "      <td>31209</td>\n",
       "      <td>W00032</td>\n",
       "      <td>1</td>\n",
       "      <td>9</td>\n",
       "      <td>20</td>\n",
       "      <td>9</td>\n",
       "      <td>20</td>\n",
       "      <td>11</td>\n",
       "      <td>41</td>\n",
       "      <td>11</td>\n",
       "      <td>42</td>\n",
       "      <td>0.0</td>\n",
       "      <td>0.0</td>\n",
       "    </tr>\n",
       "    <tr>\n",
       "      <th>2</th>\n",
       "      <td>2690</td>\n",
       "      <td>31600</td>\n",
       "      <td>31100</td>\n",
       "      <td>W00993</td>\n",
       "      <td>1</td>\n",
       "      <td>9</td>\n",
       "      <td>20</td>\n",
       "      <td>9</td>\n",
       "      <td>20</td>\n",
       "      <td>12</td>\n",
       "      <td>5</td>\n",
       "      <td>12</td>\n",
       "      <td>50</td>\n",
       "      <td>1.0</td>\n",
       "      <td>0.0</td>\n",
       "    </tr>\n",
       "    <tr>\n",
       "      <th>3</th>\n",
       "      <td>1406</td>\n",
       "      <td>31600</td>\n",
       "      <td>31602</td>\n",
       "      <td>W00344</td>\n",
       "      <td>1</td>\n",
       "      <td>9</td>\n",
       "      <td>20</td>\n",
       "      <td>9</td>\n",
       "      <td>20</td>\n",
       "      <td>12</td>\n",
       "      <td>6</td>\n",
       "      <td>12</td>\n",
       "      <td>29</td>\n",
       "      <td>1.0</td>\n",
       "      <td>0.0</td>\n",
       "    </tr>\n",
       "    <tr>\n",
       "      <th>4</th>\n",
       "      <td>1413</td>\n",
       "      <td>31100</td>\n",
       "      <td>31201</td>\n",
       "      <td>W00883</td>\n",
       "      <td>1</td>\n",
       "      <td>9</td>\n",
       "      <td>20</td>\n",
       "      <td>9</td>\n",
       "      <td>20</td>\n",
       "      <td>12</td>\n",
       "      <td>10</td>\n",
       "      <td>12</td>\n",
       "      <td>34</td>\n",
       "      <td>0.0</td>\n",
       "      <td>1.0</td>\n",
       "    </tr>\n",
       "  </tbody>\n",
       "</table>\n",
       "</div>"
      ],
      "text/plain": [
       "   Duration  Start station number  End station number Bike number  \\\n",
       "0      1012                 31208               31108      W00742   \n",
       "1        61                 31209               31209      W00032   \n",
       "2      2690                 31600               31100      W00993   \n",
       "3      1406                 31600               31602      W00344   \n",
       "4      1413                 31100               31201      W00883   \n",
       "\n",
       "   Member type  Start_Month  Start_Day  End_Month  End_Day  Start_Hour  \\\n",
       "0            1            9         20          9       20          11   \n",
       "1            1            9         20          9       20          11   \n",
       "2            1            9         20          9       20          12   \n",
       "3            1            9         20          9       20          12   \n",
       "4            1            9         20          9       20          12   \n",
       "\n",
       "   Start_Minute  End_Hour  End_Minute  Start station enc  End station enc  \n",
       "0            27        11          43                0.0              0.0  \n",
       "1            41        11          42                0.0              0.0  \n",
       "2             5        12          50                1.0              0.0  \n",
       "3             6        12          29                1.0              0.0  \n",
       "4            10        12          34                0.0              1.0  "
      ]
     },
     "execution_count": 103,
     "metadata": {},
     "output_type": "execute_result"
    }
   ],
   "source": [
    "df.head()"
   ]
  },
  {
   "cell_type": "markdown",
   "metadata": {},
   "source": [
    "#### ENCODING START STATION NUMBER"
   ]
  },
  {
   "cell_type": "code",
   "execution_count": 104,
   "metadata": {},
   "outputs": [
    {
     "data": {
      "text/plain": [
       "31200    5093\n",
       "31104    4160\n",
       "31201    3748\n",
       "31101    3667\n",
       "31214    3145\n",
       "Name: Start station number, dtype: int64"
      ]
     },
     "execution_count": 104,
     "metadata": {},
     "output_type": "execute_result"
    }
   ],
   "source": [
    "m = df['Start station number'].value_counts().head()\n",
    "m"
   ]
  },
  {
   "cell_type": "code",
   "execution_count": 105,
   "metadata": {},
   "outputs": [],
   "source": [
    "df['Start station number'] = df['Start station number'].astype(\"int64\")"
   ]
  },
  {
   "cell_type": "code",
   "execution_count": 106,
   "metadata": {},
   "outputs": [],
   "source": [
    "mapp = {31200:1,31104:1,31201:1,31101:1,31214:1}\n",
    "\n",
    "df['Start_Station_No'] = df['Start station number'].map(mapp)"
   ]
  },
  {
   "cell_type": "code",
   "execution_count": 107,
   "metadata": {},
   "outputs": [
    {
     "data": {
      "text/plain": [
       "array([nan,  1.])"
      ]
     },
     "execution_count": 107,
     "metadata": {},
     "output_type": "execute_result"
    }
   ],
   "source": [
    "df.Start_Station_No.unique()"
   ]
  },
  {
   "cell_type": "code",
   "execution_count": 108,
   "metadata": {},
   "outputs": [],
   "source": [
    "df.fillna(0,inplace=True)"
   ]
  },
  {
   "cell_type": "code",
   "execution_count": 109,
   "metadata": {},
   "outputs": [],
   "source": [
    "df.drop(\"Start station number\",axis=1,inplace=True)"
   ]
  },
  {
   "cell_type": "code",
   "execution_count": 110,
   "metadata": {},
   "outputs": [
    {
     "data": {
      "text/html": [
       "<div>\n",
       "<style scoped>\n",
       "    .dataframe tbody tr th:only-of-type {\n",
       "        vertical-align: middle;\n",
       "    }\n",
       "\n",
       "    .dataframe tbody tr th {\n",
       "        vertical-align: top;\n",
       "    }\n",
       "\n",
       "    .dataframe thead th {\n",
       "        text-align: right;\n",
       "    }\n",
       "</style>\n",
       "<table border=\"1\" class=\"dataframe\">\n",
       "  <thead>\n",
       "    <tr style=\"text-align: right;\">\n",
       "      <th></th>\n",
       "      <th>Duration</th>\n",
       "      <th>End station number</th>\n",
       "      <th>Bike number</th>\n",
       "      <th>Member type</th>\n",
       "      <th>Start_Month</th>\n",
       "      <th>Start_Day</th>\n",
       "      <th>End_Month</th>\n",
       "      <th>End_Day</th>\n",
       "      <th>Start_Hour</th>\n",
       "      <th>Start_Minute</th>\n",
       "      <th>End_Hour</th>\n",
       "      <th>End_Minute</th>\n",
       "      <th>Start station enc</th>\n",
       "      <th>End station enc</th>\n",
       "      <th>Start_Station_No</th>\n",
       "    </tr>\n",
       "  </thead>\n",
       "  <tbody>\n",
       "    <tr>\n",
       "      <th>0</th>\n",
       "      <td>1012</td>\n",
       "      <td>31108</td>\n",
       "      <td>W00742</td>\n",
       "      <td>1</td>\n",
       "      <td>9</td>\n",
       "      <td>20</td>\n",
       "      <td>9</td>\n",
       "      <td>20</td>\n",
       "      <td>11</td>\n",
       "      <td>27</td>\n",
       "      <td>11</td>\n",
       "      <td>43</td>\n",
       "      <td>0.0</td>\n",
       "      <td>0.0</td>\n",
       "      <td>0.0</td>\n",
       "    </tr>\n",
       "    <tr>\n",
       "      <th>1</th>\n",
       "      <td>61</td>\n",
       "      <td>31209</td>\n",
       "      <td>W00032</td>\n",
       "      <td>1</td>\n",
       "      <td>9</td>\n",
       "      <td>20</td>\n",
       "      <td>9</td>\n",
       "      <td>20</td>\n",
       "      <td>11</td>\n",
       "      <td>41</td>\n",
       "      <td>11</td>\n",
       "      <td>42</td>\n",
       "      <td>0.0</td>\n",
       "      <td>0.0</td>\n",
       "      <td>0.0</td>\n",
       "    </tr>\n",
       "    <tr>\n",
       "      <th>2</th>\n",
       "      <td>2690</td>\n",
       "      <td>31100</td>\n",
       "      <td>W00993</td>\n",
       "      <td>1</td>\n",
       "      <td>9</td>\n",
       "      <td>20</td>\n",
       "      <td>9</td>\n",
       "      <td>20</td>\n",
       "      <td>12</td>\n",
       "      <td>5</td>\n",
       "      <td>12</td>\n",
       "      <td>50</td>\n",
       "      <td>1.0</td>\n",
       "      <td>0.0</td>\n",
       "      <td>0.0</td>\n",
       "    </tr>\n",
       "    <tr>\n",
       "      <th>3</th>\n",
       "      <td>1406</td>\n",
       "      <td>31602</td>\n",
       "      <td>W00344</td>\n",
       "      <td>1</td>\n",
       "      <td>9</td>\n",
       "      <td>20</td>\n",
       "      <td>9</td>\n",
       "      <td>20</td>\n",
       "      <td>12</td>\n",
       "      <td>6</td>\n",
       "      <td>12</td>\n",
       "      <td>29</td>\n",
       "      <td>1.0</td>\n",
       "      <td>0.0</td>\n",
       "      <td>0.0</td>\n",
       "    </tr>\n",
       "    <tr>\n",
       "      <th>4</th>\n",
       "      <td>1413</td>\n",
       "      <td>31201</td>\n",
       "      <td>W00883</td>\n",
       "      <td>1</td>\n",
       "      <td>9</td>\n",
       "      <td>20</td>\n",
       "      <td>9</td>\n",
       "      <td>20</td>\n",
       "      <td>12</td>\n",
       "      <td>10</td>\n",
       "      <td>12</td>\n",
       "      <td>34</td>\n",
       "      <td>0.0</td>\n",
       "      <td>1.0</td>\n",
       "      <td>0.0</td>\n",
       "    </tr>\n",
       "  </tbody>\n",
       "</table>\n",
       "</div>"
      ],
      "text/plain": [
       "   Duration  End station number Bike number  Member type  Start_Month  \\\n",
       "0      1012               31108      W00742            1            9   \n",
       "1        61               31209      W00032            1            9   \n",
       "2      2690               31100      W00993            1            9   \n",
       "3      1406               31602      W00344            1            9   \n",
       "4      1413               31201      W00883            1            9   \n",
       "\n",
       "   Start_Day  End_Month  End_Day  Start_Hour  Start_Minute  End_Hour  \\\n",
       "0         20          9       20          11            27        11   \n",
       "1         20          9       20          11            41        11   \n",
       "2         20          9       20          12             5        12   \n",
       "3         20          9       20          12             6        12   \n",
       "4         20          9       20          12            10        12   \n",
       "\n",
       "   End_Minute  Start station enc  End station enc  Start_Station_No  \n",
       "0          43                0.0              0.0               0.0  \n",
       "1          42                0.0              0.0               0.0  \n",
       "2          50                1.0              0.0               0.0  \n",
       "3          29                1.0              0.0               0.0  \n",
       "4          34                0.0              1.0               0.0  "
      ]
     },
     "execution_count": 110,
     "metadata": {},
     "output_type": "execute_result"
    }
   ],
   "source": [
    "df.head()"
   ]
  },
  {
   "cell_type": "markdown",
   "metadata": {},
   "source": [
    "##### ENCODING END STATION NUMBER"
   ]
  },
  {
   "cell_type": "code",
   "execution_count": 111,
   "metadata": {},
   "outputs": [
    {
     "data": {
      "text/plain": [
       "31200    5602\n",
       "31201    4047\n",
       "31101    3576\n",
       "31104    3534\n",
       "31214    3303\n",
       "Name: End station number, dtype: int64"
      ]
     },
     "execution_count": 111,
     "metadata": {},
     "output_type": "execute_result"
    }
   ],
   "source": [
    "m = df['End station number'].value_counts().head()\n",
    "m"
   ]
  },
  {
   "cell_type": "code",
   "execution_count": 112,
   "metadata": {},
   "outputs": [],
   "source": [
    "df['End station number'] = df['End station number'].astype(\"int64\")"
   ]
  },
  {
   "cell_type": "code",
   "execution_count": 113,
   "metadata": {},
   "outputs": [],
   "source": [
    "mapp = {31200:1,31104:1,31201:1,31101:1,31214:1}\n",
    "\n",
    "df['End_Station_No'] = df['End station number'].map(mapp)"
   ]
  },
  {
   "cell_type": "code",
   "execution_count": 114,
   "metadata": {},
   "outputs": [
    {
     "data": {
      "text/plain": [
       "array([nan,  1.])"
      ]
     },
     "execution_count": 114,
     "metadata": {},
     "output_type": "execute_result"
    }
   ],
   "source": [
    "df.End_Station_No.unique()"
   ]
  },
  {
   "cell_type": "code",
   "execution_count": 115,
   "metadata": {},
   "outputs": [],
   "source": [
    "df['End_Station_No'].fillna(0,inplace=True)"
   ]
  },
  {
   "cell_type": "code",
   "execution_count": 116,
   "metadata": {},
   "outputs": [],
   "source": [
    "df.drop(\"End station number\",axis=1,inplace=True)"
   ]
  },
  {
   "cell_type": "code",
   "execution_count": 117,
   "metadata": {},
   "outputs": [
    {
     "data": {
      "text/html": [
       "<div>\n",
       "<style scoped>\n",
       "    .dataframe tbody tr th:only-of-type {\n",
       "        vertical-align: middle;\n",
       "    }\n",
       "\n",
       "    .dataframe tbody tr th {\n",
       "        vertical-align: top;\n",
       "    }\n",
       "\n",
       "    .dataframe thead th {\n",
       "        text-align: right;\n",
       "    }\n",
       "</style>\n",
       "<table border=\"1\" class=\"dataframe\">\n",
       "  <thead>\n",
       "    <tr style=\"text-align: right;\">\n",
       "      <th></th>\n",
       "      <th>Duration</th>\n",
       "      <th>Bike number</th>\n",
       "      <th>Member type</th>\n",
       "      <th>Start_Month</th>\n",
       "      <th>Start_Day</th>\n",
       "      <th>End_Month</th>\n",
       "      <th>End_Day</th>\n",
       "      <th>Start_Hour</th>\n",
       "      <th>Start_Minute</th>\n",
       "      <th>End_Hour</th>\n",
       "      <th>End_Minute</th>\n",
       "      <th>Start station enc</th>\n",
       "      <th>End station enc</th>\n",
       "      <th>Start_Station_No</th>\n",
       "      <th>End_Station_No</th>\n",
       "    </tr>\n",
       "  </thead>\n",
       "  <tbody>\n",
       "    <tr>\n",
       "      <th>0</th>\n",
       "      <td>1012</td>\n",
       "      <td>W00742</td>\n",
       "      <td>1</td>\n",
       "      <td>9</td>\n",
       "      <td>20</td>\n",
       "      <td>9</td>\n",
       "      <td>20</td>\n",
       "      <td>11</td>\n",
       "      <td>27</td>\n",
       "      <td>11</td>\n",
       "      <td>43</td>\n",
       "      <td>0.0</td>\n",
       "      <td>0.0</td>\n",
       "      <td>0.0</td>\n",
       "      <td>0.0</td>\n",
       "    </tr>\n",
       "    <tr>\n",
       "      <th>1</th>\n",
       "      <td>61</td>\n",
       "      <td>W00032</td>\n",
       "      <td>1</td>\n",
       "      <td>9</td>\n",
       "      <td>20</td>\n",
       "      <td>9</td>\n",
       "      <td>20</td>\n",
       "      <td>11</td>\n",
       "      <td>41</td>\n",
       "      <td>11</td>\n",
       "      <td>42</td>\n",
       "      <td>0.0</td>\n",
       "      <td>0.0</td>\n",
       "      <td>0.0</td>\n",
       "      <td>0.0</td>\n",
       "    </tr>\n",
       "    <tr>\n",
       "      <th>2</th>\n",
       "      <td>2690</td>\n",
       "      <td>W00993</td>\n",
       "      <td>1</td>\n",
       "      <td>9</td>\n",
       "      <td>20</td>\n",
       "      <td>9</td>\n",
       "      <td>20</td>\n",
       "      <td>12</td>\n",
       "      <td>5</td>\n",
       "      <td>12</td>\n",
       "      <td>50</td>\n",
       "      <td>1.0</td>\n",
       "      <td>0.0</td>\n",
       "      <td>0.0</td>\n",
       "      <td>0.0</td>\n",
       "    </tr>\n",
       "    <tr>\n",
       "      <th>3</th>\n",
       "      <td>1406</td>\n",
       "      <td>W00344</td>\n",
       "      <td>1</td>\n",
       "      <td>9</td>\n",
       "      <td>20</td>\n",
       "      <td>9</td>\n",
       "      <td>20</td>\n",
       "      <td>12</td>\n",
       "      <td>6</td>\n",
       "      <td>12</td>\n",
       "      <td>29</td>\n",
       "      <td>1.0</td>\n",
       "      <td>0.0</td>\n",
       "      <td>0.0</td>\n",
       "      <td>0.0</td>\n",
       "    </tr>\n",
       "    <tr>\n",
       "      <th>4</th>\n",
       "      <td>1413</td>\n",
       "      <td>W00883</td>\n",
       "      <td>1</td>\n",
       "      <td>9</td>\n",
       "      <td>20</td>\n",
       "      <td>9</td>\n",
       "      <td>20</td>\n",
       "      <td>12</td>\n",
       "      <td>10</td>\n",
       "      <td>12</td>\n",
       "      <td>34</td>\n",
       "      <td>0.0</td>\n",
       "      <td>1.0</td>\n",
       "      <td>0.0</td>\n",
       "      <td>1.0</td>\n",
       "    </tr>\n",
       "  </tbody>\n",
       "</table>\n",
       "</div>"
      ],
      "text/plain": [
       "   Duration Bike number  Member type  Start_Month  Start_Day  End_Month  \\\n",
       "0      1012      W00742            1            9         20          9   \n",
       "1        61      W00032            1            9         20          9   \n",
       "2      2690      W00993            1            9         20          9   \n",
       "3      1406      W00344            1            9         20          9   \n",
       "4      1413      W00883            1            9         20          9   \n",
       "\n",
       "   End_Day  Start_Hour  Start_Minute  End_Hour  End_Minute  Start station enc  \\\n",
       "0       20          11            27        11          43                0.0   \n",
       "1       20          11            41        11          42                0.0   \n",
       "2       20          12             5        12          50                1.0   \n",
       "3       20          12             6        12          29                1.0   \n",
       "4       20          12            10        12          34                0.0   \n",
       "\n",
       "   End station enc  Start_Station_No  End_Station_No  \n",
       "0              0.0               0.0             0.0  \n",
       "1              0.0               0.0             0.0  \n",
       "2              0.0               0.0             0.0  \n",
       "3              0.0               0.0             0.0  \n",
       "4              1.0               0.0             1.0  "
      ]
     },
     "execution_count": 117,
     "metadata": {},
     "output_type": "execute_result"
    }
   ],
   "source": [
    "df.head()"
   ]
  },
  {
   "cell_type": "code",
   "execution_count": 118,
   "metadata": {},
   "outputs": [],
   "source": [
    "df.drop(columns=['Bike number'],axis=1,inplace=True)"
   ]
  },
  {
   "cell_type": "markdown",
   "metadata": {},
   "source": [
    "### FEATURE SELECTION TABLE"
   ]
  },
  {
   "cell_type": "code",
   "execution_count": 119,
   "metadata": {},
   "outputs": [
    {
     "data": {
      "image/png": "[encoded data removed]",
      "text/plain": [
       "<Figure size 864x576 with 2 Axes>"
      ]
     },
     "metadata": {},
     "output_type": "display_data"
    }
   ],
   "source": [
    "plt.figure(figsize=(12,8))\n",
    "sns.heatmap(df.corr(),annot=True)\n",
    "plt.show()"
   ]
  },
  {
   "cell_type": "code",
   "execution_count": 120,
   "metadata": {},
   "outputs": [],
   "source": [
    "from sklearn.ensemble import ExtraTreesRegressor"
   ]
  },
  {
   "cell_type": "code",
   "execution_count": 121,
   "metadata": {},
   "outputs": [],
   "source": [
    "Y = df['Member type']\n",
    "X = df.drop(columns=['Member type'],axis=1,inplace=False)"
   ]
  },
  {
   "cell_type": "code",
   "execution_count": 122,
   "metadata": {},
   "outputs": [],
   "source": [
    "model = ExtraTreesRegressor()"
   ]
  },
  {
   "cell_type": "code",
   "execution_count": 123,
   "metadata": {},
   "outputs": [
    {
     "name": "stderr",
     "output_type": "stream",
     "text": [
      "C:\\Users\\paddy\\Anaconda3\\lib\\site-packages\\sklearn\\ensemble\\forest.py:245: FutureWarning: The default value of n_estimators will change from 10 in version 0.20 to 100 in 0.22.\n",
      "  \"10 in version 0.20 to 100 in 0.22.\", FutureWarning)\n"
     ]
    },
    {
     "data": {
      "text/plain": [
       "ExtraTreesRegressor(bootstrap=False, criterion='mse', max_depth=None,\n",
       "                    max_features='auto', max_leaf_nodes=None,\n",
       "                    min_impurity_decrease=0.0, min_impurity_split=None,\n",
       "                    min_samples_leaf=1, min_samples_split=2,\n",
       "                    min_weight_fraction_leaf=0.0, n_estimators=10, n_jobs=None,\n",
       "                    oob_score=False, random_state=None, verbose=0,\n",
       "                    warm_start=False)"
      ]
     },
     "execution_count": 123,
     "metadata": {},
     "output_type": "execute_result"
    }
   ],
   "source": [
    "model.fit(X,Y)"
   ]
  },
  {
   "cell_type": "code",
   "execution_count": 124,
   "metadata": {},
   "outputs": [
    {
     "name": "stdout",
     "output_type": "stream",
     "text": [
      "[0.39459937 0.03405603 0.07738505 0.00772494 0.07430539 0.06758188\n",
      " 0.10449901 0.06488335 0.10558833 0.02081412 0.0199373  0.01548935\n",
      " 0.01313589]\n"
     ]
    }
   ],
   "source": [
    "print(model.feature_importances_)"
   ]
  },
  {
   "cell_type": "code",
   "execution_count": 125,
   "metadata": {},
   "outputs": [],
   "source": [
    "feature_imp = pd.Series(model.feature_importances_,index=X.columns)"
   ]
  },
  {
   "cell_type": "code",
   "execution_count": 126,
   "metadata": {},
   "outputs": [],
   "source": [
    "### MOST IMP FEATURES"
   ]
  },
  {
   "cell_type": "code",
   "execution_count": 127,
   "metadata": {},
   "outputs": [
    {
     "data": {
      "image/png": "[encoded data removed]",
      "text/plain": [
       "<Figure size 720x360 with 1 Axes>"
      ]
     },
     "metadata": {},
     "output_type": "display_data"
    }
   ],
   "source": [
    "plt.figure(figsize=(10,5))\n",
    "feature_imp.nlargest(5).plot(kind=\"barh\")\n",
    "plt.show()"
   ]
  },
  {
   "cell_type": "code",
   "execution_count": 128,
   "metadata": {},
   "outputs": [],
   "source": [
    "### Least IMP FEATURES"
   ]
  },
  {
   "cell_type": "code",
   "execution_count": 129,
   "metadata": {},
   "outputs": [
    {
     "data": {
      "image/png": "[encoded data removed]",
      "text/plain": [
       "<Figure size 720x360 with 1 Axes>"
      ]
     },
     "metadata": {},
     "output_type": "display_data"
    }
   ],
   "source": [
    "plt.figure(figsize=(10,5))\n",
    "feature_imp.nsmallest(5).plot(kind=\"barh\")\n",
    "plt.show()"
   ]
  },
  {
   "cell_type": "code",
   "execution_count": 130,
   "metadata": {},
   "outputs": [],
   "source": [
    "df.drop(columns=[\"End_Day\",\"End_Hour\",\"End_Month\"],axis=1,inplace=True)"
   ]
  },
  {
   "cell_type": "markdown",
   "metadata": {},
   "source": [
    "#### BALANCING OUT DATASET"
   ]
  },
  {
   "cell_type": "markdown",
   "metadata": {},
   "source": [
    "* BEFORE UPSAMPLING RECALL --- > 98\n",
    "* AFTER UPSAMPLING RECALL --- > "
   ]
  },
  {
   "cell_type": "code",
   "execution_count": 131,
   "metadata": {},
   "outputs": [
    {
     "data": {
      "image/png": "[encoded data removed]",
      "text/plain": [
       "<Figure size 720x432 with 1 Axes>"
      ]
     },
     "metadata": {},
     "output_type": "display_data"
    }
   ],
   "source": [
    "plt.figure(figsize=(10,6))\n",
    "sns.set_style(\"darkgrid\")\n",
    "ax = sns.countplot(df['Member type'])\n",
    "\n",
    "for p in ax.patches:\n",
    "    ax.annotate(\"{:.1f}\".format(p.get_height()),(p.get_x(),p.get_height()+100))\n",
    "\n",
    "plt.show()\n"
   ]
  },
  {
   "cell_type": "code",
   "execution_count": 132,
   "metadata": {},
   "outputs": [],
   "source": [
    "from sklearn.utils import resample"
   ]
  },
  {
   "cell_type": "code",
   "execution_count": 133,
   "metadata": {},
   "outputs": [],
   "source": [
    "df_major = df[df['Member type']==1]\n",
    "df_minor = df[df[\"Member type\"]==0]\n",
    "\n",
    "df_minor_upsampled = resample(df_minor,replace=True,n_samples=91586,random_state=233)\n",
    "\n",
    "df_upsampled = pd.concat([df_major,df_minor_upsampled])"
   ]
  },
  {
   "cell_type": "code",
   "execution_count": 134,
   "metadata": {
    "scrolled": true
   },
   "outputs": [
    {
     "data": {
      "text/html": [
       "<div>\n",
       "<style scoped>\n",
       "    .dataframe tbody tr th:only-of-type {\n",
       "        vertical-align: middle;\n",
       "    }\n",
       "\n",
       "    .dataframe tbody tr th {\n",
       "        vertical-align: top;\n",
       "    }\n",
       "\n",
       "    .dataframe thead th {\n",
       "        text-align: right;\n",
       "    }\n",
       "</style>\n",
       "<table border=\"1\" class=\"dataframe\">\n",
       "  <thead>\n",
       "    <tr style=\"text-align: right;\">\n",
       "      <th></th>\n",
       "      <th>Duration</th>\n",
       "      <th>Member type</th>\n",
       "      <th>Start_Month</th>\n",
       "      <th>Start_Day</th>\n",
       "      <th>Start_Hour</th>\n",
       "      <th>Start_Minute</th>\n",
       "      <th>End_Minute</th>\n",
       "      <th>Start station enc</th>\n",
       "      <th>End station enc</th>\n",
       "      <th>Start_Station_No</th>\n",
       "      <th>End_Station_No</th>\n",
       "    </tr>\n",
       "  </thead>\n",
       "  <tbody>\n",
       "    <tr>\n",
       "      <th>0</th>\n",
       "      <td>1012</td>\n",
       "      <td>1</td>\n",
       "      <td>9</td>\n",
       "      <td>20</td>\n",
       "      <td>11</td>\n",
       "      <td>27</td>\n",
       "      <td>43</td>\n",
       "      <td>0.0</td>\n",
       "      <td>0.0</td>\n",
       "      <td>0.0</td>\n",
       "      <td>0.0</td>\n",
       "    </tr>\n",
       "    <tr>\n",
       "      <th>1</th>\n",
       "      <td>61</td>\n",
       "      <td>1</td>\n",
       "      <td>9</td>\n",
       "      <td>20</td>\n",
       "      <td>11</td>\n",
       "      <td>41</td>\n",
       "      <td>42</td>\n",
       "      <td>0.0</td>\n",
       "      <td>0.0</td>\n",
       "      <td>0.0</td>\n",
       "      <td>0.0</td>\n",
       "    </tr>\n",
       "    <tr>\n",
       "      <th>2</th>\n",
       "      <td>2690</td>\n",
       "      <td>1</td>\n",
       "      <td>9</td>\n",
       "      <td>20</td>\n",
       "      <td>12</td>\n",
       "      <td>5</td>\n",
       "      <td>50</td>\n",
       "      <td>1.0</td>\n",
       "      <td>0.0</td>\n",
       "      <td>0.0</td>\n",
       "      <td>0.0</td>\n",
       "    </tr>\n",
       "    <tr>\n",
       "      <th>3</th>\n",
       "      <td>1406</td>\n",
       "      <td>1</td>\n",
       "      <td>9</td>\n",
       "      <td>20</td>\n",
       "      <td>12</td>\n",
       "      <td>6</td>\n",
       "      <td>29</td>\n",
       "      <td>1.0</td>\n",
       "      <td>0.0</td>\n",
       "      <td>0.0</td>\n",
       "      <td>0.0</td>\n",
       "    </tr>\n",
       "    <tr>\n",
       "      <th>4</th>\n",
       "      <td>1413</td>\n",
       "      <td>1</td>\n",
       "      <td>9</td>\n",
       "      <td>20</td>\n",
       "      <td>12</td>\n",
       "      <td>10</td>\n",
       "      <td>34</td>\n",
       "      <td>0.0</td>\n",
       "      <td>1.0</td>\n",
       "      <td>0.0</td>\n",
       "      <td>1.0</td>\n",
       "    </tr>\n",
       "  </tbody>\n",
       "</table>\n",
       "</div>"
      ],
      "text/plain": [
       "   Duration  Member type  Start_Month  Start_Day  Start_Hour  Start_Minute  \\\n",
       "0      1012            1            9         20          11            27   \n",
       "1        61            1            9         20          11            41   \n",
       "2      2690            1            9         20          12             5   \n",
       "3      1406            1            9         20          12             6   \n",
       "4      1413            1            9         20          12            10   \n",
       "\n",
       "   End_Minute  Start station enc  End station enc  Start_Station_No  \\\n",
       "0          43                0.0              0.0               0.0   \n",
       "1          42                0.0              0.0               0.0   \n",
       "2          50                1.0              0.0               0.0   \n",
       "3          29                1.0              0.0               0.0   \n",
       "4          34                0.0              1.0               0.0   \n",
       "\n",
       "   End_Station_No  \n",
       "0             0.0  \n",
       "1             0.0  \n",
       "2             0.0  \n",
       "3             0.0  \n",
       "4             1.0  "
      ]
     },
     "execution_count": 134,
     "metadata": {},
     "output_type": "execute_result"
    }
   ],
   "source": [
    "df_upsampled.head()"
   ]
  },
  {
   "cell_type": "markdown",
   "metadata": {},
   "source": [
    "## MODELLING"
   ]
  },
  {
   "cell_type": "markdown",
   "metadata": {},
   "source": [
    "###### LOGISTIC REGRESSION"
   ]
  },
  {
   "cell_type": "code",
   "execution_count": 135,
   "metadata": {},
   "outputs": [],
   "source": [
    "from sklearn.linear_model import LogisticRegression\n",
    "from sklearn.model_selection import train_test_split\n",
    "from sklearn.metrics import precision_score,accuracy_score,auc,recall_score,f1_score,roc_curve,confusion_matrix,roc_auc_score"
   ]
  },
  {
   "cell_type": "code",
   "execution_count": 136,
   "metadata": {},
   "outputs": [],
   "source": [
    "Y = df_upsampled['Member type']\n",
    "X = df_upsampled.drop(columns=['Member type'],axis=1,inplace=False)"
   ]
  },
  {
   "cell_type": "code",
   "execution_count": 137,
   "metadata": {},
   "outputs": [],
   "source": [
    "X_train,X_test,Y_train,Y_test = train_test_split(X,Y,train_size=0.8)"
   ]
  },
  {
   "cell_type": "code",
   "execution_count": 138,
   "metadata": {},
   "outputs": [],
   "source": [
    "log_r = LogisticRegression()"
   ]
  },
  {
   "cell_type": "code",
   "execution_count": 139,
   "metadata": {},
   "outputs": [
    {
     "name": "stderr",
     "output_type": "stream",
     "text": [
      "C:\\Users\\paddy\\Anaconda3\\lib\\site-packages\\sklearn\\linear_model\\logistic.py:432: FutureWarning: Default solver will be changed to 'lbfgs' in 0.22. Specify a solver to silence this warning.\n",
      "  FutureWarning)\n"
     ]
    },
    {
     "data": {
      "text/plain": [
       "LogisticRegression(C=1.0, class_weight=None, dual=False, fit_intercept=True,\n",
       "                   intercept_scaling=1, l1_ratio=None, max_iter=100,\n",
       "                   multi_class='warn', n_jobs=None, penalty='l2',\n",
       "                   random_state=None, solver='warn', tol=0.0001, verbose=0,\n",
       "                   warm_start=False)"
      ]
     },
     "execution_count": 139,
     "metadata": {},
     "output_type": "execute_result"
    }
   ],
   "source": [
    "log_r.fit(X_train,Y_train)"
   ]
  },
  {
   "cell_type": "code",
   "execution_count": 140,
   "metadata": {},
   "outputs": [
    {
     "data": {
      "text/plain": [
       "0.7428021591816402"
      ]
     },
     "execution_count": 140,
     "metadata": {},
     "output_type": "execute_result"
    }
   ],
   "source": [
    "log_r.score(X_train,Y_train)"
   ]
  },
  {
   "cell_type": "code",
   "execution_count": 141,
   "metadata": {},
   "outputs": [
    {
     "data": {
      "text/plain": [
       "0.7388562849733861"
      ]
     },
     "execution_count": 141,
     "metadata": {},
     "output_type": "execute_result"
    }
   ],
   "source": [
    "log_r.score(X_test,Y_test)"
   ]
  },
  {
   "cell_type": "code",
   "execution_count": 142,
   "metadata": {},
   "outputs": [],
   "source": [
    "pred = log_r.predict(X_test)"
   ]
  },
  {
   "cell_type": "code",
   "execution_count": 143,
   "metadata": {},
   "outputs": [
    {
     "data": {
      "text/plain": [
       "0.7396334356169876"
      ]
     },
     "execution_count": 143,
     "metadata": {},
     "output_type": "execute_result"
    }
   ],
   "source": [
    "roc_auc_score(Y_test,pred)"
   ]
  },
  {
   "cell_type": "code",
   "execution_count": 144,
   "metadata": {},
   "outputs": [
    {
     "name": "stdout",
     "output_type": "stream",
     "text": [
      "Precision Score --->  0.6858715280763609\n",
      "Accuracy Score --->  0.7388562849733861\n",
      "Recall Score --->  0.8758579036951628\n",
      "F-1 Score --->  0.7693086735309012\n"
     ]
    }
   ],
   "source": [
    "print(\"Precision Score ---> \",precision_score(Y_test,pred))\n",
    "print(\"Accuracy Score ---> \",accuracy_score(Y_test,pred))\n",
    "print(\"Recall Score ---> \",recall_score(Y_test,pred))\n",
    "print(\"F-1 Score ---> \",f1_score(Y_test,pred))\n",
    "\n"
   ]
  },
  {
   "cell_type": "code",
   "execution_count": 145,
   "metadata": {},
   "outputs": [
    {
     "data": {
      "image/png": "[encoded data removed]",
      "text/plain": [
       "<Figure size 720x432 with 2 Axes>"
      ]
     },
     "metadata": {},
     "output_type": "display_data"
    }
   ],
   "source": [
    "plt.figure(figsize=(10,6))\n",
    "sns.heatmap(confusion_matrix(Y_test,pred),annot=True,fmt='d',cmap='cool')\n",
    "plt.xlabel(\"Actual\")\n",
    "plt.ylabel(\"Predicted\")\n",
    "plt.show()"
   ]
  },
  {
   "cell_type": "markdown",
   "metadata": {},
   "source": [
    "### RANDOM FOREST CLASSIFIER"
   ]
  },
  {
   "cell_type": "code",
   "execution_count": 146,
   "metadata": {},
   "outputs": [],
   "source": [
    "from sklearn.ensemble import RandomForestClassifier"
   ]
  },
  {
   "cell_type": "code",
   "execution_count": 147,
   "metadata": {},
   "outputs": [],
   "source": [
    "rfc = RandomForestClassifier()"
   ]
  },
  {
   "cell_type": "markdown",
   "metadata": {},
   "source": [
    "###### HYPER PARAMETER TUNING"
   ]
  },
  {
   "cell_type": "code",
   "execution_count": 156,
   "metadata": {},
   "outputs": [],
   "source": [
    "from sklearn.model_selection import RandomizedSearchCV"
   ]
  },
  {
   "cell_type": "code",
   "execution_count": 157,
   "metadata": {},
   "outputs": [],
   "source": [
    "# NUMBER OF ESTIMATORS(TREES)\n",
    "n_estimators = [int(x) for x in np.linspace(start=100,stop=1200,num=12)]\n",
    "# MAX DEPT OF THE CLASSSIFIER\n",
    "max_dept = [int(x) for x in np.linspace(start=5,stop=30,num=6)]\n",
    "# MINIMUM SAMPLE SPLIT OF THE TREE\n",
    "min_sample_split = [int(x) for x in np.linspace(start=1000,stop=10000,num=10)]\n",
    "# MAX FEATURES\n",
    "max_features = ['auto','sqrt']"
   ]
  },
  {
   "cell_type": "code",
   "execution_count": 158,
   "metadata": {},
   "outputs": [],
   "source": [
    "params = { \"n_estimators\":n_estimators,\n",
    "           \"max_depth\":max_dept,\n",
    "           \"min_samples_split\":min_sample_split,\n",
    "          \"max_features\":max_features\n",
    "}"
   ]
  },
  {
   "cell_type": "code",
   "execution_count": 159,
   "metadata": {},
   "outputs": [],
   "source": [
    "random_search = RandomizedSearchCV(estimator=rfc,param_distributions=params,cv=5,n_jobs=1,verbose=2,n_iter=10)"
   ]
  },
  {
   "cell_type": "code",
   "execution_count": 160,
   "metadata": {
    "collapsed": true
   },
   "outputs": [
    {
     "name": "stdout",
     "output_type": "stream",
     "text": [
      "Fitting 5 folds for each of 10 candidates, totalling 50 fits\n",
      "[CV] n_estimators=700, min_samples_split=4000, max_features=sqrt, max_depth=20 \n"
     ]
    },
    {
     "name": "stderr",
     "output_type": "stream",
     "text": [
      "[Parallel(n_jobs=1)]: Using backend SequentialBackend with 1 concurrent workers.\n"
     ]
    },
    {
     "name": "stdout",
     "output_type": "stream",
     "text": [
      "[CV]  n_estimators=700, min_samples_split=4000, max_features=sqrt, max_depth=20, total= 3.2min\n",
      "[CV] n_estimators=700, min_samples_split=4000, max_features=sqrt, max_depth=20 \n"
     ]
    },
    {
     "name": "stderr",
     "output_type": "stream",
     "text": [
      "[Parallel(n_jobs=1)]: Done   1 out of   1 | elapsed:  3.2min remaining:    0.0s\n"
     ]
    },
    {
     "name": "stdout",
     "output_type": "stream",
     "text": [
      "[CV]  n_estimators=700, min_samples_split=4000, max_features=sqrt, max_depth=20, total= 2.6min\n",
      "[CV] n_estimators=700, min_samples_split=4000, max_features=sqrt, max_depth=20 \n",
      "[CV]  n_estimators=700, min_samples_split=4000, max_features=sqrt, max_depth=20, total= 2.9min\n",
      "[CV] n_estimators=700, min_samples_split=4000, max_features=sqrt, max_depth=20 \n",
      "[CV]  n_estimators=700, min_samples_split=4000, max_features=sqrt, max_depth=20, total= 2.7min\n",
      "[CV] n_estimators=700, min_samples_split=4000, max_features=sqrt, max_depth=20 \n",
      "[CV]  n_estimators=700, min_samples_split=4000, max_features=sqrt, max_depth=20, total= 2.4min\n",
      "[CV] n_estimators=700, min_samples_split=8000, max_features=sqrt, max_depth=10 \n",
      "[CV]  n_estimators=700, min_samples_split=8000, max_features=sqrt, max_depth=10, total= 2.0min\n",
      "[CV] n_estimators=700, min_samples_split=8000, max_features=sqrt, max_depth=10 \n",
      "[CV]  n_estimators=700, min_samples_split=8000, max_features=sqrt, max_depth=10, total= 2.3min\n",
      "[CV] n_estimators=700, min_samples_split=8000, max_features=sqrt, max_depth=10 \n",
      "[CV]  n_estimators=700, min_samples_split=8000, max_features=sqrt, max_depth=10, total= 2.5min\n",
      "[CV] n_estimators=700, min_samples_split=8000, max_features=sqrt, max_depth=10 \n",
      "[CV]  n_estimators=700, min_samples_split=8000, max_features=sqrt, max_depth=10, total= 2.3min\n",
      "[CV] n_estimators=700, min_samples_split=8000, max_features=sqrt, max_depth=10 \n",
      "[CV]  n_estimators=700, min_samples_split=8000, max_features=sqrt, max_depth=10, total= 2.5min\n",
      "[CV] n_estimators=200, min_samples_split=9000, max_features=sqrt, max_depth=5 \n",
      "[CV]  n_estimators=200, min_samples_split=9000, max_features=sqrt, max_depth=5, total=  36.7s\n",
      "[CV] n_estimators=200, min_samples_split=9000, max_features=sqrt, max_depth=5 \n",
      "[CV]  n_estimators=200, min_samples_split=9000, max_features=sqrt, max_depth=5, total=  36.8s\n",
      "[CV] n_estimators=200, min_samples_split=9000, max_features=sqrt, max_depth=5 \n",
      "[CV]  n_estimators=200, min_samples_split=9000, max_features=sqrt, max_depth=5, total=  35.7s\n",
      "[CV] n_estimators=200, min_samples_split=9000, max_features=sqrt, max_depth=5 \n",
      "[CV]  n_estimators=200, min_samples_split=9000, max_features=sqrt, max_depth=5, total=  35.5s\n",
      "[CV] n_estimators=200, min_samples_split=9000, max_features=sqrt, max_depth=5 \n",
      "[CV]  n_estimators=200, min_samples_split=9000, max_features=sqrt, max_depth=5, total=  39.4s\n",
      "[CV] n_estimators=900, min_samples_split=5000, max_features=auto, max_depth=15 \n",
      "[CV]  n_estimators=900, min_samples_split=5000, max_features=auto, max_depth=15, total= 3.7min\n",
      "[CV] n_estimators=900, min_samples_split=5000, max_features=auto, max_depth=15 \n",
      "[CV]  n_estimators=900, min_samples_split=5000, max_features=auto, max_depth=15, total= 3.6min\n",
      "[CV] n_estimators=900, min_samples_split=5000, max_features=auto, max_depth=15 \n",
      "[CV]  n_estimators=900, min_samples_split=5000, max_features=auto, max_depth=15, total= 3.6min\n",
      "[CV] n_estimators=900, min_samples_split=5000, max_features=auto, max_depth=15 \n",
      "[CV]  n_estimators=900, min_samples_split=5000, max_features=auto, max_depth=15, total= 3.7min\n",
      "[CV] n_estimators=900, min_samples_split=5000, max_features=auto, max_depth=15 \n",
      "[CV]  n_estimators=900, min_samples_split=5000, max_features=auto, max_depth=15, total= 3.6min\n",
      "[CV] n_estimators=900, min_samples_split=6000, max_features=auto, max_depth=5 \n",
      "[CV]  n_estimators=900, min_samples_split=6000, max_features=auto, max_depth=5, total= 2.8min\n",
      "[CV] n_estimators=900, min_samples_split=6000, max_features=auto, max_depth=5 \n",
      "[CV]  n_estimators=900, min_samples_split=6000, max_features=auto, max_depth=5, total= 2.8min\n",
      "[CV] n_estimators=900, min_samples_split=6000, max_features=auto, max_depth=5 \n",
      "[CV]  n_estimators=900, min_samples_split=6000, max_features=auto, max_depth=5, total= 2.8min\n",
      "[CV] n_estimators=900, min_samples_split=6000, max_features=auto, max_depth=5 \n",
      "[CV]  n_estimators=900, min_samples_split=6000, max_features=auto, max_depth=5, total= 2.8min\n",
      "[CV] n_estimators=900, min_samples_split=6000, max_features=auto, max_depth=5 \n",
      "[CV]  n_estimators=900, min_samples_split=6000, max_features=auto, max_depth=5, total= 2.9min\n",
      "[CV] n_estimators=500, min_samples_split=6000, max_features=auto, max_depth=30 \n",
      "[CV]  n_estimators=500, min_samples_split=6000, max_features=auto, max_depth=30, total= 1.9min\n",
      "[CV] n_estimators=500, min_samples_split=6000, max_features=auto, max_depth=30 \n",
      "[CV]  n_estimators=500, min_samples_split=6000, max_features=auto, max_depth=30, total= 1.9min\n",
      "[CV] n_estimators=500, min_samples_split=6000, max_features=auto, max_depth=30 \n",
      "[CV]  n_estimators=500, min_samples_split=6000, max_features=auto, max_depth=30, total= 2.0min\n",
      "[CV] n_estimators=500, min_samples_split=6000, max_features=auto, max_depth=30 \n",
      "[CV]  n_estimators=500, min_samples_split=6000, max_features=auto, max_depth=30, total= 2.1min\n",
      "[CV] n_estimators=500, min_samples_split=6000, max_features=auto, max_depth=30 \n",
      "[CV]  n_estimators=500, min_samples_split=6000, max_features=auto, max_depth=30, total= 2.0min\n",
      "[CV] n_estimators=700, min_samples_split=9000, max_features=auto, max_depth=15 \n",
      "[CV]  n_estimators=700, min_samples_split=9000, max_features=auto, max_depth=15, total= 2.4min\n",
      "[CV] n_estimators=700, min_samples_split=9000, max_features=auto, max_depth=15 \n",
      "[CV]  n_estimators=700, min_samples_split=9000, max_features=auto, max_depth=15, total= 2.4min\n",
      "[CV] n_estimators=700, min_samples_split=9000, max_features=auto, max_depth=15 \n",
      "[CV]  n_estimators=700, min_samples_split=9000, max_features=auto, max_depth=15, total= 2.5min\n",
      "[CV] n_estimators=700, min_samples_split=9000, max_features=auto, max_depth=15 \n",
      "[CV]  n_estimators=700, min_samples_split=9000, max_features=auto, max_depth=15, total= 2.4min\n",
      "[CV] n_estimators=700, min_samples_split=9000, max_features=auto, max_depth=15 \n",
      "[CV]  n_estimators=700, min_samples_split=9000, max_features=auto, max_depth=15, total= 2.7min\n",
      "[CV] n_estimators=800, min_samples_split=1000, max_features=auto, max_depth=5 \n",
      "[CV]  n_estimators=800, min_samples_split=1000, max_features=auto, max_depth=5, total= 2.6min\n",
      "[CV] n_estimators=800, min_samples_split=1000, max_features=auto, max_depth=5 \n",
      "[CV]  n_estimators=800, min_samples_split=1000, max_features=auto, max_depth=5, total= 2.6min\n",
      "[CV] n_estimators=800, min_samples_split=1000, max_features=auto, max_depth=5 \n",
      "[CV]  n_estimators=800, min_samples_split=1000, max_features=auto, max_depth=5, total= 2.5min\n",
      "[CV] n_estimators=800, min_samples_split=1000, max_features=auto, max_depth=5 \n",
      "[CV]  n_estimators=800, min_samples_split=1000, max_features=auto, max_depth=5, total= 2.7min\n",
      "[CV] n_estimators=800, min_samples_split=1000, max_features=auto, max_depth=5 \n",
      "[CV]  n_estimators=800, min_samples_split=1000, max_features=auto, max_depth=5, total= 3.5min\n",
      "[CV] n_estimators=300, min_samples_split=7000, max_features=sqrt, max_depth=15 \n",
      "[CV]  n_estimators=300, min_samples_split=7000, max_features=sqrt, max_depth=15, total= 1.3min\n",
      "[CV] n_estimators=300, min_samples_split=7000, max_features=sqrt, max_depth=15 \n",
      "[CV]  n_estimators=300, min_samples_split=7000, max_features=sqrt, max_depth=15, total=  59.7s\n",
      "[CV] n_estimators=300, min_samples_split=7000, max_features=sqrt, max_depth=15 \n",
      "[CV]  n_estimators=300, min_samples_split=7000, max_features=sqrt, max_depth=15, total=  57.1s\n",
      "[CV] n_estimators=300, min_samples_split=7000, max_features=sqrt, max_depth=15 \n",
      "[CV]  n_estimators=300, min_samples_split=7000, max_features=sqrt, max_depth=15, total=  58.2s\n",
      "[CV] n_estimators=300, min_samples_split=7000, max_features=sqrt, max_depth=15 \n",
      "[CV]  n_estimators=300, min_samples_split=7000, max_features=sqrt, max_depth=15, total= 1.1min\n",
      "[CV] n_estimators=600, min_samples_split=4000, max_features=sqrt, max_depth=5 \n",
      "[CV]  n_estimators=600, min_samples_split=4000, max_features=sqrt, max_depth=5, total= 1.8min\n",
      "[CV] n_estimators=600, min_samples_split=4000, max_features=sqrt, max_depth=5 \n",
      "[CV]  n_estimators=600, min_samples_split=4000, max_features=sqrt, max_depth=5, total= 2.2min\n",
      "[CV] n_estimators=600, min_samples_split=4000, max_features=sqrt, max_depth=5 \n",
      "[CV]  n_estimators=600, min_samples_split=4000, max_features=sqrt, max_depth=5, total= 2.5min\n",
      "[CV] n_estimators=600, min_samples_split=4000, max_features=sqrt, max_depth=5 \n",
      "[CV]  n_estimators=600, min_samples_split=4000, max_features=sqrt, max_depth=5, total= 2.7min\n",
      "[CV] n_estimators=600, min_samples_split=4000, max_features=sqrt, max_depth=5 \n"
     ]
    },
    {
     "name": "stdout",
     "output_type": "stream",
     "text": [
      "[CV]  n_estimators=600, min_samples_split=4000, max_features=sqrt, max_depth=5, total= 2.4min\n"
     ]
    },
    {
     "name": "stderr",
     "output_type": "stream",
     "text": [
      "[Parallel(n_jobs=1)]: Done  50 out of  50 | elapsed: 113.7min finished\n"
     ]
    },
    {
     "data": {
      "text/plain": [
       "RandomizedSearchCV(cv=5, error_score='raise-deprecating',\n",
       "                   estimator=RandomForestClassifier(bootstrap=True,\n",
       "                                                    class_weight=None,\n",
       "                                                    criterion='gini',\n",
       "                                                    max_depth=None,\n",
       "                                                    max_features='auto',\n",
       "                                                    max_leaf_nodes=None,\n",
       "                                                    min_impurity_decrease=0.0,\n",
       "                                                    min_impurity_split=None,\n",
       "                                                    min_samples_leaf=1,\n",
       "                                                    min_samples_split=2,\n",
       "                                                    min_weight_fraction_leaf=0.0,\n",
       "                                                    n_estimators='warn',\n",
       "                                                    n_jobs=None,\n",
       "                                                    oob_sc...\n",
       "                   iid='warn', n_iter=10, n_jobs=1,\n",
       "                   param_distributions={'max_depth': [5, 10, 15, 20, 25, 30],\n",
       "                                        'max_features': ['auto', 'sqrt'],\n",
       "                                        'min_samples_split': [1000, 2000, 3000,\n",
       "                                                              4000, 5000, 6000,\n",
       "                                                              7000, 8000, 9000,\n",
       "                                                              10000],\n",
       "                                        'n_estimators': [100, 200, 300, 400,\n",
       "                                                         500, 600, 700, 800,\n",
       "                                                         900, 1000, 1100,\n",
       "                                                         1200]},\n",
       "                   pre_dispatch='2*n_jobs', random_state=None, refit=True,\n",
       "                   return_train_score=False, scoring=None, verbose=2)"
      ]
     },
     "execution_count": 160,
     "metadata": {},
     "output_type": "execute_result"
    }
   ],
   "source": [
    "random_search.fit(X_train,Y_train)"
   ]
  },
  {
   "cell_type": "code",
   "execution_count": 162,
   "metadata": {
    "scrolled": true
   },
   "outputs": [
    {
     "data": {
      "text/plain": [
       "{'n_estimators': 700,\n",
       " 'min_samples_split': 4000,\n",
       " 'max_features': 'sqrt',\n",
       " 'max_depth': 20}"
      ]
     },
     "execution_count": 162,
     "metadata": {},
     "output_type": "execute_result"
    }
   ],
   "source": [
    "random_search.best_params_"
   ]
  },
  {
   "cell_type": "code",
   "execution_count": 366,
   "metadata": {},
   "outputs": [],
   "source": [
    "del rfc"
   ]
  },
  {
   "cell_type": "code",
   "execution_count": 148,
   "metadata": {},
   "outputs": [],
   "source": [
    "rfc = RandomForestClassifier(n_estimators=700,min_samples_split=4000,max_features='sqrt',max_depth=20)"
   ]
  },
  {
   "cell_type": "code",
   "execution_count": null,
   "metadata": {},
   "outputs": [],
   "source": [
    "rfc.fit(X_train,Y_train)"
   ]
  },
  {
   "cell_type": "code",
   "execution_count": null,
   "metadata": {},
   "outputs": [],
   "source": [
    "rfc.score(X_train,Y_train)"
   ]
  },
  {
   "cell_type": "code",
   "execution_count": null,
   "metadata": {},
   "outputs": [],
   "source": [
    "rfc.score(X_test,Y_test)"
   ]
  },
  {
   "cell_type": "code",
   "execution_count": null,
   "metadata": {},
   "outputs": [],
   "source": [
    "pred1 = rfc.predict(X_test)"
   ]
  },
  {
   "cell_type": "code",
   "execution_count": null,
   "metadata": {},
   "outputs": [],
   "source": [
    "roc_auc_score(Y_test,pred1)"
   ]
  },
  {
   "cell_type": "code",
   "execution_count": 171,
   "metadata": {},
   "outputs": [
    {
     "data": {
      "image/png": "[encoded data removed]",
      "text/plain": [
       "<Figure size 720x432 with 2 Axes>"
      ]
     },
     "metadata": {},
     "output_type": "display_data"
    }
   ],
   "source": [
    "plt.figure(figsize=(10,6))\n",
    "sns.heatmap(confusion_matrix(Y_test,pred1),annot=True,fmt='d',cmap='cool')\n",
    "plt.xlabel(\"ACTUAL\")\n",
    "plt.ylabel(\"PREDICTED\")\n",
    "plt.show()"
   ]
  },
  {
   "cell_type": "code",
   "execution_count": 172,
   "metadata": {},
   "outputs": [
    {
     "name": "stdout",
     "output_type": "stream",
     "text": [
      "PRECISION :  0.7158152617729788\n",
      "ACCURACY :  0.7553978435921933\n",
      "RECALL :  0.8540189445196211\n",
      "F1 SCORE :  0.7788335760298145\n"
     ]
    }
   ],
   "source": [
    "print(\"PRECISION : \",precision_score(Y_test,pred1))\n",
    "print(\"ACCURACY : \",accuracy_score(Y_test,pred1))\n",
    "print(\"RECALL : \",recall_score(Y_test,pred1))\n",
    "print(\"F1 SCORE : \",f1_score(Y_test,pred1))"
   ]
  },
  {
   "cell_type": "markdown",
   "metadata": {},
   "source": [
    "#### XG-BOOST"
   ]
  },
  {
   "cell_type": "code",
   "execution_count": 174,
   "metadata": {},
   "outputs": [],
   "source": [
    "import xgboost as xgb"
   ]
  },
  {
   "cell_type": "code",
   "execution_count": 186,
   "metadata": {},
   "outputs": [],
   "source": [
    "xgb_model = xgb.XGBClassifier()"
   ]
  },
  {
   "cell_type": "code",
   "execution_count": 187,
   "metadata": {},
   "outputs": [
    {
     "data": {
      "text/plain": [
       "XGBClassifier(base_score=0.5, booster='gbtree', colsample_bylevel=1,\n",
       "              colsample_bynode=1, colsample_bytree=1, gamma=0, gpu_id=-1,\n",
       "              importance_type='gain', interaction_constraints='',\n",
       "              learning_rate=0.300000012, max_delta_step=0, max_depth=6,\n",
       "              min_child_weight=1, missing=nan, monotone_constraints='()',\n",
       "              n_estimators=100, n_jobs=0, num_parallel_tree=1,\n",
       "              objective='binary:logistic', random_state=0, reg_alpha=0,\n",
       "              reg_lambda=1, scale_pos_weight=1, subsample=1,\n",
       "              tree_method='exact', validate_parameters=1, verbosity=None)"
      ]
     },
     "execution_count": 187,
     "metadata": {},
     "output_type": "execute_result"
    }
   ],
   "source": [
    "xgb_model.fit(X_train,Y_train)"
   ]
  },
  {
   "cell_type": "code",
   "execution_count": 190,
   "metadata": {},
   "outputs": [
    {
     "data": {
      "text/plain": [
       "0.8108532316070344"
      ]
     },
     "execution_count": 190,
     "metadata": {},
     "output_type": "execute_result"
    }
   ],
   "source": [
    "xgb_model.score(X_train,Y_train)"
   ]
  },
  {
   "cell_type": "code",
   "execution_count": 191,
   "metadata": {},
   "outputs": [
    {
     "data": {
      "text/plain": [
       "0.7957690732905691"
      ]
     },
     "execution_count": 191,
     "metadata": {},
     "output_type": "execute_result"
    }
   ],
   "source": [
    "xgb_model.score(X_test,Y_test)"
   ]
  },
  {
   "cell_type": "code",
   "execution_count": 192,
   "metadata": {},
   "outputs": [],
   "source": [
    "pred2 = xgb_model.predict(X_test)"
   ]
  },
  {
   "cell_type": "code",
   "execution_count": 193,
   "metadata": {},
   "outputs": [
    {
     "name": "stdout",
     "output_type": "stream",
     "text": [
      "Precision Score --->  0.7769157136379666\n",
      "Accuracy Score --->  0.7957690732905691\n",
      "Recall Score --->  0.8346955345060894\n",
      "F-1 Score --->  0.8047698570086631\n"
     ]
    }
   ],
   "source": [
    "print(\"Precision Score ---> \",precision_score(Y_test,pred2))\n",
    "print(\"Accuracy Score ---> \",accuracy_score(Y_test,pred2))\n",
    "print(\"Recall Score ---> \",recall_score(Y_test,pred2))\n",
    "print(\"F-1 Score ---> \",f1_score(Y_test,pred2))"
   ]
  },
  {
   "cell_type": "markdown",
   "metadata": {},
   "source": [
    "###### Hyper-Parameter Tuning"
   ]
  },
  {
   "cell_type": "code",
   "execution_count": 1,
   "metadata": {},
   "outputs": [],
   "source": [
    "from sklearn.model_selection import RandomizedSearchCV"
   ]
  },
  {
   "cell_type": "code",
   "execution_count": null,
   "metadata": {},
   "outputs": [],
   "source": []
  },
  {
   "cell_type": "code",
   "execution_count": null,
   "metadata": {},
   "outputs": [],
   "source": []
  },
  {
   "cell_type": "code",
   "execution_count": null,
   "metadata": {},
   "outputs": [],
   "source": []
  },
  {
   "cell_type": "code",
   "execution_count": 194,
   "metadata": {},
   "outputs": [
    {
     "data": {
      "image/png": "[encoded data removed]",
      "text/plain": [
       "<Figure size 720x432 with 2 Axes>"
      ]
     },
     "metadata": {},
     "output_type": "display_data"
    }
   ],
   "source": [
    "plt.figure(figsize=(10,6))\n",
    "sns.heatmap(confusion_matrix(Y_test,pred2),annot=True,fmt='d',cmap='cool')\n",
    "plt.xlabel(\"ACTUAL\")\n",
    "plt.ylabel(\"PREDICTED\")\n",
    "plt.show()"
   ]
  },
  {
   "cell_type": "code",
   "execution_count": null,
   "metadata": {},
   "outputs": [],
   "source": []
  },
  {
   "cell_type": "markdown",
   "metadata": {},
   "source": [
    "##### COMPARASION OF RESULTS OF ALL MODELS"
   ]
  },
  {
   "cell_type": "code",
   "execution_count": 195,
   "metadata": {},
   "outputs": [
    {
     "name": "stdout",
     "output_type": "stream",
     "text": [
      "FOR LOGISTIC REGRESSION --- \n",
      "\n",
      "\n",
      "Precision Score --->  0.6940660851630645\n",
      "Accuracy Score --->  0.7422683226422819\n",
      "Recall Score --->  0.8743166441136672\n",
      "F-1 Score --->  0.7738334770527929\n",
      "\n",
      "\n",
      "\n",
      " FOR RANDOMFOREST REGRESSOR --- \n",
      "\n",
      "\n",
      "PRECISION :  0.7158152617729788\n",
      "ACCURACY :  0.7553978435921933\n",
      "RECALL :  0.8540189445196211\n",
      "F1 SCORE :  0.7788335760298145\n",
      "\n",
      "\n",
      "\n",
      " FOR XG-BOOST --- \n",
      "\n",
      "\n",
      "Precision Score --->  0.7769157136379666\n",
      "Accuracy Score --->  0.7957690732905691\n",
      "Recall Score --->  0.8346955345060894\n",
      "F-1 Score --->  0.8047698570086631\n"
     ]
    }
   ],
   "source": [
    "print(\"FOR LOGISTIC REGRESSION --- \\n\\n\")\n",
    "print(\"Precision Score ---> \",precision_score(Y_test,pred))\n",
    "print(\"Accuracy Score ---> \",accuracy_score(Y_test,pred))\n",
    "print(\"Recall Score ---> \",recall_score(Y_test,pred))\n",
    "print(\"F-1 Score ---> \",f1_score(Y_test,pred))\n",
    "\n",
    "print(\"\\n\\n\\n FOR RANDOMFOREST REGRESSOR --- \\n\\n\")\n",
    "print(\"PRECISION : \",precision_score(Y_test,pred1))\n",
    "print(\"ACCURACY : \",accuracy_score(Y_test,pred1))\n",
    "print(\"RECALL : \",recall_score(Y_test,pred1))\n",
    "print(\"F1 SCORE : \",f1_score(Y_test,pred1))\n",
    "\n",
    "print(\"\\n\\n\\n FOR XG-BOOST --- \\n\\n\")\n",
    "print(\"Precision Score ---> \",precision_score(Y_test,pred2))\n",
    "print(\"Accuracy Score ---> \",accuracy_score(Y_test,pred2))\n",
    "print(\"Recall Score ---> \",recall_score(Y_test,pred2))\n",
    "print(\"F-1 Score ---> \",f1_score(Y_test,pred2))"
   ]
  },
  {
   "cell_type": "code",
   "execution_count": null,
   "metadata": {},
   "outputs": [],
   "source": []
  }
 ],
 "metadata": {
  "kernelspec": {
   "display_name": "Python 3",
   "language": "python",
   "name": "python3"
  },
  "language_info": {
   "codemirror_mode": {
    "name": "ipython",
    "version": 3
   },
   "file_extension": ".py",
   "mimetype": "text/x-python",
   "name": "python",
   "nbconvert_exporter": "python",
   "pygments_lexer": "ipython3",
   "version": "3.8.8"
  }
 },
 "nbformat": 4,
 "nbformat_minor": 2
}
